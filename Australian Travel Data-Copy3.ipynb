{
 "cells": [
  {
   "cell_type": "code",
   "execution_count": 1,
   "metadata": {},
   "outputs": [],
   "source": [
    "import pandas as pd"
   ]
  },
  {
   "cell_type": "code",
   "execution_count": 2,
   "metadata": {},
   "outputs": [],
   "source": [
    "df = pd.read_csv(\"Australian_Travel_Survey_Data.csv\")"
   ]
  },
  {
   "cell_type": "code",
   "execution_count": 3,
   "metadata": {
    "scrolled": false
   },
   "outputs": [
    {
     "name": "stdout",
     "output_type": "stream",
     "text": [
      "<class 'pandas.core.frame.DataFrame'>\n",
      "RangeIndex: 41544 entries, 0 to 41543\n",
      "Data columns (total 17 columns):\n",
      " #   Column              Non-Null Count  Dtype \n",
      "---  ------              --------------  ----- \n",
      " 0   PERSONID            41544 non-null  object\n",
      " 1   AGE                 41544 non-null  int64 \n",
      " 2   GENDER              41544 non-null  int64 \n",
      " 3   ANYWORK             41544 non-null  int64 \n",
      " 4   CARLICENCE          41544 non-null  int64 \n",
      " 5   HHSTRUCTURE         41544 non-null  int64 \n",
      " 6   HH_CARS             41544 non-null  int64 \n",
      " 7   HHINC_grp           41544 non-null  int64 \n",
      " 8   SA1_code            41544 non-null  int64 \n",
      " 9   PopDensity_SA1      41544 non-null  int64 \n",
      " 10  SA2_code            41544 non-null  int64 \n",
      " 11  PopDensity_SA2      41544 non-null  int64 \n",
      " 12  SA3_code            41544 non-null  int64 \n",
      " 13  PopDensity_SA3      41544 non-null  int64 \n",
      " 14  STATE               41544 non-null  object\n",
      " 15  ACTIVE_TRAVEL_TIME  41544 non-null  int64 \n",
      " 16  CAR_TIME            41544 non-null  int64 \n",
      "dtypes: int64(15), object(2)\n",
      "memory usage: 5.4+ MB\n"
     ]
    }
   ],
   "source": [
    "df.info()"
   ]
  },
  {
   "cell_type": "code",
   "execution_count": 4,
   "metadata": {},
   "outputs": [
    {
     "data": {
      "text/plain": [
       "(41544, 17)"
      ]
     },
     "execution_count": 4,
     "metadata": {},
     "output_type": "execute_result"
    }
   ],
   "source": [
    "df.shape"
   ]
  },
  {
   "cell_type": "code",
   "execution_count": 5,
   "metadata": {
    "scrolled": true
   },
   "outputs": [
    {
     "data": {
      "text/html": [
       "<div>\n",
       "<style scoped>\n",
       "    .dataframe tbody tr th:only-of-type {\n",
       "        vertical-align: middle;\n",
       "    }\n",
       "\n",
       "    .dataframe tbody tr th {\n",
       "        vertical-align: top;\n",
       "    }\n",
       "\n",
       "    .dataframe thead th {\n",
       "        text-align: right;\n",
       "    }\n",
       "</style>\n",
       "<table border=\"1\" class=\"dataframe\">\n",
       "  <thead>\n",
       "    <tr style=\"text-align: right;\">\n",
       "      <th></th>\n",
       "      <th>AGE</th>\n",
       "      <th>GENDER</th>\n",
       "      <th>ANYWORK</th>\n",
       "      <th>CARLICENCE</th>\n",
       "      <th>HHSTRUCTURE</th>\n",
       "      <th>HH_CARS</th>\n",
       "      <th>HHINC_grp</th>\n",
       "      <th>SA1_code</th>\n",
       "      <th>PopDensity_SA1</th>\n",
       "      <th>SA2_code</th>\n",
       "      <th>PopDensity_SA2</th>\n",
       "      <th>SA3_code</th>\n",
       "      <th>PopDensity_SA3</th>\n",
       "      <th>ACTIVE_TRAVEL_TIME</th>\n",
       "      <th>CAR_TIME</th>\n",
       "    </tr>\n",
       "  </thead>\n",
       "  <tbody>\n",
       "    <tr>\n",
       "      <th>count</th>\n",
       "      <td>41544.000000</td>\n",
       "      <td>41544.000000</td>\n",
       "      <td>41544.000000</td>\n",
       "      <td>41544.000000</td>\n",
       "      <td>41544.000000</td>\n",
       "      <td>41544.00000</td>\n",
       "      <td>41544.000000</td>\n",
       "      <td>4.154400e+04</td>\n",
       "      <td>41544.000000</td>\n",
       "      <td>41544.000000</td>\n",
       "      <td>41544.000000</td>\n",
       "      <td>41544.000000</td>\n",
       "      <td>41544.000000</td>\n",
       "      <td>41544.000000</td>\n",
       "      <td>41544.000000</td>\n",
       "    </tr>\n",
       "    <tr>\n",
       "      <th>mean</th>\n",
       "      <td>46.517740</td>\n",
       "      <td>1.520075</td>\n",
       "      <td>1.250963</td>\n",
       "      <td>1.051849</td>\n",
       "      <td>2.754598</td>\n",
       "      <td>1.57681</td>\n",
       "      <td>3.394714</td>\n",
       "      <td>2.518296e+06</td>\n",
       "      <td>2188.499759</td>\n",
       "      <td>25182.782231</td>\n",
       "      <td>1377.119753</td>\n",
       "      <td>24860.395845</td>\n",
       "      <td>1097.370451</td>\n",
       "      <td>8.159831</td>\n",
       "      <td>60.881331</td>\n",
       "    </tr>\n",
       "    <tr>\n",
       "      <th>std</th>\n",
       "      <td>16.209853</td>\n",
       "      <td>0.499603</td>\n",
       "      <td>0.433572</td>\n",
       "      <td>0.221724</td>\n",
       "      <td>1.064028</td>\n",
       "      <td>0.56639</td>\n",
       "      <td>1.361040</td>\n",
       "      <td>4.922805e+05</td>\n",
       "      <td>2231.719887</td>\n",
       "      <td>4922.826765</td>\n",
       "      <td>1229.665154</td>\n",
       "      <td>4981.928787</td>\n",
       "      <td>1068.607221</td>\n",
       "      <td>21.057916</td>\n",
       "      <td>57.498221</td>\n",
       "    </tr>\n",
       "    <tr>\n",
       "      <th>min</th>\n",
       "      <td>18.000000</td>\n",
       "      <td>1.000000</td>\n",
       "      <td>1.000000</td>\n",
       "      <td>1.000000</td>\n",
       "      <td>1.000000</td>\n",
       "      <td>0.00000</td>\n",
       "      <td>1.000000</td>\n",
       "      <td>2.100106e+06</td>\n",
       "      <td>1.000000</td>\n",
       "      <td>21001.000000</td>\n",
       "      <td>1.000000</td>\n",
       "      <td>20101.000000</td>\n",
       "      <td>1.000000</td>\n",
       "      <td>0.000000</td>\n",
       "      <td>0.000000</td>\n",
       "    </tr>\n",
       "    <tr>\n",
       "      <th>25%</th>\n",
       "      <td>34.000000</td>\n",
       "      <td>1.000000</td>\n",
       "      <td>1.000000</td>\n",
       "      <td>1.000000</td>\n",
       "      <td>2.000000</td>\n",
       "      <td>1.00000</td>\n",
       "      <td>2.000000</td>\n",
       "      <td>2.117014e+06</td>\n",
       "      <td>1082.000000</td>\n",
       "      <td>21170.000000</td>\n",
       "      <td>308.000000</td>\n",
       "      <td>20801.000000</td>\n",
       "      <td>189.000000</td>\n",
       "      <td>0.000000</td>\n",
       "      <td>20.000000</td>\n",
       "    </tr>\n",
       "    <tr>\n",
       "      <th>50%</th>\n",
       "      <td>46.000000</td>\n",
       "      <td>2.000000</td>\n",
       "      <td>1.000000</td>\n",
       "      <td>1.000000</td>\n",
       "      <td>3.000000</td>\n",
       "      <td>2.00000</td>\n",
       "      <td>4.000000</td>\n",
       "      <td>2.133601e+06</td>\n",
       "      <td>2070.000000</td>\n",
       "      <td>21336.000000</td>\n",
       "      <td>1161.000000</td>\n",
       "      <td>21301.000000</td>\n",
       "      <td>723.000000</td>\n",
       "      <td>0.000000</td>\n",
       "      <td>46.000000</td>\n",
       "    </tr>\n",
       "    <tr>\n",
       "      <th>75%</th>\n",
       "      <td>58.000000</td>\n",
       "      <td>2.000000</td>\n",
       "      <td>2.000000</td>\n",
       "      <td>1.000000</td>\n",
       "      <td>3.000000</td>\n",
       "      <td>2.00000</td>\n",
       "      <td>5.000000</td>\n",
       "      <td>3.124304e+06</td>\n",
       "      <td>2901.000000</td>\n",
       "      <td>31243.000000</td>\n",
       "      <td>2094.000000</td>\n",
       "      <td>30905.000000</td>\n",
       "      <td>1725.000000</td>\n",
       "      <td>0.000000</td>\n",
       "      <td>83.000000</td>\n",
       "    </tr>\n",
       "    <tr>\n",
       "      <th>max</th>\n",
       "      <td>100.000000</td>\n",
       "      <td>2.000000</td>\n",
       "      <td>2.000000</td>\n",
       "      <td>2.000000</td>\n",
       "      <td>5.000000</td>\n",
       "      <td>2.00000</td>\n",
       "      <td>5.000000</td>\n",
       "      <td>3.144428e+06</td>\n",
       "      <td>158817.000000</td>\n",
       "      <td>31444.000000</td>\n",
       "      <td>8458.000000</td>\n",
       "      <td>31606.000000</td>\n",
       "      <td>4504.000000</td>\n",
       "      <td>495.000000</td>\n",
       "      <td>780.000000</td>\n",
       "    </tr>\n",
       "  </tbody>\n",
       "</table>\n",
       "</div>"
      ],
      "text/plain": [
       "                AGE        GENDER       ANYWORK    CARLICENCE   HHSTRUCTURE  \\\n",
       "count  41544.000000  41544.000000  41544.000000  41544.000000  41544.000000   \n",
       "mean      46.517740      1.520075      1.250963      1.051849      2.754598   \n",
       "std       16.209853      0.499603      0.433572      0.221724      1.064028   \n",
       "min       18.000000      1.000000      1.000000      1.000000      1.000000   \n",
       "25%       34.000000      1.000000      1.000000      1.000000      2.000000   \n",
       "50%       46.000000      2.000000      1.000000      1.000000      3.000000   \n",
       "75%       58.000000      2.000000      2.000000      1.000000      3.000000   \n",
       "max      100.000000      2.000000      2.000000      2.000000      5.000000   \n",
       "\n",
       "           HH_CARS     HHINC_grp      SA1_code  PopDensity_SA1      SA2_code  \\\n",
       "count  41544.00000  41544.000000  4.154400e+04    41544.000000  41544.000000   \n",
       "mean       1.57681      3.394714  2.518296e+06     2188.499759  25182.782231   \n",
       "std        0.56639      1.361040  4.922805e+05     2231.719887   4922.826765   \n",
       "min        0.00000      1.000000  2.100106e+06        1.000000  21001.000000   \n",
       "25%        1.00000      2.000000  2.117014e+06     1082.000000  21170.000000   \n",
       "50%        2.00000      4.000000  2.133601e+06     2070.000000  21336.000000   \n",
       "75%        2.00000      5.000000  3.124304e+06     2901.000000  31243.000000   \n",
       "max        2.00000      5.000000  3.144428e+06   158817.000000  31444.000000   \n",
       "\n",
       "       PopDensity_SA2      SA3_code  PopDensity_SA3  ACTIVE_TRAVEL_TIME  \\\n",
       "count    41544.000000  41544.000000    41544.000000        41544.000000   \n",
       "mean      1377.119753  24860.395845     1097.370451            8.159831   \n",
       "std       1229.665154   4981.928787     1068.607221           21.057916   \n",
       "min          1.000000  20101.000000        1.000000            0.000000   \n",
       "25%        308.000000  20801.000000      189.000000            0.000000   \n",
       "50%       1161.000000  21301.000000      723.000000            0.000000   \n",
       "75%       2094.000000  30905.000000     1725.000000            0.000000   \n",
       "max       8458.000000  31606.000000     4504.000000          495.000000   \n",
       "\n",
       "           CAR_TIME  \n",
       "count  41544.000000  \n",
       "mean      60.881331  \n",
       "std       57.498221  \n",
       "min        0.000000  \n",
       "25%       20.000000  \n",
       "50%       46.000000  \n",
       "75%       83.000000  \n",
       "max      780.000000  "
      ]
     },
     "execution_count": 5,
     "metadata": {},
     "output_type": "execute_result"
    }
   ],
   "source": [
    "df.describe()"
   ]
  },
  {
   "cell_type": "code",
   "execution_count": 6,
   "metadata": {
    "scrolled": true
   },
   "outputs": [
    {
     "data": {
      "text/html": [
       "<div>\n",
       "<style scoped>\n",
       "    .dataframe tbody tr th:only-of-type {\n",
       "        vertical-align: middle;\n",
       "    }\n",
       "\n",
       "    .dataframe tbody tr th {\n",
       "        vertical-align: top;\n",
       "    }\n",
       "\n",
       "    .dataframe thead th {\n",
       "        text-align: right;\n",
       "    }\n",
       "</style>\n",
       "<table border=\"1\" class=\"dataframe\">\n",
       "  <thead>\n",
       "    <tr style=\"text-align: right;\">\n",
       "      <th></th>\n",
       "      <th>PERSONID</th>\n",
       "      <th>AGE</th>\n",
       "      <th>GENDER</th>\n",
       "      <th>ANYWORK</th>\n",
       "      <th>CARLICENCE</th>\n",
       "      <th>HHSTRUCTURE</th>\n",
       "      <th>HH_CARS</th>\n",
       "      <th>HHINC_grp</th>\n",
       "      <th>SA1_code</th>\n",
       "      <th>PopDensity_SA1</th>\n",
       "      <th>SA2_code</th>\n",
       "      <th>PopDensity_SA2</th>\n",
       "      <th>SA3_code</th>\n",
       "      <th>PopDensity_SA3</th>\n",
       "      <th>STATE</th>\n",
       "      <th>ACTIVE_TRAVEL_TIME</th>\n",
       "      <th>CAR_TIME</th>\n",
       "    </tr>\n",
       "  </thead>\n",
       "  <tbody>\n",
       "    <tr>\n",
       "      <th>0</th>\n",
       "      <td>Y09H151315P01</td>\n",
       "      <td>40</td>\n",
       "      <td>2</td>\n",
       "      <td>1</td>\n",
       "      <td>1</td>\n",
       "      <td>4</td>\n",
       "      <td>0</td>\n",
       "      <td>1</td>\n",
       "      <td>2100106</td>\n",
       "      <td>1500</td>\n",
       "      <td>21001</td>\n",
       "      <td>158</td>\n",
       "      <td>20101</td>\n",
       "      <td>213</td>\n",
       "      <td>Victoria</td>\n",
       "      <td>0</td>\n",
       "      <td>35</td>\n",
       "    </tr>\n",
       "    <tr>\n",
       "      <th>1</th>\n",
       "      <td>Y09H151324P01</td>\n",
       "      <td>73</td>\n",
       "      <td>1</td>\n",
       "      <td>2</td>\n",
       "      <td>1</td>\n",
       "      <td>2</td>\n",
       "      <td>1</td>\n",
       "      <td>1</td>\n",
       "      <td>2100108</td>\n",
       "      <td>703</td>\n",
       "      <td>21001</td>\n",
       "      <td>158</td>\n",
       "      <td>20101</td>\n",
       "      <td>213</td>\n",
       "      <td>Victoria</td>\n",
       "      <td>0</td>\n",
       "      <td>100</td>\n",
       "    </tr>\n",
       "    <tr>\n",
       "      <th>2</th>\n",
       "      <td>Y09H151340P01</td>\n",
       "      <td>85</td>\n",
       "      <td>2</td>\n",
       "      <td>2</td>\n",
       "      <td>1</td>\n",
       "      <td>1</td>\n",
       "      <td>1</td>\n",
       "      <td>1</td>\n",
       "      <td>2100108</td>\n",
       "      <td>703</td>\n",
       "      <td>21001</td>\n",
       "      <td>158</td>\n",
       "      <td>20101</td>\n",
       "      <td>213</td>\n",
       "      <td>Victoria</td>\n",
       "      <td>0</td>\n",
       "      <td>35</td>\n",
       "    </tr>\n",
       "    <tr>\n",
       "      <th>3</th>\n",
       "      <td>Y09H151329P01</td>\n",
       "      <td>34</td>\n",
       "      <td>2</td>\n",
       "      <td>1</td>\n",
       "      <td>1</td>\n",
       "      <td>3</td>\n",
       "      <td>1</td>\n",
       "      <td>3</td>\n",
       "      <td>2100108</td>\n",
       "      <td>703</td>\n",
       "      <td>21001</td>\n",
       "      <td>158</td>\n",
       "      <td>20101</td>\n",
       "      <td>213</td>\n",
       "      <td>Victoria</td>\n",
       "      <td>0</td>\n",
       "      <td>79</td>\n",
       "    </tr>\n",
       "    <tr>\n",
       "      <th>4</th>\n",
       "      <td>Y09H151325P01</td>\n",
       "      <td>68</td>\n",
       "      <td>1</td>\n",
       "      <td>2</td>\n",
       "      <td>1</td>\n",
       "      <td>3</td>\n",
       "      <td>2</td>\n",
       "      <td>3</td>\n",
       "      <td>2100108</td>\n",
       "      <td>703</td>\n",
       "      <td>21001</td>\n",
       "      <td>158</td>\n",
       "      <td>20101</td>\n",
       "      <td>213</td>\n",
       "      <td>Victoria</td>\n",
       "      <td>0</td>\n",
       "      <td>97</td>\n",
       "    </tr>\n",
       "  </tbody>\n",
       "</table>\n",
       "</div>"
      ],
      "text/plain": [
       "        PERSONID  AGE  GENDER  ANYWORK  CARLICENCE  HHSTRUCTURE  HH_CARS  \\\n",
       "0  Y09H151315P01   40       2        1           1            4        0   \n",
       "1  Y09H151324P01   73       1        2           1            2        1   \n",
       "2  Y09H151340P01   85       2        2           1            1        1   \n",
       "3  Y09H151329P01   34       2        1           1            3        1   \n",
       "4  Y09H151325P01   68       1        2           1            3        2   \n",
       "\n",
       "   HHINC_grp  SA1_code  PopDensity_SA1  SA2_code  PopDensity_SA2  SA3_code  \\\n",
       "0          1   2100106            1500     21001             158     20101   \n",
       "1          1   2100108             703     21001             158     20101   \n",
       "2          1   2100108             703     21001             158     20101   \n",
       "3          3   2100108             703     21001             158     20101   \n",
       "4          3   2100108             703     21001             158     20101   \n",
       "\n",
       "   PopDensity_SA3     STATE  ACTIVE_TRAVEL_TIME  CAR_TIME  \n",
       "0             213  Victoria                   0        35  \n",
       "1             213  Victoria                   0       100  \n",
       "2             213  Victoria                   0        35  \n",
       "3             213  Victoria                   0        79  \n",
       "4             213  Victoria                   0        97  "
      ]
     },
     "execution_count": 6,
     "metadata": {},
     "output_type": "execute_result"
    }
   ],
   "source": [
    "df.head()"
   ]
  },
  {
   "cell_type": "code",
   "execution_count": 7,
   "metadata": {
    "scrolled": true
   },
   "outputs": [
    {
     "data": {
      "text/plain": [
       "PERSONID              False\n",
       "AGE                   False\n",
       "GENDER                False\n",
       "ANYWORK               False\n",
       "CARLICENCE            False\n",
       "HHSTRUCTURE           False\n",
       "HH_CARS               False\n",
       "HHINC_grp             False\n",
       "SA1_code              False\n",
       "PopDensity_SA1        False\n",
       "SA2_code              False\n",
       "PopDensity_SA2        False\n",
       "SA3_code              False\n",
       "PopDensity_SA3        False\n",
       "STATE                 False\n",
       "ACTIVE_TRAVEL_TIME    False\n",
       "CAR_TIME              False\n",
       "dtype: bool"
      ]
     },
     "execution_count": 7,
     "metadata": {},
     "output_type": "execute_result"
    }
   ],
   "source": [
    "df.isnull().any()"
   ]
  },
  {
   "cell_type": "markdown",
   "metadata": {},
   "source": [
    "## Dropping Columns"
   ]
  },
  {
   "cell_type": "code",
   "execution_count": 8,
   "metadata": {},
   "outputs": [
    {
     "data": {
      "text/plain": [
       "Index(['PERSONID', 'AGE', 'GENDER', 'ANYWORK', 'CARLICENCE', 'HHSTRUCTURE',\n",
       "       'HH_CARS', 'HHINC_grp', 'SA1_code', 'PopDensity_SA1', 'SA2_code',\n",
       "       'PopDensity_SA2', 'SA3_code', 'PopDensity_SA3', 'STATE',\n",
       "       'ACTIVE_TRAVEL_TIME', 'CAR_TIME'],\n",
       "      dtype='object')"
      ]
     },
     "execution_count": 8,
     "metadata": {},
     "output_type": "execute_result"
    }
   ],
   "source": [
    "df.columns"
   ]
  },
  {
   "cell_type": "code",
   "execution_count": 9,
   "metadata": {},
   "outputs": [],
   "source": [
    "df = df.drop(['PERSONID','ANYWORK','CARLICENCE','HHSTRUCTURE','HHINC_grp',],axis = 1)"
   ]
  },
  {
   "cell_type": "code",
   "execution_count": 10,
   "metadata": {},
   "outputs": [
    {
     "data": {
      "text/plain": [
       "Index(['AGE', 'GENDER', 'HH_CARS', 'SA1_code', 'PopDensity_SA1', 'SA2_code',\n",
       "       'PopDensity_SA2', 'SA3_code', 'PopDensity_SA3', 'STATE',\n",
       "       'ACTIVE_TRAVEL_TIME', 'CAR_TIME'],\n",
       "      dtype='object')"
      ]
     },
     "execution_count": 10,
     "metadata": {},
     "output_type": "execute_result"
    }
   ],
   "source": [
    "df.columns"
   ]
  },
  {
   "cell_type": "code",
   "execution_count": 11,
   "metadata": {},
   "outputs": [],
   "source": [
    "%matplotlib inline\n",
    "import matplotlib.pyplot as plt\n",
    "import seaborn as sns; sns.set()  # for plot styling\n",
    "import numpy as np"
   ]
  },
  {
   "cell_type": "code",
   "execution_count": 12,
   "metadata": {
    "scrolled": true
   },
   "outputs": [
    {
     "data": {
      "text/plain": [
       "Index(['AGE', 'GENDER', 'HH_CARS', 'SA1_code', 'PopDensity_SA1', 'SA2_code',\n",
       "       'PopDensity_SA2', 'SA3_code', 'PopDensity_SA3', 'STATE',\n",
       "       'ACTIVE_TRAVEL_TIME', 'CAR_TIME'],\n",
       "      dtype='object')"
      ]
     },
     "execution_count": 12,
     "metadata": {},
     "output_type": "execute_result"
    }
   ],
   "source": [
    "df.columns"
   ]
  },
  {
   "cell_type": "code",
   "execution_count": 13,
   "metadata": {},
   "outputs": [
    {
     "name": "stdout",
     "output_type": "stream",
     "text": [
      "   GENDER        AGE\n",
      "0       1  47.040676\n",
      "1       2  46.035175\n"
     ]
    }
   ],
   "source": [
    "# 1 is for the MALE and 2 is for FEMALE\n",
    "# Trying to get the mean age based on the gender\n",
    "\n",
    "\n",
    "print(df[['GENDER','AGE']].groupby(['GENDER'], as_index = False).mean().sort_values(by = 'AGE', ascending = False))"
   ]
  },
  {
   "cell_type": "code",
   "execution_count": 14,
   "metadata": {
    "scrolled": true
   },
   "outputs": [
    {
     "data": {
      "text/plain": [
       "<seaborn.axisgrid.FacetGrid at 0x20a70125b08>"
      ]
     },
     "execution_count": 14,
     "metadata": {},
     "output_type": "execute_result"
    },
    {
     "data": {
      "image/png": "[encoded data removed]",
      "text/plain": [
       "<Figure size 432x216 with 2 Axes>"
      ]
     },
     "metadata": {},
     "output_type": "display_data"
    }
   ],
   "source": [
    "viz1 = sns.FacetGrid(df, col = 'GENDER')\n",
    "viz1.map(plt.hist, 'AGE')"
   ]
  },
  {
   "cell_type": "code",
   "execution_count": 15,
   "metadata": {
    "scrolled": false
   },
   "outputs": [
    {
     "data": {
      "text/plain": [
       "<seaborn.axisgrid.FacetGrid at 0x20a708d9fc8>"
      ]
     },
     "execution_count": 15,
     "metadata": {},
     "output_type": "execute_result"
    },
    {
     "data": {
      "image/png": "[encoded data removed]",
      "text/plain": [
       "<Figure size 360x360 with 1 Axes>"
      ]
     },
     "metadata": {},
     "output_type": "display_data"
    }
   ],
   "source": [
    "#sns.set(style = \"darkgrid\")\n",
    "sns.relplot(x = \"AGE\",y = \"CAR_TIME\", data = df, kind = \"line\")"
   ]
  },
  {
   "cell_type": "code",
   "execution_count": 16,
   "metadata": {},
   "outputs": [
    {
     "data": {
      "text/plain": [
       "array(['Victoria', 'Queensland'], dtype=object)"
      ]
     },
     "execution_count": 16,
     "metadata": {},
     "output_type": "execute_result"
    }
   ],
   "source": [
    "df['STATE'].unique()"
   ]
  },
  {
   "cell_type": "code",
   "execution_count": 17,
   "metadata": {},
   "outputs": [],
   "source": [
    "# IS USING MEAN HERE GOOD????"
   ]
  },
  {
   "cell_type": "code",
   "execution_count": 18,
   "metadata": {},
   "outputs": [
    {
     "name": "stdout",
     "output_type": "stream",
     "text": [
      "        STATE  ACTIVE_TRAVEL_TIME\n",
      "0  Queensland            6.586771\n",
      "1    Victoria            9.189367\n"
     ]
    }
   ],
   "source": [
    "print(df[['STATE','ACTIVE_TRAVEL_TIME']].groupby(['STATE'], as_index = False).mean())"
   ]
  },
  {
   "cell_type": "code",
   "execution_count": 19,
   "metadata": {
    "scrolled": true
   },
   "outputs": [
    {
     "data": {
      "text/plain": [
       "<matplotlib.axes._subplots.AxesSubplot at 0x20a7094eb08>"
      ]
     },
     "execution_count": 19,
     "metadata": {},
     "output_type": "execute_result"
    },
    {
     "data": {
      "image/png": "[encoded data removed]",
      "text/plain": [
       "<Figure size 432x288 with 1 Axes>"
      ]
     },
     "metadata": {},
     "output_type": "display_data"
    }
   ],
   "source": [
    "sns.barplot(x = \"STATE\" ,y = \"ACTIVE_TRAVEL_TIME\", data = df)"
   ]
  },
  {
   "cell_type": "code",
   "execution_count": 20,
   "metadata": {
    "scrolled": true
   },
   "outputs": [
    {
     "data": {
      "text/plain": [
       "<matplotlib.axes._subplots.AxesSubplot at 0x20a7095c748>"
      ]
     },
     "execution_count": 20,
     "metadata": {},
     "output_type": "execute_result"
    },
    {
     "data": {
      "image/png": "[encoded data removed]",
      "text/plain": [
       "<Figure size 432x288 with 1 Axes>"
      ]
     },
     "metadata": {},
     "output_type": "display_data"
    }
   ],
   "source": [
    "sns.barplot(x = \"STATE\" ,y = \"CAR_TIME\", data = df)"
   ]
  },
  {
   "cell_type": "markdown",
   "metadata": {},
   "source": [
    "## LET's Look into Statistical AREA"
   ]
  },
  {
   "cell_type": "code",
   "execution_count": 21,
   "metadata": {},
   "outputs": [],
   "source": [
    "#SA1"
   ]
  },
  {
   "cell_type": "code",
   "execution_count": 22,
   "metadata": {},
   "outputs": [
    {
     "data": {
      "text/plain": [
       "3562"
      ]
     },
     "execution_count": 22,
     "metadata": {},
     "output_type": "execute_result"
    }
   ],
   "source": [
    "len(df['SA1_code'].unique())"
   ]
  },
  {
   "cell_type": "code",
   "execution_count": 23,
   "metadata": {
    "scrolled": false
   },
   "outputs": [
    {
     "data": {
      "text/plain": [
       "array([1500,  703, 1874, ..., 1148,   46,  736], dtype=int64)"
      ]
     },
     "execution_count": 23,
     "metadata": {},
     "output_type": "execute_result"
    }
   ],
   "source": [
    "df['PopDensity_SA1'].unique()"
   ]
  },
  {
   "cell_type": "code",
   "execution_count": 24,
   "metadata": {},
   "outputs": [],
   "source": [
    "from sklearn.cluster import KMeans\n",
    "from sklearn.preprocessing import LabelEncoder\n",
    "from sklearn.preprocessing import MinMaxScaler"
   ]
  },
  {
   "cell_type": "code",
   "execution_count": 25,
   "metadata": {
    "scrolled": false
   },
   "outputs": [
    {
     "name": "stdout",
     "output_type": "stream",
     "text": [
      "<class 'pandas.core.frame.DataFrame'>\n",
      "RangeIndex: 41544 entries, 0 to 41543\n",
      "Data columns (total 12 columns):\n",
      " #   Column              Non-Null Count  Dtype \n",
      "---  ------              --------------  ----- \n",
      " 0   AGE                 41544 non-null  int64 \n",
      " 1   GENDER              41544 non-null  int64 \n",
      " 2   HH_CARS             41544 non-null  int64 \n",
      " 3   SA1_code            41544 non-null  int64 \n",
      " 4   PopDensity_SA1      41544 non-null  int64 \n",
      " 5   SA2_code            41544 non-null  int64 \n",
      " 6   PopDensity_SA2      41544 non-null  int64 \n",
      " 7   SA3_code            41544 non-null  int64 \n",
      " 8   PopDensity_SA3      41544 non-null  int64 \n",
      " 9   STATE               41544 non-null  object\n",
      " 10  ACTIVE_TRAVEL_TIME  41544 non-null  int64 \n",
      " 11  CAR_TIME            41544 non-null  int64 \n",
      "dtypes: int64(11), object(1)\n",
      "memory usage: 3.8+ MB\n"
     ]
    }
   ],
   "source": [
    "df.info()"
   ]
  },
  {
   "cell_type": "code",
   "execution_count": 26,
   "metadata": {},
   "outputs": [],
   "source": [
    "# ENCODIN THE \"STATE\""
   ]
  },
  {
   "cell_type": "code",
   "execution_count": 27,
   "metadata": {},
   "outputs": [],
   "source": [
    "#encode = LabelEncoder()\n",
    "#encode.fit(df['STATE'])\n",
    "#df['STATE'] = encode.transform(df['STATE'])"
   ]
  },
  {
   "cell_type": "code",
   "execution_count": 28,
   "metadata": {
    "scrolled": false
   },
   "outputs": [
    {
     "name": "stdout",
     "output_type": "stream",
     "text": [
      "<class 'pandas.core.frame.DataFrame'>\n",
      "RangeIndex: 41544 entries, 0 to 41543\n",
      "Data columns (total 12 columns):\n",
      " #   Column              Non-Null Count  Dtype \n",
      "---  ------              --------------  ----- \n",
      " 0   AGE                 41544 non-null  int64 \n",
      " 1   GENDER              41544 non-null  int64 \n",
      " 2   HH_CARS             41544 non-null  int64 \n",
      " 3   SA1_code            41544 non-null  int64 \n",
      " 4   PopDensity_SA1      41544 non-null  int64 \n",
      " 5   SA2_code            41544 non-null  int64 \n",
      " 6   PopDensity_SA2      41544 non-null  int64 \n",
      " 7   SA3_code            41544 non-null  int64 \n",
      " 8   PopDensity_SA3      41544 non-null  int64 \n",
      " 9   STATE               41544 non-null  object\n",
      " 10  ACTIVE_TRAVEL_TIME  41544 non-null  int64 \n",
      " 11  CAR_TIME            41544 non-null  int64 \n",
      "dtypes: int64(11), object(1)\n",
      "memory usage: 3.8+ MB\n"
     ]
    }
   ],
   "source": [
    "df.info()"
   ]
  },
  {
   "cell_type": "code",
   "execution_count": 29,
   "metadata": {},
   "outputs": [],
   "source": [
    "# Grouping the ACTIVE_TRAVEL_TIME"
   ]
  },
  {
   "cell_type": "code",
   "execution_count": 30,
   "metadata": {
    "scrolled": true
   },
   "outputs": [
    {
     "data": {
      "text/plain": [
       "array([  0,  10,  50,  29,  20,  23,  41,   6,  80,  19,  90,  30, 100,\n",
       "        14,  65,   5, 120,  15, 130,  55, 140,  45,   8,  26,  32,  60,\n",
       "       170,  25,  40,  16,  85,  44, 102, 137,  52,   7, 150,  22,  51,\n",
       "        97,  33,  13,  70, 178,  73,  11,  17, 205, 112,  38,  46,  34,\n",
       "        24,  75,  96,  66,  12,  35,  49,   9,  95,  21,  57,  63, 110,\n",
       "        27,  42,  36,  59,  56,  18,  37, 105, 160,  28,  84,  53, 107,\n",
       "        67,  54,  99,  61,  77, 165,  83, 115, 108,  64,  31, 184,  47,\n",
       "        39, 113,  48, 240,  43, 109, 125,  87,  58,  92,  74,  72,  91,\n",
       "       495, 131,  71, 155, 145, 360,  98,  79, 104,  88,  68,  89, 126,\n",
       "       135,  78, 136, 117,  94,  69, 149,  81,  93,  62,  86, 111, 123,\n",
       "        76, 213, 127, 118, 214, 101, 210, 176,  82, 235, 141, 138, 129,\n",
       "       158, 121, 172, 245, 103, 114, 230, 220, 143, 180, 200, 345, 124,\n",
       "       116, 215, 128, 175, 190, 174, 106, 147, 132, 420, 410, 195, 119,\n",
       "       152, 197, 179, 185, 270, 243, 300], dtype=int64)"
      ]
     },
     "execution_count": 30,
     "metadata": {},
     "output_type": "execute_result"
    }
   ],
   "source": [
    "df['ACTIVE_TRAVEL_TIME'].unique()"
   ]
  },
  {
   "cell_type": "code",
   "execution_count": 31,
   "metadata": {},
   "outputs": [
    {
     "data": {
      "text/plain": [
       "495"
      ]
     },
     "execution_count": 31,
     "metadata": {},
     "output_type": "execute_result"
    }
   ],
   "source": [
    "df['ACTIVE_TRAVEL_TIME'].max()"
   ]
  },
  {
   "cell_type": "code",
   "execution_count": 32,
   "metadata": {},
   "outputs": [],
   "source": [
    "df['ACTIVE_TRAVEL_TIME_RANGE'] = 0"
   ]
  },
  {
   "cell_type": "code",
   "execution_count": 33,
   "metadata": {},
   "outputs": [],
   "source": [
    "df.loc[(df['ACTIVE_TRAVEL_TIME'] >= 0) & (df['ACTIVE_TRAVEL_TIME'] <= 100), 'ACTIVE_TRAVEL_TIME_RANGE'] = 1\n",
    "df.loc[(df['ACTIVE_TRAVEL_TIME'] > 100) & (df['ACTIVE_TRAVEL_TIME'] <= 200), 'ACTIVE_TRAVEL_TIME_RANGE'] = 2\n",
    "df.loc[(df['ACTIVE_TRAVEL_TIME'] > 200) & (df['ACTIVE_TRAVEL_TIME'] <= 300), 'ACTIVE_TRAVEL_TIME_RANGE'] = 3\n",
    "df.loc[(df['ACTIVE_TRAVEL_TIME'] > 300) & (df['ACTIVE_TRAVEL_TIME'] <= 400), 'ACTIVE_TRAVEL_TIME_RANGE'] = 4\n",
    "df.loc[(df['ACTIVE_TRAVEL_TIME'] > 400) & (df['ACTIVE_TRAVEL_TIME'] <= 500), 'ACTIVE_TRAVEL_TIME_RANGE'] = 5"
   ]
  },
  {
   "cell_type": "code",
   "execution_count": 34,
   "metadata": {},
   "outputs": [
    {
     "data": {
      "text/plain": [
       "array([1, 2, 3, 5, 4], dtype=int64)"
      ]
     },
     "execution_count": 34,
     "metadata": {},
     "output_type": "execute_result"
    }
   ],
   "source": [
    "df['ACTIVE_TRAVEL_TIME_RANGE'].unique()"
   ]
  },
  {
   "cell_type": "code",
   "execution_count": 35,
   "metadata": {},
   "outputs": [],
   "source": [
    "# Grouping CAR_TIME_RANGE"
   ]
  },
  {
   "cell_type": "code",
   "execution_count": 36,
   "metadata": {},
   "outputs": [],
   "source": [
    "df['CAR_TIME_RANGE'] = 0"
   ]
  },
  {
   "cell_type": "code",
   "execution_count": 37,
   "metadata": {},
   "outputs": [
    {
     "data": {
      "text/plain": [
       "780"
      ]
     },
     "execution_count": 37,
     "metadata": {},
     "output_type": "execute_result"
    }
   ],
   "source": [
    "df['CAR_TIME'].max()"
   ]
  },
  {
   "cell_type": "code",
   "execution_count": 38,
   "metadata": {},
   "outputs": [],
   "source": [
    "df.loc[(df['CAR_TIME'] >= 0) & (df['CAR_TIME'] <= 100), 'CAR_TIME_RANGE'] = 1\n",
    "df.loc[(df['CAR_TIME'] > 100) & (df['CAR_TIME'] <= 200), 'CAR_TIME_RANGE'] = 2\n",
    "df.loc[(df['CAR_TIME'] > 200) & (df['CAR_TIME'] <= 300), 'CAR_TIME_RANGE'] = 3\n",
    "df.loc[(df['CAR_TIME'] > 300) & (df['CAR_TIME'] <= 400), 'CAR_TIME_RANGE'] = 4\n",
    "df.loc[(df['CAR_TIME'] > 400) & (df['CAR_TIME'] <= 500), 'CAR_TIME_RANGE'] = 5\n",
    "df.loc[(df['CAR_TIME'] > 500) & (df['CAR_TIME'] <= 600), 'CAR_TIME_RANGE'] = 6\n",
    "df.loc[(df['CAR_TIME'] > 600) & (df['CAR_TIME'] <= 700), 'CAR_TIME_RANGE'] = 7\n",
    "df.loc[(df['CAR_TIME'] > 700) & (df['CAR_TIME'] <= 800), 'CAR_TIME_RANGE'] = 8"
   ]
  },
  {
   "cell_type": "code",
   "execution_count": 39,
   "metadata": {},
   "outputs": [
    {
     "data": {
      "text/plain": [
       "array([1, 2, 3, 5, 4, 6, 8, 7], dtype=int64)"
      ]
     },
     "execution_count": 39,
     "metadata": {},
     "output_type": "execute_result"
    }
   ],
   "source": [
    "df['CAR_TIME_RANGE'].unique()"
   ]
  },
  {
   "cell_type": "code",
   "execution_count": 40,
   "metadata": {},
   "outputs": [],
   "source": [
    "features = df[['AGE', 'ACTIVE_TRAVEL_TIME_RANGE']]"
   ]
  },
  {
   "cell_type": "code",
   "execution_count": 41,
   "metadata": {},
   "outputs": [
    {
     "data": {
      "text/html": [
       "<div>\n",
       "<style scoped>\n",
       "    .dataframe tbody tr th:only-of-type {\n",
       "        vertical-align: middle;\n",
       "    }\n",
       "\n",
       "    .dataframe tbody tr th {\n",
       "        vertical-align: top;\n",
       "    }\n",
       "\n",
       "    .dataframe thead th {\n",
       "        text-align: right;\n",
       "    }\n",
       "</style>\n",
       "<table border=\"1\" class=\"dataframe\">\n",
       "  <thead>\n",
       "    <tr style=\"text-align: right;\">\n",
       "      <th></th>\n",
       "      <th>AGE</th>\n",
       "      <th>ACTIVE_TRAVEL_TIME_RANGE</th>\n",
       "    </tr>\n",
       "  </thead>\n",
       "  <tbody>\n",
       "    <tr>\n",
       "      <th>0</th>\n",
       "      <td>40</td>\n",
       "      <td>1</td>\n",
       "    </tr>\n",
       "    <tr>\n",
       "      <th>1</th>\n",
       "      <td>73</td>\n",
       "      <td>1</td>\n",
       "    </tr>\n",
       "    <tr>\n",
       "      <th>2</th>\n",
       "      <td>85</td>\n",
       "      <td>1</td>\n",
       "    </tr>\n",
       "    <tr>\n",
       "      <th>3</th>\n",
       "      <td>34</td>\n",
       "      <td>1</td>\n",
       "    </tr>\n",
       "    <tr>\n",
       "      <th>4</th>\n",
       "      <td>68</td>\n",
       "      <td>1</td>\n",
       "    </tr>\n",
       "    <tr>\n",
       "      <th>...</th>\n",
       "      <td>...</td>\n",
       "      <td>...</td>\n",
       "    </tr>\n",
       "    <tr>\n",
       "      <th>41539</th>\n",
       "      <td>64</td>\n",
       "      <td>1</td>\n",
       "    </tr>\n",
       "    <tr>\n",
       "      <th>41540</th>\n",
       "      <td>50</td>\n",
       "      <td>1</td>\n",
       "    </tr>\n",
       "    <tr>\n",
       "      <th>41541</th>\n",
       "      <td>52</td>\n",
       "      <td>1</td>\n",
       "    </tr>\n",
       "    <tr>\n",
       "      <th>41542</th>\n",
       "      <td>34</td>\n",
       "      <td>1</td>\n",
       "    </tr>\n",
       "    <tr>\n",
       "      <th>41543</th>\n",
       "      <td>34</td>\n",
       "      <td>1</td>\n",
       "    </tr>\n",
       "  </tbody>\n",
       "</table>\n",
       "<p>41544 rows × 2 columns</p>\n",
       "</div>"
      ],
      "text/plain": [
       "       AGE  ACTIVE_TRAVEL_TIME_RANGE\n",
       "0       40                         1\n",
       "1       73                         1\n",
       "2       85                         1\n",
       "3       34                         1\n",
       "4       68                         1\n",
       "...    ...                       ...\n",
       "41539   64                         1\n",
       "41540   50                         1\n",
       "41541   52                         1\n",
       "41542   34                         1\n",
       "41543   34                         1\n",
       "\n",
       "[41544 rows x 2 columns]"
      ]
     },
     "execution_count": 41,
     "metadata": {},
     "output_type": "execute_result"
    }
   ],
   "source": [
    "features"
   ]
  },
  {
   "cell_type": "code",
   "execution_count": 42,
   "metadata": {},
   "outputs": [
    {
     "name": "stderr",
     "output_type": "stream",
     "text": [
      "C:\\Users\\bhave\\anaconda3\\lib\\site-packages\\sklearn\\cluster\\_kmeans.py:970: FutureWarning: 'precompute_distances' was deprecated in version 0.23 and will be removed in 0.25. It has no effect\n",
      "  \"effect\", FutureWarning)\n",
      "C:\\Users\\bhave\\anaconda3\\lib\\site-packages\\sklearn\\cluster\\_kmeans.py:974: FutureWarning: 'n_jobs' was deprecated in version 0.23 and will be removed in 0.25.\n",
      "  \" removed in 0.25.\", FutureWarning)\n"
     ]
    }
   ],
   "source": [
    "clustering_kmeans = KMeans(n_clusters=5, precompute_distances=\"auto\", n_jobs=-1)\n",
    "\n",
    "df['cluster'] = clustering_kmeans.fit_predict(features)"
   ]
  },
  {
   "cell_type": "code",
   "execution_count": 43,
   "metadata": {
    "scrolled": true
   },
   "outputs": [
    {
     "data": {
      "image/png": "[encoded data removed]",
      "text/plain": [
       "<Figure size 432x288 with 1 Axes>"
      ]
     },
     "metadata": {},
     "output_type": "display_data"
    }
   ],
   "source": [
    "sns.scatterplot(x=\"ACTIVE_TRAVEL_TIME_RANGE\", y=\"AGE\", hue=df['cluster'], data=df)\n",
    "plt.title('K-means Clustering with 2 dimensions')\n",
    "plt.show()"
   ]
  },
  {
   "cell_type": "code",
   "execution_count": 44,
   "metadata": {},
   "outputs": [
    {
     "data": {
      "image/png": "[encoded data removed]",
      "text/plain": [
       "<Figure size 432x288 with 1 Axes>"
      ]
     },
     "metadata": {},
     "output_type": "display_data"
    }
   ],
   "source": [
    "x = df[['CAR_TIME','STATE']]\n",
    "plt.scatter(x['CAR_TIME'],x['STATE'], c= 'black')\n",
    "plt.xlabel('CAR time')\n",
    "plt.ylabel('state')\n",
    "plt.show()"
   ]
  },
  {
   "cell_type": "markdown",
   "metadata": {},
   "source": [
    "# Splitting the dataframes based on area"
   ]
  },
  {
   "cell_type": "code",
   "execution_count": null,
   "metadata": {
    "scrolled": false
   },
   "outputs": [],
   "source": []
  },
  {
   "cell_type": "code",
   "execution_count": 45,
   "metadata": {
    "scrolled": true
   },
   "outputs": [
    {
     "data": {
      "text/plain": [
       "Index(['AGE', 'GENDER', 'HH_CARS', 'SA1_code', 'PopDensity_SA1', 'SA2_code',\n",
       "       'PopDensity_SA2', 'SA3_code', 'PopDensity_SA3', 'STATE',\n",
       "       'ACTIVE_TRAVEL_TIME', 'CAR_TIME', 'ACTIVE_TRAVEL_TIME_RANGE',\n",
       "       'CAR_TIME_RANGE', 'cluster'],\n",
       "      dtype='object')"
      ]
     },
     "execution_count": 45,
     "metadata": {},
     "output_type": "execute_result"
    }
   ],
   "source": [
    "df.columns"
   ]
  },
  {
   "cell_type": "code",
   "execution_count": 46,
   "metadata": {},
   "outputs": [],
   "source": [
    "import numpy as np"
   ]
  },
  {
   "cell_type": "markdown",
   "metadata": {},
   "source": [
    "## Plotting Active Travel Time and Car time based on the states"
   ]
  },
  {
   "cell_type": "code",
   "execution_count": 47,
   "metadata": {},
   "outputs": [
    {
     "data": {
      "image/png": "[encoded data removed]",
      "text/plain": [
       "<Figure size 432x288 with 1 Axes>"
      ]
     },
     "metadata": {},
     "output_type": "display_data"
    }
   ],
   "source": [
    "df1= pd.DataFrame(data=df, columns=['ACTIVE_TRAVEL_TIME','CAR_TIME','STATE'])\n",
    "\n",
    "ax=sns.scatterplot(x='ACTIVE_TRAVEL_TIME',y='CAR_TIME',hue='STATE',data=df)\n",
    "sns.set(rc={'figure.figsize':(18,20)})\n",
    "\n",
    "plt.show()"
   ]
  },
  {
   "cell_type": "code",
   "execution_count": 48,
   "metadata": {
    "scrolled": true
   },
   "outputs": [
    {
     "data": {
      "image/png": "[encoded data removed]",
      "text/plain": [
       "<Figure size 1296x1440 with 1 Axes>"
      ]
     },
     "metadata": {},
     "output_type": "display_data"
    }
   ],
   "source": [
    "sns.barplot(x = \"STATE\" ,y = \"ACTIVE_TRAVEL_TIME\", data = df)\n",
    "sns.set(rc={'figure.figsize':(8,4)})\n",
    "plt.show()"
   ]
  },
  {
   "cell_type": "code",
   "execution_count": 49,
   "metadata": {
    "scrolled": true
   },
   "outputs": [
    {
     "data": {
      "text/plain": [
       "<matplotlib.axes._subplots.AxesSubplot at 0x20a71872a08>"
      ]
     },
     "execution_count": 49,
     "metadata": {},
     "output_type": "execute_result"
    },
    {
     "data": {
      "image/png": "[encoded data removed]",
      "text/plain": [
       "<Figure size 576x288 with 1 Axes>"
      ]
     },
     "metadata": {},
     "output_type": "display_data"
    }
   ],
   "source": [
    "sns.barplot(x = \"STATE\" ,y = \"CAR_TIME\", data = df)"
   ]
  },
  {
   "cell_type": "markdown",
   "metadata": {},
   "source": [
    "## Now we can see that Victorians are more active."
   ]
  },
  {
   "cell_type": "markdown",
   "metadata": {},
   "source": [
    "### Splitting the dataset based on the State"
   ]
  },
  {
   "cell_type": "code",
   "execution_count": 50,
   "metadata": {},
   "outputs": [],
   "source": [
    "df_vic= df[df['STATE'] == 'Victoria']"
   ]
  },
  {
   "cell_type": "code",
   "execution_count": 51,
   "metadata": {},
   "outputs": [
    {
     "data": {
      "text/html": [
       "<div>\n",
       "<style scoped>\n",
       "    .dataframe tbody tr th:only-of-type {\n",
       "        vertical-align: middle;\n",
       "    }\n",
       "\n",
       "    .dataframe tbody tr th {\n",
       "        vertical-align: top;\n",
       "    }\n",
       "\n",
       "    .dataframe thead th {\n",
       "        text-align: right;\n",
       "    }\n",
       "</style>\n",
       "<table border=\"1\" class=\"dataframe\">\n",
       "  <thead>\n",
       "    <tr style=\"text-align: right;\">\n",
       "      <th></th>\n",
       "      <th>AGE</th>\n",
       "      <th>GENDER</th>\n",
       "      <th>HH_CARS</th>\n",
       "      <th>SA1_code</th>\n",
       "      <th>PopDensity_SA1</th>\n",
       "      <th>SA2_code</th>\n",
       "      <th>PopDensity_SA2</th>\n",
       "      <th>SA3_code</th>\n",
       "      <th>PopDensity_SA3</th>\n",
       "      <th>STATE</th>\n",
       "      <th>ACTIVE_TRAVEL_TIME</th>\n",
       "      <th>CAR_TIME</th>\n",
       "      <th>ACTIVE_TRAVEL_TIME_RANGE</th>\n",
       "      <th>CAR_TIME_RANGE</th>\n",
       "      <th>cluster</th>\n",
       "    </tr>\n",
       "  </thead>\n",
       "  <tbody>\n",
       "    <tr>\n",
       "      <th>0</th>\n",
       "      <td>40</td>\n",
       "      <td>2</td>\n",
       "      <td>0</td>\n",
       "      <td>2100106</td>\n",
       "      <td>1500</td>\n",
       "      <td>21001</td>\n",
       "      <td>158</td>\n",
       "      <td>20101</td>\n",
       "      <td>213</td>\n",
       "      <td>Victoria</td>\n",
       "      <td>0</td>\n",
       "      <td>35</td>\n",
       "      <td>1</td>\n",
       "      <td>1</td>\n",
       "      <td>4</td>\n",
       "    </tr>\n",
       "    <tr>\n",
       "      <th>1</th>\n",
       "      <td>73</td>\n",
       "      <td>1</td>\n",
       "      <td>1</td>\n",
       "      <td>2100108</td>\n",
       "      <td>703</td>\n",
       "      <td>21001</td>\n",
       "      <td>158</td>\n",
       "      <td>20101</td>\n",
       "      <td>213</td>\n",
       "      <td>Victoria</td>\n",
       "      <td>0</td>\n",
       "      <td>100</td>\n",
       "      <td>1</td>\n",
       "      <td>1</td>\n",
       "      <td>3</td>\n",
       "    </tr>\n",
       "    <tr>\n",
       "      <th>2</th>\n",
       "      <td>85</td>\n",
       "      <td>2</td>\n",
       "      <td>1</td>\n",
       "      <td>2100108</td>\n",
       "      <td>703</td>\n",
       "      <td>21001</td>\n",
       "      <td>158</td>\n",
       "      <td>20101</td>\n",
       "      <td>213</td>\n",
       "      <td>Victoria</td>\n",
       "      <td>0</td>\n",
       "      <td>35</td>\n",
       "      <td>1</td>\n",
       "      <td>1</td>\n",
       "      <td>3</td>\n",
       "    </tr>\n",
       "    <tr>\n",
       "      <th>3</th>\n",
       "      <td>34</td>\n",
       "      <td>2</td>\n",
       "      <td>1</td>\n",
       "      <td>2100108</td>\n",
       "      <td>703</td>\n",
       "      <td>21001</td>\n",
       "      <td>158</td>\n",
       "      <td>20101</td>\n",
       "      <td>213</td>\n",
       "      <td>Victoria</td>\n",
       "      <td>0</td>\n",
       "      <td>79</td>\n",
       "      <td>1</td>\n",
       "      <td>1</td>\n",
       "      <td>4</td>\n",
       "    </tr>\n",
       "    <tr>\n",
       "      <th>4</th>\n",
       "      <td>68</td>\n",
       "      <td>1</td>\n",
       "      <td>2</td>\n",
       "      <td>2100108</td>\n",
       "      <td>703</td>\n",
       "      <td>21001</td>\n",
       "      <td>158</td>\n",
       "      <td>20101</td>\n",
       "      <td>213</td>\n",
       "      <td>Victoria</td>\n",
       "      <td>0</td>\n",
       "      <td>97</td>\n",
       "      <td>1</td>\n",
       "      <td>1</td>\n",
       "      <td>0</td>\n",
       "    </tr>\n",
       "  </tbody>\n",
       "</table>\n",
       "</div>"
      ],
      "text/plain": [
       "   AGE  GENDER  HH_CARS  SA1_code  PopDensity_SA1  SA2_code  PopDensity_SA2  \\\n",
       "0   40       2        0   2100106            1500     21001             158   \n",
       "1   73       1        1   2100108             703     21001             158   \n",
       "2   85       2        1   2100108             703     21001             158   \n",
       "3   34       2        1   2100108             703     21001             158   \n",
       "4   68       1        2   2100108             703     21001             158   \n",
       "\n",
       "   SA3_code  PopDensity_SA3     STATE  ACTIVE_TRAVEL_TIME  CAR_TIME  \\\n",
       "0     20101             213  Victoria                   0        35   \n",
       "1     20101             213  Victoria                   0       100   \n",
       "2     20101             213  Victoria                   0        35   \n",
       "3     20101             213  Victoria                   0        79   \n",
       "4     20101             213  Victoria                   0        97   \n",
       "\n",
       "   ACTIVE_TRAVEL_TIME_RANGE  CAR_TIME_RANGE  cluster  \n",
       "0                         1               1        4  \n",
       "1                         1               1        3  \n",
       "2                         1               1        3  \n",
       "3                         1               1        4  \n",
       "4                         1               1        0  "
      ]
     },
     "execution_count": 51,
     "metadata": {},
     "output_type": "execute_result"
    }
   ],
   "source": [
    "df_vic.head()"
   ]
  },
  {
   "cell_type": "code",
   "execution_count": 52,
   "metadata": {
    "scrolled": true
   },
   "outputs": [
    {
     "name": "stdout",
     "output_type": "stream",
     "text": [
      "Number of Males in Victoria are 12101 and females 13009 \n"
     ]
    }
   ],
   "source": [
    "# Count of Males and females\n",
    "\n",
    "male = len(df_vic.query('GENDER == 1'))\n",
    "\n",
    "female = len(df_vic.query('GENDER == 2'))\n",
    "\n",
    "print(f'Number of Males in Victoria are {male} and females {female} ')"
   ]
  },
  {
   "cell_type": "markdown",
   "metadata": {},
   "source": [
    "## Which Gender is More active?"
   ]
  },
  {
   "cell_type": "code",
   "execution_count": 53,
   "metadata": {
    "scrolled": false
   },
   "outputs": [
    {
     "name": "stdout",
     "output_type": "stream",
     "text": [
      "     ACTIVE_TRAVEL_TIME    GENDER\n",
      "165                 495  2.000000\n",
      "164                 420  1.500000\n",
      "163                 360  1.000000\n",
      "162                 345  1.000000\n",
      "161                 245  1.000000\n",
      "..                  ...       ...\n",
      "4                     8  1.681159\n",
      "3                     7  1.481481\n",
      "2                     6  1.603175\n",
      "1                     5  1.611111\n",
      "0                     0  1.508974\n",
      "\n",
      "[166 rows x 2 columns]\n"
     ]
    }
   ],
   "source": [
    "print(df_vic[['GENDER','ACTIVE_TRAVEL_TIME']].groupby(['ACTIVE_TRAVEL_TIME'], as_index = False).mean().sort_values(by = 'ACTIVE_TRAVEL_TIME', ascending = False))"
   ]
  },
  {
   "cell_type": "code",
   "execution_count": 54,
   "metadata": {},
   "outputs": [],
   "source": [
    "df1 = pd.DataFrame(df_vic.groupby('GENDER')['ACTIVE_TRAVEL_TIME'].mean())"
   ]
  },
  {
   "cell_type": "code",
   "execution_count": 55,
   "metadata": {},
   "outputs": [],
   "source": [
    "# GENDER became the index\n",
    "#df1.reset_index(inplace = True)"
   ]
  },
  {
   "cell_type": "code",
   "execution_count": 56,
   "metadata": {
    "scrolled": true
   },
   "outputs": [
    {
     "data": {
      "text/plain": [
       "Index(['ACTIVE_TRAVEL_TIME'], dtype='object')"
      ]
     },
     "execution_count": 56,
     "metadata": {},
     "output_type": "execute_result"
    }
   ],
   "source": [
    "df1.columns"
   ]
  },
  {
   "cell_type": "code",
   "execution_count": 57,
   "metadata": {
    "scrolled": true
   },
   "outputs": [
    {
     "data": {
      "text/html": [
       "<div>\n",
       "<style scoped>\n",
       "    .dataframe tbody tr th:only-of-type {\n",
       "        vertical-align: middle;\n",
       "    }\n",
       "\n",
       "    .dataframe tbody tr th {\n",
       "        vertical-align: top;\n",
       "    }\n",
       "\n",
       "    .dataframe thead th {\n",
       "        text-align: right;\n",
       "    }\n",
       "</style>\n",
       "<table border=\"1\" class=\"dataframe\">\n",
       "  <thead>\n",
       "    <tr style=\"text-align: right;\">\n",
       "      <th></th>\n",
       "      <th>ACTIVE_TRAVEL_TIME</th>\n",
       "    </tr>\n",
       "    <tr>\n",
       "      <th>GENDER</th>\n",
       "      <th></th>\n",
       "    </tr>\n",
       "  </thead>\n",
       "  <tbody>\n",
       "    <tr>\n",
       "      <th>1</th>\n",
       "      <td>9.118833</td>\n",
       "    </tr>\n",
       "    <tr>\n",
       "      <th>2</th>\n",
       "      <td>9.254977</td>\n",
       "    </tr>\n",
       "  </tbody>\n",
       "</table>\n",
       "</div>"
      ],
      "text/plain": [
       "        ACTIVE_TRAVEL_TIME\n",
       "GENDER                    \n",
       "1                 9.118833\n",
       "2                 9.254977"
      ]
     },
     "execution_count": 57,
     "metadata": {},
     "output_type": "execute_result"
    }
   ],
   "source": [
    "df1.head()"
   ]
  },
  {
   "cell_type": "code",
   "execution_count": 58,
   "metadata": {
    "scrolled": true
   },
   "outputs": [
    {
     "data": {
      "image/png": "[encoded data removed]",
      "text/plain": [
       "<Figure size 576x288 with 1 Axes>"
      ]
     },
     "metadata": {},
     "output_type": "display_data"
    }
   ],
   "source": [
    "sns.barplot(x = \"GENDER\" ,y = \"ACTIVE_TRAVEL_TIME\", data = df_vic)\n",
    "sns.set(rc={'figure.figsize':(8,10)})\n",
    "plt.show()"
   ]
  },
  {
   "cell_type": "markdown",
   "metadata": {},
   "source": [
    "## Let analyse the AGE"
   ]
  },
  {
   "cell_type": "code",
   "execution_count": 59,
   "metadata": {},
   "outputs": [
    {
     "name": "stdout",
     "output_type": "stream",
     "text": [
      "Minimum age in the Victorian records is 18 and maximum age in the victorian record is 97\n"
     ]
    }
   ],
   "source": [
    "min_age = df_vic.AGE.min()\n",
    "max_age = df_vic.AGE.max()\n",
    "print(f\"Minimum age in the Victorian records is {min_age} and maximum age in the victorian record is {max_age}\")"
   ]
  },
  {
   "cell_type": "markdown",
   "metadata": {},
   "source": [
    "#### creating new column for the age range"
   ]
  },
  {
   "cell_type": "code",
   "execution_count": 60,
   "metadata": {
    "scrolled": false
   },
   "outputs": [
    {
     "name": "stderr",
     "output_type": "stream",
     "text": [
      "C:\\Users\\bhave\\anaconda3\\lib\\site-packages\\ipykernel_launcher.py:1: SettingWithCopyWarning: \n",
      "A value is trying to be set on a copy of a slice from a DataFrame.\n",
      "Try using .loc[row_indexer,col_indexer] = value instead\n",
      "\n",
      "See the caveats in the documentation: https://pandas.pydata.org/pandas-docs/stable/user_guide/indexing.html#returning-a-view-versus-a-copy\n",
      "  \"\"\"Entry point for launching an IPython kernel.\n"
     ]
    }
   ],
   "source": [
    "df_vic['AGE_RANGE'] = 0"
   ]
  },
  {
   "cell_type": "code",
   "execution_count": 61,
   "metadata": {},
   "outputs": [
    {
     "name": "stderr",
     "output_type": "stream",
     "text": [
      "C:\\Users\\bhave\\anaconda3\\lib\\site-packages\\pandas\\core\\indexing.py:966: SettingWithCopyWarning: \n",
      "A value is trying to be set on a copy of a slice from a DataFrame.\n",
      "Try using .loc[row_indexer,col_indexer] = value instead\n",
      "\n",
      "See the caveats in the documentation: https://pandas.pydata.org/pandas-docs/stable/user_guide/indexing.html#returning-a-view-versus-a-copy\n",
      "  self.obj[item] = s\n"
     ]
    }
   ],
   "source": [
    "# Populating the column AGE_RANGE\n",
    "\n",
    "df_vic.loc[(df_vic['AGE'] >= 18) & (df['AGE'] <= 29), 'AGE_RANGE'] = '18-29'\n",
    "df_vic.loc[(df_vic['AGE'] >= 30) & (df['AGE'] <= 39), 'AGE_RANGE'] = '30-39'\n",
    "df_vic.loc[(df_vic['AGE'] >= 40) & (df['AGE'] <= 49), 'AGE_RANGE'] = '40-49'\n",
    "df_vic.loc[(df_vic['AGE'] >= 50) & (df['AGE'] <= 59), 'AGE_RANGE'] = '50-59'\n",
    "df_vic.loc[(df_vic['AGE'] >= 60) & (df['AGE'] <= 69), 'AGE_RANGE'] = '60-69'\n",
    "df_vic.loc[(df_vic['AGE'] >= 70) & (df['AGE'] <= 79), 'AGE_RANGE'] = '70-79'\n",
    "df_vic.loc[(df_vic['AGE'] >= 80) & (df['AGE'] <= 89), 'AGE_RANGE'] = '80-89'\n",
    "df_vic.loc[(df_vic['AGE'] >= 99) & (df['AGE'] <= 97), 'AGE_RANGE'] = '90-97'"
   ]
  },
  {
   "cell_type": "code",
   "execution_count": 62,
   "metadata": {
    "scrolled": true
   },
   "outputs": [],
   "source": [
    "vic_target = df_vic['CAR_TIME']"
   ]
  },
  {
   "cell_type": "code",
   "execution_count": 63,
   "metadata": {
    "scrolled": true
   },
   "outputs": [
    {
     "name": "stderr",
     "output_type": "stream",
     "text": [
      "C:\\Users\\bhave\\anaconda3\\lib\\site-packages\\pandas\\core\\indexing.py:671: SettingWithCopyWarning: \n",
      "A value is trying to be set on a copy of a slice from a DataFrame\n",
      "\n",
      "See the caveats in the documentation: https://pandas.pydata.org/pandas-docs/stable/user_guide/indexing.html#returning-a-view-versus-a-copy\n",
      "  self._setitem_with_indexer(indexer, value)\n",
      "C:\\Users\\bhave\\anaconda3\\lib\\site-packages\\ipykernel_launcher.py:1: SettingWithCopyWarning: \n",
      "A value is trying to be set on a copy of a slice from a DataFrame\n",
      "\n",
      "See the caveats in the documentation: https://pandas.pydata.org/pandas-docs/stable/user_guide/indexing.html#returning-a-view-versus-a-copy\n",
      "  \"\"\"Entry point for launching an IPython kernel.\n",
      "C:\\Users\\bhave\\anaconda3\\lib\\site-packages\\ipykernel_launcher.py:2: SettingWithCopyWarning: \n",
      "A value is trying to be set on a copy of a slice from a DataFrame\n",
      "\n",
      "See the caveats in the documentation: https://pandas.pydata.org/pandas-docs/stable/user_guide/indexing.html#returning-a-view-versus-a-copy\n",
      "  \n"
     ]
    }
   ],
   "source": [
    "vic_target.loc[(df_vic['CAR_TIME'] == 0)] = 0\n",
    "vic_target.loc[(df_vic['CAR_TIME'] > 0)] = 1"
   ]
  },
  {
   "cell_type": "code",
   "execution_count": 64,
   "metadata": {},
   "outputs": [
    {
     "data": {
      "text/plain": [
       "array([1, 0], dtype=int64)"
      ]
     },
     "execution_count": 64,
     "metadata": {},
     "output_type": "execute_result"
    }
   ],
   "source": [
    "vic_target.unique()"
   ]
  },
  {
   "cell_type": "code",
   "execution_count": 65,
   "metadata": {},
   "outputs": [
    {
     "name": "stdout",
     "output_type": "stream",
     "text": [
      "<class 'pandas.core.frame.DataFrame'>\n",
      "Int64Index: 25110 entries, 0 to 25109\n",
      "Data columns (total 16 columns):\n",
      " #   Column                    Non-Null Count  Dtype \n",
      "---  ------                    --------------  ----- \n",
      " 0   AGE                       25110 non-null  int64 \n",
      " 1   GENDER                    25110 non-null  int64 \n",
      " 2   HH_CARS                   25110 non-null  int64 \n",
      " 3   SA1_code                  25110 non-null  int64 \n",
      " 4   PopDensity_SA1            25110 non-null  int64 \n",
      " 5   SA2_code                  25110 non-null  int64 \n",
      " 6   PopDensity_SA2            25110 non-null  int64 \n",
      " 7   SA3_code                  25110 non-null  int64 \n",
      " 8   PopDensity_SA3            25110 non-null  int64 \n",
      " 9   STATE                     25110 non-null  object\n",
      " 10  ACTIVE_TRAVEL_TIME        25110 non-null  int64 \n",
      " 11  CAR_TIME                  25110 non-null  int64 \n",
      " 12  ACTIVE_TRAVEL_TIME_RANGE  25110 non-null  int64 \n",
      " 13  CAR_TIME_RANGE            25110 non-null  int64 \n",
      " 14  cluster                   25110 non-null  int32 \n",
      " 15  AGE_RANGE                 25110 non-null  object\n",
      "dtypes: int32(1), int64(13), object(2)\n",
      "memory usage: 3.8+ MB\n"
     ]
    }
   ],
   "source": [
    "df_vic.info()"
   ]
  },
  {
   "cell_type": "code",
   "execution_count": 66,
   "metadata": {},
   "outputs": [
    {
     "name": "stderr",
     "output_type": "stream",
     "text": [
      "C:\\Users\\bhave\\anaconda3\\lib\\site-packages\\ipykernel_launcher.py:4: SettingWithCopyWarning: \n",
      "A value is trying to be set on a copy of a slice from a DataFrame.\n",
      "Try using .loc[row_indexer,col_indexer] = value instead\n",
      "\n",
      "See the caveats in the documentation: https://pandas.pydata.org/pandas-docs/stable/user_guide/indexing.html#returning-a-view-versus-a-copy\n",
      "  after removing the cwd from sys.path.\n"
     ]
    }
   ],
   "source": [
    "#encoding the STATE\n",
    "encode = LabelEncoder()\n",
    "encode.fit(df_vic['STATE'])\n",
    "df_vic['STATE'] = encode.transform(df_vic['STATE'])"
   ]
  },
  {
   "cell_type": "code",
   "execution_count": 67,
   "metadata": {
    "scrolled": false
   },
   "outputs": [
    {
     "name": "stdout",
     "output_type": "stream",
     "text": [
      "<class 'pandas.core.frame.DataFrame'>\n",
      "Int64Index: 25110 entries, 0 to 25109\n",
      "Data columns (total 16 columns):\n",
      " #   Column                    Non-Null Count  Dtype \n",
      "---  ------                    --------------  ----- \n",
      " 0   AGE                       25110 non-null  int64 \n",
      " 1   GENDER                    25110 non-null  int64 \n",
      " 2   HH_CARS                   25110 non-null  int64 \n",
      " 3   SA1_code                  25110 non-null  int64 \n",
      " 4   PopDensity_SA1            25110 non-null  int64 \n",
      " 5   SA2_code                  25110 non-null  int64 \n",
      " 6   PopDensity_SA2            25110 non-null  int64 \n",
      " 7   SA3_code                  25110 non-null  int64 \n",
      " 8   PopDensity_SA3            25110 non-null  int64 \n",
      " 9   STATE                     25110 non-null  int32 \n",
      " 10  ACTIVE_TRAVEL_TIME        25110 non-null  int64 \n",
      " 11  CAR_TIME                  25110 non-null  int64 \n",
      " 12  ACTIVE_TRAVEL_TIME_RANGE  25110 non-null  int64 \n",
      " 13  CAR_TIME_RANGE            25110 non-null  int64 \n",
      " 14  cluster                   25110 non-null  int32 \n",
      " 15  AGE_RANGE                 25110 non-null  object\n",
      "dtypes: int32(2), int64(13), object(1)\n",
      "memory usage: 3.7+ MB\n"
     ]
    }
   ],
   "source": [
    "df_vic.info()"
   ]
  },
  {
   "cell_type": "code",
   "execution_count": 68,
   "metadata": {},
   "outputs": [],
   "source": [
    "#Dropping target and extra column age_range"
   ]
  },
  {
   "cell_type": "code",
   "execution_count": 69,
   "metadata": {},
   "outputs": [
    {
     "name": "stderr",
     "output_type": "stream",
     "text": [
      "C:\\Users\\bhave\\anaconda3\\lib\\site-packages\\pandas\\core\\frame.py:3997: SettingWithCopyWarning: \n",
      "A value is trying to be set on a copy of a slice from a DataFrame\n",
      "\n",
      "See the caveats in the documentation: https://pandas.pydata.org/pandas-docs/stable/user_guide/indexing.html#returning-a-view-versus-a-copy\n",
      "  errors=errors,\n"
     ]
    }
   ],
   "source": [
    "#df_vic.drop('ACTIVE_TRAVEL_TIME',axis = 1,inplace = True)\n",
    "df_vic.drop('CAR_TIME',axis = 1,inplace = True)\n",
    "df_vic.drop('ACTIVE_TRAVEL_TIME_RANGE',axis = 1,inplace = True)\n",
    "df_vic.drop('CAR_TIME_RANGE',axis = 1,inplace = True)\n",
    "df_vic.drop('cluster',axis = 1,inplace = True)\n",
    "df_vic.drop('AGE_RANGE',axis = 1,inplace = True)"
   ]
  },
  {
   "cell_type": "code",
   "execution_count": null,
   "metadata": {},
   "outputs": [],
   "source": []
  },
  {
   "cell_type": "code",
   "execution_count": null,
   "metadata": {
    "scrolled": false
   },
   "outputs": [],
   "source": []
  },
  {
   "cell_type": "code",
   "execution_count": 70,
   "metadata": {},
   "outputs": [],
   "source": [
    "from sklearn.model_selection import train_test_split"
   ]
  },
  {
   "cell_type": "code",
   "execution_count": 71,
   "metadata": {},
   "outputs": [],
   "source": [
    "X = df_vic"
   ]
  },
  {
   "cell_type": "code",
   "execution_count": 72,
   "metadata": {},
   "outputs": [],
   "source": [
    "Y = vic_target"
   ]
  },
  {
   "cell_type": "code",
   "execution_count": 73,
   "metadata": {
    "scrolled": true
   },
   "outputs": [
    {
     "data": {
      "text/plain": [
       "Index(['AGE', 'GENDER', 'HH_CARS', 'SA1_code', 'PopDensity_SA1', 'SA2_code',\n",
       "       'PopDensity_SA2', 'SA3_code', 'PopDensity_SA3', 'STATE',\n",
       "       'ACTIVE_TRAVEL_TIME'],\n",
       "      dtype='object')"
      ]
     },
     "execution_count": 73,
     "metadata": {},
     "output_type": "execute_result"
    }
   ],
   "source": [
    "df_vic.columns"
   ]
  },
  {
   "cell_type": "code",
   "execution_count": 74,
   "metadata": {
    "scrolled": true
   },
   "outputs": [
    {
     "name": "stderr",
     "output_type": "stream",
     "text": [
      "C:\\Users\\bhave\\anaconda3\\lib\\site-packages\\ipykernel_launcher.py:12: SettingWithCopyWarning: \n",
      "A value is trying to be set on a copy of a slice from a DataFrame.\n",
      "Try using .loc[row_indexer,col_indexer] = value instead\n",
      "\n",
      "See the caveats in the documentation: https://pandas.pydata.org/pandas-docs/stable/user_guide/indexing.html#returning-a-view-versus-a-copy\n",
      "  if sys.path[0] == '':\n",
      "C:\\Users\\bhave\\anaconda3\\lib\\site-packages\\pandas\\core\\indexing.py:966: SettingWithCopyWarning: \n",
      "A value is trying to be set on a copy of a slice from a DataFrame.\n",
      "Try using .loc[row_indexer,col_indexer] = value instead\n",
      "\n",
      "See the caveats in the documentation: https://pandas.pydata.org/pandas-docs/stable/user_guide/indexing.html#returning-a-view-versus-a-copy\n",
      "  self.obj[item] = s\n",
      "C:\\Users\\bhave\\anaconda3\\lib\\site-packages\\ipykernel_launcher.py:12: SettingWithCopyWarning: \n",
      "A value is trying to be set on a copy of a slice from a DataFrame.\n",
      "Try using .loc[row_indexer,col_indexer] = value instead\n",
      "\n",
      "See the caveats in the documentation: https://pandas.pydata.org/pandas-docs/stable/user_guide/indexing.html#returning-a-view-versus-a-copy\n",
      "  if sys.path[0] == '':\n",
      "C:\\Users\\bhave\\anaconda3\\lib\\site-packages\\pandas\\core\\indexing.py:966: SettingWithCopyWarning: \n",
      "A value is trying to be set on a copy of a slice from a DataFrame.\n",
      "Try using .loc[row_indexer,col_indexer] = value instead\n",
      "\n",
      "See the caveats in the documentation: https://pandas.pydata.org/pandas-docs/stable/user_guide/indexing.html#returning-a-view-versus-a-copy\n",
      "  self.obj[item] = s\n",
      "C:\\Users\\bhave\\anaconda3\\lib\\site-packages\\ipykernel_launcher.py:12: SettingWithCopyWarning: \n",
      "A value is trying to be set on a copy of a slice from a DataFrame.\n",
      "Try using .loc[row_indexer,col_indexer] = value instead\n",
      "\n",
      "See the caveats in the documentation: https://pandas.pydata.org/pandas-docs/stable/user_guide/indexing.html#returning-a-view-versus-a-copy\n",
      "  if sys.path[0] == '':\n",
      "C:\\Users\\bhave\\anaconda3\\lib\\site-packages\\pandas\\core\\indexing.py:966: SettingWithCopyWarning: \n",
      "A value is trying to be set on a copy of a slice from a DataFrame.\n",
      "Try using .loc[row_indexer,col_indexer] = value instead\n",
      "\n",
      "See the caveats in the documentation: https://pandas.pydata.org/pandas-docs/stable/user_guide/indexing.html#returning-a-view-versus-a-copy\n",
      "  self.obj[item] = s\n",
      "C:\\Users\\bhave\\anaconda3\\lib\\site-packages\\ipykernel_launcher.py:12: SettingWithCopyWarning: \n",
      "A value is trying to be set on a copy of a slice from a DataFrame.\n",
      "Try using .loc[row_indexer,col_indexer] = value instead\n",
      "\n",
      "See the caveats in the documentation: https://pandas.pydata.org/pandas-docs/stable/user_guide/indexing.html#returning-a-view-versus-a-copy\n",
      "  if sys.path[0] == '':\n",
      "C:\\Users\\bhave\\anaconda3\\lib\\site-packages\\pandas\\core\\indexing.py:966: SettingWithCopyWarning: \n",
      "A value is trying to be set on a copy of a slice from a DataFrame.\n",
      "Try using .loc[row_indexer,col_indexer] = value instead\n",
      "\n",
      "See the caveats in the documentation: https://pandas.pydata.org/pandas-docs/stable/user_guide/indexing.html#returning-a-view-versus-a-copy\n",
      "  self.obj[item] = s\n",
      "C:\\Users\\bhave\\anaconda3\\lib\\site-packages\\ipykernel_launcher.py:12: SettingWithCopyWarning: \n",
      "A value is trying to be set on a copy of a slice from a DataFrame.\n",
      "Try using .loc[row_indexer,col_indexer] = value instead\n",
      "\n",
      "See the caveats in the documentation: https://pandas.pydata.org/pandas-docs/stable/user_guide/indexing.html#returning-a-view-versus-a-copy\n",
      "  if sys.path[0] == '':\n",
      "C:\\Users\\bhave\\anaconda3\\lib\\site-packages\\pandas\\core\\indexing.py:966: SettingWithCopyWarning: \n",
      "A value is trying to be set on a copy of a slice from a DataFrame.\n",
      "Try using .loc[row_indexer,col_indexer] = value instead\n",
      "\n",
      "See the caveats in the documentation: https://pandas.pydata.org/pandas-docs/stable/user_guide/indexing.html#returning-a-view-versus-a-copy\n",
      "  self.obj[item] = s\n",
      "C:\\Users\\bhave\\anaconda3\\lib\\site-packages\\ipykernel_launcher.py:12: SettingWithCopyWarning: \n",
      "A value is trying to be set on a copy of a slice from a DataFrame.\n",
      "Try using .loc[row_indexer,col_indexer] = value instead\n",
      "\n",
      "See the caveats in the documentation: https://pandas.pydata.org/pandas-docs/stable/user_guide/indexing.html#returning-a-view-versus-a-copy\n",
      "  if sys.path[0] == '':\n",
      "C:\\Users\\bhave\\anaconda3\\lib\\site-packages\\pandas\\core\\indexing.py:966: SettingWithCopyWarning: \n",
      "A value is trying to be set on a copy of a slice from a DataFrame.\n",
      "Try using .loc[row_indexer,col_indexer] = value instead\n",
      "\n",
      "See the caveats in the documentation: https://pandas.pydata.org/pandas-docs/stable/user_guide/indexing.html#returning-a-view-versus-a-copy\n",
      "  self.obj[item] = s\n",
      "C:\\Users\\bhave\\anaconda3\\lib\\site-packages\\ipykernel_launcher.py:12: SettingWithCopyWarning: \n",
      "A value is trying to be set on a copy of a slice from a DataFrame.\n",
      "Try using .loc[row_indexer,col_indexer] = value instead\n",
      "\n",
      "See the caveats in the documentation: https://pandas.pydata.org/pandas-docs/stable/user_guide/indexing.html#returning-a-view-versus-a-copy\n",
      "  if sys.path[0] == '':\n",
      "C:\\Users\\bhave\\anaconda3\\lib\\site-packages\\pandas\\core\\indexing.py:966: SettingWithCopyWarning: \n",
      "A value is trying to be set on a copy of a slice from a DataFrame.\n",
      "Try using .loc[row_indexer,col_indexer] = value instead\n",
      "\n",
      "See the caveats in the documentation: https://pandas.pydata.org/pandas-docs/stable/user_guide/indexing.html#returning-a-view-versus-a-copy\n",
      "  self.obj[item] = s\n",
      "C:\\Users\\bhave\\anaconda3\\lib\\site-packages\\ipykernel_launcher.py:12: SettingWithCopyWarning: \n",
      "A value is trying to be set on a copy of a slice from a DataFrame.\n",
      "Try using .loc[row_indexer,col_indexer] = value instead\n",
      "\n",
      "See the caveats in the documentation: https://pandas.pydata.org/pandas-docs/stable/user_guide/indexing.html#returning-a-view-versus-a-copy\n",
      "  if sys.path[0] == '':\n",
      "C:\\Users\\bhave\\anaconda3\\lib\\site-packages\\pandas\\core\\indexing.py:966: SettingWithCopyWarning: \n",
      "A value is trying to be set on a copy of a slice from a DataFrame.\n",
      "Try using .loc[row_indexer,col_indexer] = value instead\n",
      "\n",
      "See the caveats in the documentation: https://pandas.pydata.org/pandas-docs/stable/user_guide/indexing.html#returning-a-view-versus-a-copy\n",
      "  self.obj[item] = s\n",
      "C:\\Users\\bhave\\anaconda3\\lib\\site-packages\\ipykernel_launcher.py:12: SettingWithCopyWarning: \n",
      "A value is trying to be set on a copy of a slice from a DataFrame.\n",
      "Try using .loc[row_indexer,col_indexer] = value instead\n",
      "\n",
      "See the caveats in the documentation: https://pandas.pydata.org/pandas-docs/stable/user_guide/indexing.html#returning-a-view-versus-a-copy\n",
      "  if sys.path[0] == '':\n",
      "C:\\Users\\bhave\\anaconda3\\lib\\site-packages\\pandas\\core\\indexing.py:966: SettingWithCopyWarning: \n",
      "A value is trying to be set on a copy of a slice from a DataFrame.\n",
      "Try using .loc[row_indexer,col_indexer] = value instead\n",
      "\n",
      "See the caveats in the documentation: https://pandas.pydata.org/pandas-docs/stable/user_guide/indexing.html#returning-a-view-versus-a-copy\n",
      "  self.obj[item] = s\n",
      "C:\\Users\\bhave\\anaconda3\\lib\\site-packages\\ipykernel_launcher.py:12: SettingWithCopyWarning: \n",
      "A value is trying to be set on a copy of a slice from a DataFrame.\n",
      "Try using .loc[row_indexer,col_indexer] = value instead\n",
      "\n",
      "See the caveats in the documentation: https://pandas.pydata.org/pandas-docs/stable/user_guide/indexing.html#returning-a-view-versus-a-copy\n",
      "  if sys.path[0] == '':\n",
      "C:\\Users\\bhave\\anaconda3\\lib\\site-packages\\pandas\\core\\indexing.py:966: SettingWithCopyWarning: \n",
      "A value is trying to be set on a copy of a slice from a DataFrame.\n",
      "Try using .loc[row_indexer,col_indexer] = value instead\n",
      "\n",
      "See the caveats in the documentation: https://pandas.pydata.org/pandas-docs/stable/user_guide/indexing.html#returning-a-view-versus-a-copy\n",
      "  self.obj[item] = s\n",
      "C:\\Users\\bhave\\anaconda3\\lib\\site-packages\\ipykernel_launcher.py:12: SettingWithCopyWarning: \n",
      "A value is trying to be set on a copy of a slice from a DataFrame.\n",
      "Try using .loc[row_indexer,col_indexer] = value instead\n",
      "\n",
      "See the caveats in the documentation: https://pandas.pydata.org/pandas-docs/stable/user_guide/indexing.html#returning-a-view-versus-a-copy\n",
      "  if sys.path[0] == '':\n",
      "C:\\Users\\bhave\\anaconda3\\lib\\site-packages\\pandas\\core\\indexing.py:966: SettingWithCopyWarning: \n",
      "A value is trying to be set on a copy of a slice from a DataFrame.\n",
      "Try using .loc[row_indexer,col_indexer] = value instead\n",
      "\n",
      "See the caveats in the documentation: https://pandas.pydata.org/pandas-docs/stable/user_guide/indexing.html#returning-a-view-versus-a-copy\n",
      "  self.obj[item] = s\n"
     ]
    }
   ],
   "source": [
    "#scaling\n",
    "from sklearn.preprocessing import MinMaxScaler\n",
    "\n",
    "num_cols = ['AGE', 'GENDER', 'HH_CARS', 'SA1_code', 'PopDensity_SA1', 'SA2_code',\n",
    "       'PopDensity_SA2', 'SA3_code', 'PopDensity_SA3', 'STATE',\n",
    "       'ACTIVE_TRAVEL_TIME']\n",
    "for i in num_cols:\n",
    "    # fit on training data column\n",
    "    scaler = MinMaxScaler(feature_range=[0,1]).fit(df_vic[[i]])\n",
    "    \n",
    "    # transform the training data column\n",
    "    df_vic[[i]] = scaler.transform(df_vic[[i]])\n",
    " "
   ]
  },
  {
   "cell_type": "code",
   "execution_count": 75,
   "metadata": {
    "scrolled": true
   },
   "outputs": [
    {
     "data": {
      "text/html": [
       "<div>\n",
       "<style scoped>\n",
       "    .dataframe tbody tr th:only-of-type {\n",
       "        vertical-align: middle;\n",
       "    }\n",
       "\n",
       "    .dataframe tbody tr th {\n",
       "        vertical-align: top;\n",
       "    }\n",
       "\n",
       "    .dataframe thead th {\n",
       "        text-align: right;\n",
       "    }\n",
       "</style>\n",
       "<table border=\"1\" class=\"dataframe\">\n",
       "  <thead>\n",
       "    <tr style=\"text-align: right;\">\n",
       "      <th></th>\n",
       "      <th>AGE</th>\n",
       "      <th>GENDER</th>\n",
       "      <th>HH_CARS</th>\n",
       "      <th>SA1_code</th>\n",
       "      <th>PopDensity_SA1</th>\n",
       "      <th>SA2_code</th>\n",
       "      <th>PopDensity_SA2</th>\n",
       "      <th>SA3_code</th>\n",
       "      <th>PopDensity_SA3</th>\n",
       "      <th>STATE</th>\n",
       "      <th>ACTIVE_TRAVEL_TIME</th>\n",
       "    </tr>\n",
       "  </thead>\n",
       "  <tbody>\n",
       "    <tr>\n",
       "      <th>0</th>\n",
       "      <td>0.278481</td>\n",
       "      <td>1.0</td>\n",
       "      <td>0.0</td>\n",
       "      <td>0.000000</td>\n",
       "      <td>0.009439</td>\n",
       "      <td>0.0</td>\n",
       "      <td>0.018565</td>\n",
       "      <td>0.0</td>\n",
       "      <td>0.04708</td>\n",
       "      <td>0.0</td>\n",
       "      <td>0.0</td>\n",
       "    </tr>\n",
       "    <tr>\n",
       "      <th>1</th>\n",
       "      <td>0.696203</td>\n",
       "      <td>0.0</td>\n",
       "      <td>0.5</td>\n",
       "      <td>0.000048</td>\n",
       "      <td>0.004420</td>\n",
       "      <td>0.0</td>\n",
       "      <td>0.018565</td>\n",
       "      <td>0.0</td>\n",
       "      <td>0.04708</td>\n",
       "      <td>0.0</td>\n",
       "      <td>0.0</td>\n",
       "    </tr>\n",
       "    <tr>\n",
       "      <th>2</th>\n",
       "      <td>0.848101</td>\n",
       "      <td>1.0</td>\n",
       "      <td>0.5</td>\n",
       "      <td>0.000048</td>\n",
       "      <td>0.004420</td>\n",
       "      <td>0.0</td>\n",
       "      <td>0.018565</td>\n",
       "      <td>0.0</td>\n",
       "      <td>0.04708</td>\n",
       "      <td>0.0</td>\n",
       "      <td>0.0</td>\n",
       "    </tr>\n",
       "    <tr>\n",
       "      <th>3</th>\n",
       "      <td>0.202532</td>\n",
       "      <td>1.0</td>\n",
       "      <td>0.5</td>\n",
       "      <td>0.000048</td>\n",
       "      <td>0.004420</td>\n",
       "      <td>0.0</td>\n",
       "      <td>0.018565</td>\n",
       "      <td>0.0</td>\n",
       "      <td>0.04708</td>\n",
       "      <td>0.0</td>\n",
       "      <td>0.0</td>\n",
       "    </tr>\n",
       "    <tr>\n",
       "      <th>4</th>\n",
       "      <td>0.632911</td>\n",
       "      <td>0.0</td>\n",
       "      <td>1.0</td>\n",
       "      <td>0.000048</td>\n",
       "      <td>0.004420</td>\n",
       "      <td>0.0</td>\n",
       "      <td>0.018565</td>\n",
       "      <td>0.0</td>\n",
       "      <td>0.04708</td>\n",
       "      <td>0.0</td>\n",
       "      <td>0.0</td>\n",
       "    </tr>\n",
       "  </tbody>\n",
       "</table>\n",
       "</div>"
      ],
      "text/plain": [
       "        AGE  GENDER  HH_CARS  SA1_code  PopDensity_SA1  SA2_code  \\\n",
       "0  0.278481     1.0      0.0  0.000000        0.009439       0.0   \n",
       "1  0.696203     0.0      0.5  0.000048        0.004420       0.0   \n",
       "2  0.848101     1.0      0.5  0.000048        0.004420       0.0   \n",
       "3  0.202532     1.0      0.5  0.000048        0.004420       0.0   \n",
       "4  0.632911     0.0      1.0  0.000048        0.004420       0.0   \n",
       "\n",
       "   PopDensity_SA2  SA3_code  PopDensity_SA3  STATE  ACTIVE_TRAVEL_TIME  \n",
       "0        0.018565       0.0         0.04708    0.0                 0.0  \n",
       "1        0.018565       0.0         0.04708    0.0                 0.0  \n",
       "2        0.018565       0.0         0.04708    0.0                 0.0  \n",
       "3        0.018565       0.0         0.04708    0.0                 0.0  \n",
       "4        0.018565       0.0         0.04708    0.0                 0.0  "
      ]
     },
     "execution_count": 75,
     "metadata": {},
     "output_type": "execute_result"
    }
   ],
   "source": [
    "df_vic.head()"
   ]
  },
  {
   "cell_type": "code",
   "execution_count": 76,
   "metadata": {},
   "outputs": [],
   "source": [
    "x_train, x_test, y_train, y_test = train_test_split(X, Y, test_size=0.3, \n",
    "                                                        random_state=0)"
   ]
  },
  {
   "cell_type": "code",
   "execution_count": 77,
   "metadata": {
    "scrolled": true
   },
   "outputs": [],
   "source": [
    "#import XGBoost classifier and accuracy\n",
    "from xgboost import XGBClassifier\n",
    "from sklearn.metrics import accuracy_score"
   ]
  },
  {
   "cell_type": "code",
   "execution_count": 78,
   "metadata": {},
   "outputs": [
    {
     "data": {
      "text/plain": [
       "XGBClassifier(base_score=0.5, booster='gbtree', colsample_bylevel=1,\n",
       "              colsample_bynode=1, colsample_bytree=1, gamma=0, gpu_id=-1,\n",
       "              importance_type='gain', interaction_constraints='',\n",
       "              learning_rate=0.05, max_delta_step=0, max_depth=5,\n",
       "              min_child_weight=1, missing=nan, monotone_constraints='()',\n",
       "              n_estimators=300, n_jobs=0, num_parallel_tree=1, random_state=0,\n",
       "              reg_alpha=0, reg_lambda=1, scale_pos_weight=1, subsample=1,\n",
       "              tree_method='exact', validate_parameters=1, verbosity=None)"
      ]
     },
     "execution_count": 78,
     "metadata": {},
     "output_type": "execute_result"
    }
   ],
   "source": [
    "#instantiate model and train\n",
    "model = XGBClassifier(learning_rate = 0.05, n_estimators=300, max_depth=5)\n",
    "model.fit(x_train, y_train)"
   ]
  },
  {
   "cell_type": "code",
   "execution_count": 79,
   "metadata": {},
   "outputs": [
    {
     "name": "stdout",
     "output_type": "stream",
     "text": [
      "Accuracy: 92.67%\n"
     ]
    }
   ],
   "source": [
    "# make predictions for test set\n",
    "y_pred = model.predict(x_test)\n",
    "predictions = [round(value) for value in y_pred]\n",
    "\n",
    "accuracy = accuracy_score(y_test, predictions)\n",
    "print(\"Accuracy: %.2f%%\" % (accuracy * 100.0))"
   ]
  },
  {
   "cell_type": "code",
   "execution_count": 80,
   "metadata": {
    "scrolled": false
   },
   "outputs": [
    {
     "data": {
      "image/png": "[encoded data removed]",
      "text/plain": [
       "<Figure size 576x720 with 1 Axes>"
      ]
     },
     "metadata": {},
     "output_type": "display_data"
    }
   ],
   "source": [
    "from xgboost import plot_importance\n",
    "import matplotlib.pyplot as plt\n",
    "\n",
    "# plot feature importance\n",
    "plot_importance(model)\n",
    "plt.show()"
   ]
  },
  {
   "cell_type": "markdown",
   "metadata": {},
   "source": [
    "## Changing State to Queensland in copy 4"
   ]
  }
 ],
 "metadata": {
  "kernelspec": {
   "display_name": "Python 3",
   "language": "python",
   "name": "python3"
  },
  "language_info": {
   "codemirror_mode": {
    "name": "ipython",
    "version": 3
   },
   "file_extension": ".py",
   "mimetype": "text/x-python",
   "name": "python",
   "nbconvert_exporter": "python",
   "pygments_lexer": "ipython3",
   "version": "3.7.7"
  }
 },
 "nbformat": 4,
 "nbformat_minor": 4
}
