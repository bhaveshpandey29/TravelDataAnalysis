{
 "cells": [
  {
   "cell_type": "markdown",
   "metadata": {},
   "source": [
    "### import geopandas as gpd\n",
    "\n",
    "shp_file = geopandas.read_file('./New Data/GIS data/SA2_Travel_Survey.shp')\n",
    "shp_file.to_file('myshpfile.csv', driver='GeoJSON')"
   ]
  },
  {
   "cell_type": "code",
   "execution_count": null,
   "metadata": {},
   "outputs": [],
   "source": []
  },
  {
   "cell_type": "code",
   "execution_count": 2,
   "metadata": {},
   "outputs": [],
   "source": [
    "import shapefile"
   ]
  },
  {
   "cell_type": "code",
   "execution_count": 3,
   "metadata": {},
   "outputs": [],
   "source": [
    "sf = shapefile.Reader(\"./New Data/GIS data/SA2_Travel_Survey.shp\")"
   ]
  },
  {
   "cell_type": "code",
   "execution_count": 4,
   "metadata": {},
   "outputs": [
    {
     "name": "stdout",
     "output_type": "stream",
     "text": [
      "shapefile Reader\n",
      "    515 shapes (type 'POLYGON')\n",
      "    515 records (9 fields)\n"
     ]
    }
   ],
   "source": [
    "with shapefile.Reader('./New Data/GIS data/SA2_Travel_Survey.shp') as shp:\n",
    "    print(shp)"
   ]
  },
  {
   "cell_type": "code",
   "execution_count": 5,
   "metadata": {},
   "outputs": [
    {
     "data": {
      "text/plain": [
       "5"
      ]
     },
     "execution_count": 5,
     "metadata": {},
     "output_type": "execute_result"
    }
   ],
   "source": [
    "sf.shapeType"
   ]
  },
  {
   "cell_type": "code",
   "execution_count": null,
   "metadata": {},
   "outputs": [],
   "source": []
  },
  {
   "cell_type": "code",
   "execution_count": null,
   "metadata": {},
   "outputs": [],
   "source": []
  },
  {
   "cell_type": "code",
   "execution_count": null,
   "metadata": {},
   "outputs": [],
   "source": []
  },
  {
   "cell_type": "code",
   "execution_count": null,
   "metadata": {},
   "outputs": [],
   "source": []
  },
  {
   "cell_type": "code",
   "execution_count": null,
   "metadata": {},
   "outputs": [],
   "source": []
  },
  {
   "cell_type": "code",
   "execution_count": 6,
   "metadata": {
    "scrolled": true
   },
   "outputs": [],
   "source": [
    "import numpy as np\n",
    "import pandas as pd\n",
    "import shapefile as shp\n",
    "import matplotlib.pyplot as plt\n",
    "import seaborn as sns"
   ]
  },
  {
   "cell_type": "code",
   "execution_count": null,
   "metadata": {},
   "outputs": [],
   "source": []
  },
  {
   "cell_type": "code",
   "execution_count": 7,
   "metadata": {},
   "outputs": [],
   "source": [
    "sns.set(style=\"whitegrid\", palette=\"pastel\", color_codes=True)\n",
    "sns.mpl.rc(\"figure\", figsize=(10,6))"
   ]
  },
  {
   "cell_type": "code",
   "execution_count": 8,
   "metadata": {},
   "outputs": [],
   "source": [
    "%matplotlib inline"
   ]
  },
  {
   "cell_type": "code",
   "execution_count": 9,
   "metadata": {},
   "outputs": [],
   "source": [
    "shp_path = \"./New Data/GIS data/SA2_Travel_Survey.shp\"\n",
    "sf = shp.Reader(shp_path)"
   ]
  },
  {
   "cell_type": "code",
   "execution_count": 10,
   "metadata": {},
   "outputs": [
    {
     "data": {
      "text/plain": [
       "515"
      ]
     },
     "execution_count": 10,
     "metadata": {},
     "output_type": "execute_result"
    }
   ],
   "source": [
    "len(sf.shapes())"
   ]
  },
  {
   "cell_type": "code",
   "execution_count": 11,
   "metadata": {},
   "outputs": [],
   "source": [
    "# We have 512 shapes in our shape files"
   ]
  },
  {
   "cell_type": "code",
   "execution_count": 12,
   "metadata": {},
   "outputs": [
    {
     "name": "stdout",
     "output_type": "stream",
     "text": [
      "Record #1: ['21002', 12080.9999596, 0.169505274228, 0.00126303537623, '201011002', 'Ballarat', 12.3863575199, 975.347267359]\n"
     ]
    }
   ],
   "source": [
    "print(sf.records()[1])"
   ]
  },
  {
   "cell_type": "code",
   "execution_count": 13,
   "metadata": {},
   "outputs": [
    {
     "data": {
      "text/plain": [
       "Record #25: ['21042', 19305.0000072, 0.31618319704, 0.00418255461028, '203021042', 'Highton', 40.6787355306, 474.572273581]"
      ]
     },
     "execution_count": 13,
     "metadata": {},
     "output_type": "execute_result"
    }
   ],
   "source": [
    "sf.records()[25]"
   ]
  },
  {
   "cell_type": "code",
   "execution_count": 14,
   "metadata": {},
   "outputs": [],
   "source": [
    "# Coverting it into the pandas dataframe.........."
   ]
  },
  {
   "cell_type": "code",
   "execution_count": 15,
   "metadata": {},
   "outputs": [],
   "source": [
    "def read_shapefile(sf):\n",
    "    \"\"\"\n",
    "    Read a shapefile into a Pandas dataframe with a 'coords' \n",
    "    column holding the geometry information. This uses the pyshp\n",
    "    package\n",
    "    \"\"\"\n",
    "    fields = [x[0] for x in sf.fields][1:]\n",
    "    records = sf.records()\n",
    "    shps = [s.points for s in sf.shapes()]\n",
    "    df = pd.DataFrame(columns=fields, data=records)\n",
    "    df = df.assign(coords=shps)\n",
    "    return df"
   ]
  },
  {
   "cell_type": "code",
   "execution_count": 16,
   "metadata": {},
   "outputs": [],
   "source": [
    "df= read_shapefile(sf)"
   ]
  },
  {
   "cell_type": "code",
   "execution_count": 17,
   "metadata": {},
   "outputs": [
    {
     "data": {
      "text/plain": [
       "(515, 9)"
      ]
     },
     "execution_count": 17,
     "metadata": {},
     "output_type": "execute_result"
    }
   ],
   "source": [
    "df.shape"
   ]
  },
  {
   "cell_type": "code",
   "execution_count": 18,
   "metadata": {
    "scrolled": false
   },
   "outputs": [
    {
     "data": {
      "text/html": [
       "<div>\n",
       "<style scoped>\n",
       "    .dataframe tbody tr th:only-of-type {\n",
       "        vertical-align: middle;\n",
       "    }\n",
       "\n",
       "    .dataframe tbody tr th {\n",
       "        vertical-align: top;\n",
       "    }\n",
       "\n",
       "    .dataframe thead th {\n",
       "        text-align: right;\n",
       "    }\n",
       "</style>\n",
       "<table border=\"1\" class=\"dataframe\">\n",
       "  <thead>\n",
       "    <tr style=\"text-align: right;\">\n",
       "      <th></th>\n",
       "      <th>SA2_5DIG11</th>\n",
       "      <th>SUM_PopSpl</th>\n",
       "      <th>Shape_Leng</th>\n",
       "      <th>Shape_Area</th>\n",
       "      <th>SA2_MAIN11</th>\n",
       "      <th>SA2_NAME11</th>\n",
       "      <th>Arkm2</th>\n",
       "      <th>PopDensity</th>\n",
       "      <th>coords</th>\n",
       "    </tr>\n",
       "  </thead>\n",
       "  <tbody>\n",
       "    <tr>\n",
       "      <th>0</th>\n",
       "      <td>21001</td>\n",
       "      <td>8329.000002</td>\n",
       "      <td>0.373358</td>\n",
       "      <td>0.005374</td>\n",
       "      <td>201011001</td>\n",
       "      <td>Alfredton</td>\n",
       "      <td>52.711180</td>\n",
       "      <td>158.012021</td>\n",
       "      <td>[(143.77930991601988, -37.52306280320573), (14...</td>\n",
       "    </tr>\n",
       "    <tr>\n",
       "      <th>1</th>\n",
       "      <td>21002</td>\n",
       "      <td>12080.999960</td>\n",
       "      <td>0.169505</td>\n",
       "      <td>0.001263</td>\n",
       "      <td>201011002</td>\n",
       "      <td>Ballarat</td>\n",
       "      <td>12.386358</td>\n",
       "      <td>975.347267</td>\n",
       "      <td>[(143.82658395388648, -37.540578960750395), (1...</td>\n",
       "    </tr>\n",
       "    <tr>\n",
       "      <th>2</th>\n",
       "      <td>21003</td>\n",
       "      <td>22001.000029</td>\n",
       "      <td>0.479115</td>\n",
       "      <td>0.009413</td>\n",
       "      <td>201011003</td>\n",
       "      <td>Ballarat - North</td>\n",
       "      <td>92.349161</td>\n",
       "      <td>238.237140</td>\n",
       "      <td>[(143.9221236796642, -37.47439154893078), (143...</td>\n",
       "    </tr>\n",
       "    <tr>\n",
       "      <th>3</th>\n",
       "      <td>21004</td>\n",
       "      <td>22744.999962</td>\n",
       "      <td>0.291446</td>\n",
       "      <td>0.003352</td>\n",
       "      <td>201011004</td>\n",
       "      <td>Ballarat - South</td>\n",
       "      <td>32.854063</td>\n",
       "      <td>692.304013</td>\n",
       "      <td>[(143.86824657382044, -37.56652335406949), (14...</td>\n",
       "    </tr>\n",
       "    <tr>\n",
       "      <th>4</th>\n",
       "      <td>21005</td>\n",
       "      <td>6600.000004</td>\n",
       "      <td>0.411868</td>\n",
       "      <td>0.005266</td>\n",
       "      <td>201011005</td>\n",
       "      <td>Buninyong</td>\n",
       "      <td>51.583998</td>\n",
       "      <td>127.946655</td>\n",
       "      <td>[(143.8514049923466, -37.61072400560835), (143...</td>\n",
       "    </tr>\n",
       "  </tbody>\n",
       "</table>\n",
       "</div>"
      ],
      "text/plain": [
       "  SA2_5DIG11    SUM_PopSpl  Shape_Leng  Shape_Area SA2_MAIN11  \\\n",
       "0      21001   8329.000002    0.373358    0.005374  201011001   \n",
       "1      21002  12080.999960    0.169505    0.001263  201011002   \n",
       "2      21003  22001.000029    0.479115    0.009413  201011003   \n",
       "3      21004  22744.999962    0.291446    0.003352  201011004   \n",
       "4      21005   6600.000004    0.411868    0.005266  201011005   \n",
       "\n",
       "         SA2_NAME11      Arkm2  PopDensity  \\\n",
       "0         Alfredton  52.711180  158.012021   \n",
       "1          Ballarat  12.386358  975.347267   \n",
       "2  Ballarat - North  92.349161  238.237140   \n",
       "3  Ballarat - South  32.854063  692.304013   \n",
       "4         Buninyong  51.583998  127.946655   \n",
       "\n",
       "                                              coords  \n",
       "0  [(143.77930991601988, -37.52306280320573), (14...  \n",
       "1  [(143.82658395388648, -37.540578960750395), (1...  \n",
       "2  [(143.9221236796642, -37.47439154893078), (143...  \n",
       "3  [(143.86824657382044, -37.56652335406949), (14...  \n",
       "4  [(143.8514049923466, -37.61072400560835), (143...  "
      ]
     },
     "execution_count": 18,
     "metadata": {},
     "output_type": "execute_result"
    }
   ],
   "source": [
    "df.head()"
   ]
  },
  {
   "cell_type": "code",
   "execution_count": null,
   "metadata": {},
   "outputs": [],
   "source": []
  },
  {
   "cell_type": "code",
   "execution_count": null,
   "metadata": {},
   "outputs": [],
   "source": []
  },
  {
   "cell_type": "code",
   "execution_count": null,
   "metadata": {},
   "outputs": [],
   "source": []
  },
  {
   "cell_type": "code",
   "execution_count": null,
   "metadata": {},
   "outputs": [],
   "source": []
  },
  {
   "cell_type": "code",
   "execution_count": 19,
   "metadata": {},
   "outputs": [
    {
     "data": {
      "text/plain": [
       "(143.78144732843157, -37.52402830726055)"
      ]
     },
     "execution_count": 19,
     "metadata": {},
     "output_type": "execute_result"
    }
   ],
   "source": [
    "df.coords[0][1]"
   ]
  },
  {
   "cell_type": "code",
   "execution_count": null,
   "metadata": {},
   "outputs": [],
   "source": []
  },
  {
   "cell_type": "code",
   "execution_count": null,
   "metadata": {
    "scrolled": true
   },
   "outputs": [],
   "source": []
  },
  {
   "cell_type": "code",
   "execution_count": null,
   "metadata": {},
   "outputs": [],
   "source": []
  },
  {
   "cell_type": "code",
   "execution_count": null,
   "metadata": {
    "scrolled": true
   },
   "outputs": [],
   "source": []
  },
  {
   "cell_type": "code",
   "execution_count": null,
   "metadata": {},
   "outputs": [],
   "source": []
  },
  {
   "cell_type": "code",
   "execution_count": null,
   "metadata": {},
   "outputs": [],
   "source": []
  },
  {
   "cell_type": "code",
   "execution_count": null,
   "metadata": {},
   "outputs": [],
   "source": []
  },
  {
   "cell_type": "code",
   "execution_count": null,
   "metadata": {},
   "outputs": [],
   "source": []
  },
  {
   "cell_type": "code",
   "execution_count": 20,
   "metadata": {},
   "outputs": [],
   "source": [
    "#df['latitude'] = df['newcoords'].apply(lambda x: x[0][1])"
   ]
  },
  {
   "cell_type": "code",
   "execution_count": 21,
   "metadata": {},
   "outputs": [],
   "source": [
    "#df['longitude'] = df['newcoords'].apply(lambda x: x[0][0])"
   ]
  },
  {
   "cell_type": "code",
   "execution_count": null,
   "metadata": {
    "scrolled": true
   },
   "outputs": [],
   "source": []
  },
  {
   "cell_type": "code",
   "execution_count": 22,
   "metadata": {},
   "outputs": [
    {
     "data": {
      "text/plain": [
       "Index(['SA2_5DIG11', 'SUM_PopSpl', 'Shape_Leng', 'Shape_Area', 'SA2_MAIN11',\n",
       "       'SA2_NAME11', 'Arkm2', 'PopDensity', 'coords'],\n",
       "      dtype='object')"
      ]
     },
     "execution_count": 22,
     "metadata": {},
     "output_type": "execute_result"
    }
   ],
   "source": [
    "df.columns"
   ]
  },
  {
   "cell_type": "code",
   "execution_count": 23,
   "metadata": {},
   "outputs": [],
   "source": [
    "df.drop(['SUM_PopSpl', 'Shape_Leng', 'Shape_Area', 'SA2_MAIN11',\n",
    "       'Arkm2', 'PopDensity'],axis = 1, inplace = True)"
   ]
  },
  {
   "cell_type": "code",
   "execution_count": 24,
   "metadata": {},
   "outputs": [
    {
     "data": {
      "text/html": [
       "<div>\n",
       "<style scoped>\n",
       "    .dataframe tbody tr th:only-of-type {\n",
       "        vertical-align: middle;\n",
       "    }\n",
       "\n",
       "    .dataframe tbody tr th {\n",
       "        vertical-align: top;\n",
       "    }\n",
       "\n",
       "    .dataframe thead th {\n",
       "        text-align: right;\n",
       "    }\n",
       "</style>\n",
       "<table border=\"1\" class=\"dataframe\">\n",
       "  <thead>\n",
       "    <tr style=\"text-align: right;\">\n",
       "      <th></th>\n",
       "      <th>SA2_5DIG11</th>\n",
       "      <th>SA2_NAME11</th>\n",
       "      <th>coords</th>\n",
       "    </tr>\n",
       "  </thead>\n",
       "  <tbody>\n",
       "    <tr>\n",
       "      <th>0</th>\n",
       "      <td>21001</td>\n",
       "      <td>Alfredton</td>\n",
       "      <td>[(143.77930991601988, -37.52306280320573), (14...</td>\n",
       "    </tr>\n",
       "    <tr>\n",
       "      <th>1</th>\n",
       "      <td>21002</td>\n",
       "      <td>Ballarat</td>\n",
       "      <td>[(143.82658395388648, -37.540578960750395), (1...</td>\n",
       "    </tr>\n",
       "    <tr>\n",
       "      <th>2</th>\n",
       "      <td>21003</td>\n",
       "      <td>Ballarat - North</td>\n",
       "      <td>[(143.9221236796642, -37.47439154893078), (143...</td>\n",
       "    </tr>\n",
       "    <tr>\n",
       "      <th>3</th>\n",
       "      <td>21004</td>\n",
       "      <td>Ballarat - South</td>\n",
       "      <td>[(143.86824657382044, -37.56652335406949), (14...</td>\n",
       "    </tr>\n",
       "    <tr>\n",
       "      <th>4</th>\n",
       "      <td>21005</td>\n",
       "      <td>Buninyong</td>\n",
       "      <td>[(143.8514049923466, -37.61072400560835), (143...</td>\n",
       "    </tr>\n",
       "    <tr>\n",
       "      <th>...</th>\n",
       "      <td>...</td>\n",
       "      <td>...</td>\n",
       "      <td>...</td>\n",
       "    </tr>\n",
       "    <tr>\n",
       "      <th>510</th>\n",
       "      <td>31440</td>\n",
       "      <td>Caloundra Hinterland</td>\n",
       "      <td>[(152.66948732927688, -26.61753223452496), (15...</td>\n",
       "    </tr>\n",
       "    <tr>\n",
       "      <th>511</th>\n",
       "      <td>31441</td>\n",
       "      <td>Glass House Mountains</td>\n",
       "      <td>[(153.0583261123603, -26.97750098398319), (153...</td>\n",
       "    </tr>\n",
       "    <tr>\n",
       "      <th>512</th>\n",
       "      <td>31442</td>\n",
       "      <td>Landsborough</td>\n",
       "      <td>[(153.06147305423815, -26.728273880734946), (1...</td>\n",
       "    </tr>\n",
       "    <tr>\n",
       "      <th>513</th>\n",
       "      <td>31443</td>\n",
       "      <td>Maroochy Hinterland</td>\n",
       "      <td>[(152.76720640015526, -26.468397781932026), (1...</td>\n",
       "    </tr>\n",
       "    <tr>\n",
       "      <th>514</th>\n",
       "      <td>31444</td>\n",
       "      <td>Palmwoods</td>\n",
       "      <td>[(152.94168899195347, -26.655579006066205), (1...</td>\n",
       "    </tr>\n",
       "  </tbody>\n",
       "</table>\n",
       "<p>515 rows × 3 columns</p>\n",
       "</div>"
      ],
      "text/plain": [
       "    SA2_5DIG11             SA2_NAME11  \\\n",
       "0        21001              Alfredton   \n",
       "1        21002               Ballarat   \n",
       "2        21003       Ballarat - North   \n",
       "3        21004       Ballarat - South   \n",
       "4        21005              Buninyong   \n",
       "..         ...                    ...   \n",
       "510      31440   Caloundra Hinterland   \n",
       "511      31441  Glass House Mountains   \n",
       "512      31442           Landsborough   \n",
       "513      31443    Maroochy Hinterland   \n",
       "514      31444              Palmwoods   \n",
       "\n",
       "                                                coords  \n",
       "0    [(143.77930991601988, -37.52306280320573), (14...  \n",
       "1    [(143.82658395388648, -37.540578960750395), (1...  \n",
       "2    [(143.9221236796642, -37.47439154893078), (143...  \n",
       "3    [(143.86824657382044, -37.56652335406949), (14...  \n",
       "4    [(143.8514049923466, -37.61072400560835), (143...  \n",
       "..                                                 ...  \n",
       "510  [(152.66948732927688, -26.61753223452496), (15...  \n",
       "511  [(153.0583261123603, -26.97750098398319), (153...  \n",
       "512  [(153.06147305423815, -26.728273880734946), (1...  \n",
       "513  [(152.76720640015526, -26.468397781932026), (1...  \n",
       "514  [(152.94168899195347, -26.655579006066205), (1...  \n",
       "\n",
       "[515 rows x 3 columns]"
      ]
     },
     "execution_count": 24,
     "metadata": {},
     "output_type": "execute_result"
    }
   ],
   "source": [
    "df"
   ]
  },
  {
   "cell_type": "code",
   "execution_count": null,
   "metadata": {},
   "outputs": [],
   "source": []
  },
  {
   "cell_type": "code",
   "execution_count": 25,
   "metadata": {},
   "outputs": [],
   "source": [
    "df = df.rename(columns={'SA2_5DIG11': 'SA2_code'})"
   ]
  },
  {
   "cell_type": "code",
   "execution_count": 26,
   "metadata": {},
   "outputs": [
    {
     "data": {
      "text/html": [
       "<div>\n",
       "<style scoped>\n",
       "    .dataframe tbody tr th:only-of-type {\n",
       "        vertical-align: middle;\n",
       "    }\n",
       "\n",
       "    .dataframe tbody tr th {\n",
       "        vertical-align: top;\n",
       "    }\n",
       "\n",
       "    .dataframe thead th {\n",
       "        text-align: right;\n",
       "    }\n",
       "</style>\n",
       "<table border=\"1\" class=\"dataframe\">\n",
       "  <thead>\n",
       "    <tr style=\"text-align: right;\">\n",
       "      <th></th>\n",
       "      <th>SA2_code</th>\n",
       "      <th>SA2_NAME11</th>\n",
       "      <th>coords</th>\n",
       "    </tr>\n",
       "  </thead>\n",
       "  <tbody>\n",
       "    <tr>\n",
       "      <th>0</th>\n",
       "      <td>21001</td>\n",
       "      <td>Alfredton</td>\n",
       "      <td>[(143.77930991601988, -37.52306280320573), (14...</td>\n",
       "    </tr>\n",
       "    <tr>\n",
       "      <th>1</th>\n",
       "      <td>21002</td>\n",
       "      <td>Ballarat</td>\n",
       "      <td>[(143.82658395388648, -37.540578960750395), (1...</td>\n",
       "    </tr>\n",
       "    <tr>\n",
       "      <th>2</th>\n",
       "      <td>21003</td>\n",
       "      <td>Ballarat - North</td>\n",
       "      <td>[(143.9221236796642, -37.47439154893078), (143...</td>\n",
       "    </tr>\n",
       "    <tr>\n",
       "      <th>3</th>\n",
       "      <td>21004</td>\n",
       "      <td>Ballarat - South</td>\n",
       "      <td>[(143.86824657382044, -37.56652335406949), (14...</td>\n",
       "    </tr>\n",
       "    <tr>\n",
       "      <th>4</th>\n",
       "      <td>21005</td>\n",
       "      <td>Buninyong</td>\n",
       "      <td>[(143.8514049923466, -37.61072400560835), (143...</td>\n",
       "    </tr>\n",
       "    <tr>\n",
       "      <th>...</th>\n",
       "      <td>...</td>\n",
       "      <td>...</td>\n",
       "      <td>...</td>\n",
       "    </tr>\n",
       "    <tr>\n",
       "      <th>510</th>\n",
       "      <td>31440</td>\n",
       "      <td>Caloundra Hinterland</td>\n",
       "      <td>[(152.66948732927688, -26.61753223452496), (15...</td>\n",
       "    </tr>\n",
       "    <tr>\n",
       "      <th>511</th>\n",
       "      <td>31441</td>\n",
       "      <td>Glass House Mountains</td>\n",
       "      <td>[(153.0583261123603, -26.97750098398319), (153...</td>\n",
       "    </tr>\n",
       "    <tr>\n",
       "      <th>512</th>\n",
       "      <td>31442</td>\n",
       "      <td>Landsborough</td>\n",
       "      <td>[(153.06147305423815, -26.728273880734946), (1...</td>\n",
       "    </tr>\n",
       "    <tr>\n",
       "      <th>513</th>\n",
       "      <td>31443</td>\n",
       "      <td>Maroochy Hinterland</td>\n",
       "      <td>[(152.76720640015526, -26.468397781932026), (1...</td>\n",
       "    </tr>\n",
       "    <tr>\n",
       "      <th>514</th>\n",
       "      <td>31444</td>\n",
       "      <td>Palmwoods</td>\n",
       "      <td>[(152.94168899195347, -26.655579006066205), (1...</td>\n",
       "    </tr>\n",
       "  </tbody>\n",
       "</table>\n",
       "<p>515 rows × 3 columns</p>\n",
       "</div>"
      ],
      "text/plain": [
       "    SA2_code             SA2_NAME11  \\\n",
       "0      21001              Alfredton   \n",
       "1      21002               Ballarat   \n",
       "2      21003       Ballarat - North   \n",
       "3      21004       Ballarat - South   \n",
       "4      21005              Buninyong   \n",
       "..       ...                    ...   \n",
       "510    31440   Caloundra Hinterland   \n",
       "511    31441  Glass House Mountains   \n",
       "512    31442           Landsborough   \n",
       "513    31443    Maroochy Hinterland   \n",
       "514    31444              Palmwoods   \n",
       "\n",
       "                                                coords  \n",
       "0    [(143.77930991601988, -37.52306280320573), (14...  \n",
       "1    [(143.82658395388648, -37.540578960750395), (1...  \n",
       "2    [(143.9221236796642, -37.47439154893078), (143...  \n",
       "3    [(143.86824657382044, -37.56652335406949), (14...  \n",
       "4    [(143.8514049923466, -37.61072400560835), (143...  \n",
       "..                                                 ...  \n",
       "510  [(152.66948732927688, -26.61753223452496), (15...  \n",
       "511  [(153.0583261123603, -26.97750098398319), (153...  \n",
       "512  [(153.06147305423815, -26.728273880734946), (1...  \n",
       "513  [(152.76720640015526, -26.468397781932026), (1...  \n",
       "514  [(152.94168899195347, -26.655579006066205), (1...  \n",
       "\n",
       "[515 rows x 3 columns]"
      ]
     },
     "execution_count": 26,
     "metadata": {},
     "output_type": "execute_result"
    }
   ],
   "source": [
    "df"
   ]
  },
  {
   "cell_type": "code",
   "execution_count": 27,
   "metadata": {},
   "outputs": [],
   "source": [
    "df.to_csv('Test5.csv',index=False)"
   ]
  },
  {
   "cell_type": "code",
   "execution_count": 28,
   "metadata": {},
   "outputs": [],
   "source": [
    "df1 = pd.read_csv('Australian_Travel_Survey_Data.csv')"
   ]
  },
  {
   "cell_type": "code",
   "execution_count": 29,
   "metadata": {},
   "outputs": [],
   "source": [
    "df2=pd.read_csv('Test5.csv')"
   ]
  },
  {
   "cell_type": "code",
   "execution_count": 30,
   "metadata": {},
   "outputs": [
    {
     "data": {
      "text/html": [
       "<div>\n",
       "<style scoped>\n",
       "    .dataframe tbody tr th:only-of-type {\n",
       "        vertical-align: middle;\n",
       "    }\n",
       "\n",
       "    .dataframe tbody tr th {\n",
       "        vertical-align: top;\n",
       "    }\n",
       "\n",
       "    .dataframe thead th {\n",
       "        text-align: right;\n",
       "    }\n",
       "</style>\n",
       "<table border=\"1\" class=\"dataframe\">\n",
       "  <thead>\n",
       "    <tr style=\"text-align: right;\">\n",
       "      <th></th>\n",
       "      <th>SA2_code</th>\n",
       "      <th>SA2_NAME11</th>\n",
       "      <th>coords</th>\n",
       "    </tr>\n",
       "  </thead>\n",
       "  <tbody>\n",
       "    <tr>\n",
       "      <th>0</th>\n",
       "      <td>21001</td>\n",
       "      <td>Alfredton</td>\n",
       "      <td>[(143.77930991601988, -37.52306280320573), (14...</td>\n",
       "    </tr>\n",
       "    <tr>\n",
       "      <th>1</th>\n",
       "      <td>21002</td>\n",
       "      <td>Ballarat</td>\n",
       "      <td>[(143.82658395388648, -37.540578960750395), (1...</td>\n",
       "    </tr>\n",
       "    <tr>\n",
       "      <th>2</th>\n",
       "      <td>21003</td>\n",
       "      <td>Ballarat - North</td>\n",
       "      <td>[(143.9221236796642, -37.47439154893078), (143...</td>\n",
       "    </tr>\n",
       "    <tr>\n",
       "      <th>3</th>\n",
       "      <td>21004</td>\n",
       "      <td>Ballarat - South</td>\n",
       "      <td>[(143.86824657382044, -37.56652335406949), (14...</td>\n",
       "    </tr>\n",
       "    <tr>\n",
       "      <th>4</th>\n",
       "      <td>21005</td>\n",
       "      <td>Buninyong</td>\n",
       "      <td>[(143.8514049923466, -37.61072400560835), (143...</td>\n",
       "    </tr>\n",
       "    <tr>\n",
       "      <th>...</th>\n",
       "      <td>...</td>\n",
       "      <td>...</td>\n",
       "      <td>...</td>\n",
       "    </tr>\n",
       "    <tr>\n",
       "      <th>510</th>\n",
       "      <td>31440</td>\n",
       "      <td>Caloundra Hinterland</td>\n",
       "      <td>[(152.66948732927688, -26.61753223452496), (15...</td>\n",
       "    </tr>\n",
       "    <tr>\n",
       "      <th>511</th>\n",
       "      <td>31441</td>\n",
       "      <td>Glass House Mountains</td>\n",
       "      <td>[(153.0583261123603, -26.97750098398319), (153...</td>\n",
       "    </tr>\n",
       "    <tr>\n",
       "      <th>512</th>\n",
       "      <td>31442</td>\n",
       "      <td>Landsborough</td>\n",
       "      <td>[(153.06147305423815, -26.728273880734946), (1...</td>\n",
       "    </tr>\n",
       "    <tr>\n",
       "      <th>513</th>\n",
       "      <td>31443</td>\n",
       "      <td>Maroochy Hinterland</td>\n",
       "      <td>[(152.76720640015526, -26.468397781932026), (1...</td>\n",
       "    </tr>\n",
       "    <tr>\n",
       "      <th>514</th>\n",
       "      <td>31444</td>\n",
       "      <td>Palmwoods</td>\n",
       "      <td>[(152.94168899195347, -26.655579006066205), (1...</td>\n",
       "    </tr>\n",
       "  </tbody>\n",
       "</table>\n",
       "<p>515 rows × 3 columns</p>\n",
       "</div>"
      ],
      "text/plain": [
       "     SA2_code             SA2_NAME11  \\\n",
       "0       21001              Alfredton   \n",
       "1       21002               Ballarat   \n",
       "2       21003       Ballarat - North   \n",
       "3       21004       Ballarat - South   \n",
       "4       21005              Buninyong   \n",
       "..        ...                    ...   \n",
       "510     31440   Caloundra Hinterland   \n",
       "511     31441  Glass House Mountains   \n",
       "512     31442           Landsborough   \n",
       "513     31443    Maroochy Hinterland   \n",
       "514     31444              Palmwoods   \n",
       "\n",
       "                                                coords  \n",
       "0    [(143.77930991601988, -37.52306280320573), (14...  \n",
       "1    [(143.82658395388648, -37.540578960750395), (1...  \n",
       "2    [(143.9221236796642, -37.47439154893078), (143...  \n",
       "3    [(143.86824657382044, -37.56652335406949), (14...  \n",
       "4    [(143.8514049923466, -37.61072400560835), (143...  \n",
       "..                                                 ...  \n",
       "510  [(152.66948732927688, -26.61753223452496), (15...  \n",
       "511  [(153.0583261123603, -26.97750098398319), (153...  \n",
       "512  [(153.06147305423815, -26.728273880734946), (1...  \n",
       "513  [(152.76720640015526, -26.468397781932026), (1...  \n",
       "514  [(152.94168899195347, -26.655579006066205), (1...  \n",
       "\n",
       "[515 rows x 3 columns]"
      ]
     },
     "execution_count": 30,
     "metadata": {},
     "output_type": "execute_result"
    }
   ],
   "source": [
    "df2"
   ]
  },
  {
   "cell_type": "code",
   "execution_count": 31,
   "metadata": {},
   "outputs": [
    {
     "data": {
      "text/html": [
       "<div>\n",
       "<style scoped>\n",
       "    .dataframe tbody tr th:only-of-type {\n",
       "        vertical-align: middle;\n",
       "    }\n",
       "\n",
       "    .dataframe tbody tr th {\n",
       "        vertical-align: top;\n",
       "    }\n",
       "\n",
       "    .dataframe thead th {\n",
       "        text-align: right;\n",
       "    }\n",
       "</style>\n",
       "<table border=\"1\" class=\"dataframe\">\n",
       "  <thead>\n",
       "    <tr style=\"text-align: right;\">\n",
       "      <th></th>\n",
       "      <th>PERSONID</th>\n",
       "      <th>AGE</th>\n",
       "      <th>GENDER</th>\n",
       "      <th>ANYWORK</th>\n",
       "      <th>CARLICENCE</th>\n",
       "      <th>HHSTRUCTURE</th>\n",
       "      <th>HH_CARS</th>\n",
       "      <th>HHINC_grp</th>\n",
       "      <th>SA1_code</th>\n",
       "      <th>PopDensity_SA1</th>\n",
       "      <th>SA2_code</th>\n",
       "      <th>PopDensity_SA2</th>\n",
       "      <th>SA3_code</th>\n",
       "      <th>PopDensity_SA3</th>\n",
       "      <th>STATE</th>\n",
       "      <th>ACTIVE_TRAVEL_TIME</th>\n",
       "      <th>CAR_TIME</th>\n",
       "    </tr>\n",
       "  </thead>\n",
       "  <tbody>\n",
       "    <tr>\n",
       "      <th>0</th>\n",
       "      <td>Y09H151315P01</td>\n",
       "      <td>40</td>\n",
       "      <td>2</td>\n",
       "      <td>1</td>\n",
       "      <td>1</td>\n",
       "      <td>4</td>\n",
       "      <td>0</td>\n",
       "      <td>1</td>\n",
       "      <td>2100106</td>\n",
       "      <td>1500</td>\n",
       "      <td>21001</td>\n",
       "      <td>158</td>\n",
       "      <td>20101</td>\n",
       "      <td>213</td>\n",
       "      <td>Victoria</td>\n",
       "      <td>0</td>\n",
       "      <td>35</td>\n",
       "    </tr>\n",
       "    <tr>\n",
       "      <th>1</th>\n",
       "      <td>Y09H151324P01</td>\n",
       "      <td>73</td>\n",
       "      <td>1</td>\n",
       "      <td>2</td>\n",
       "      <td>1</td>\n",
       "      <td>2</td>\n",
       "      <td>1</td>\n",
       "      <td>1</td>\n",
       "      <td>2100108</td>\n",
       "      <td>703</td>\n",
       "      <td>21001</td>\n",
       "      <td>158</td>\n",
       "      <td>20101</td>\n",
       "      <td>213</td>\n",
       "      <td>Victoria</td>\n",
       "      <td>0</td>\n",
       "      <td>100</td>\n",
       "    </tr>\n",
       "    <tr>\n",
       "      <th>2</th>\n",
       "      <td>Y09H151340P01</td>\n",
       "      <td>85</td>\n",
       "      <td>2</td>\n",
       "      <td>2</td>\n",
       "      <td>1</td>\n",
       "      <td>1</td>\n",
       "      <td>1</td>\n",
       "      <td>1</td>\n",
       "      <td>2100108</td>\n",
       "      <td>703</td>\n",
       "      <td>21001</td>\n",
       "      <td>158</td>\n",
       "      <td>20101</td>\n",
       "      <td>213</td>\n",
       "      <td>Victoria</td>\n",
       "      <td>0</td>\n",
       "      <td>35</td>\n",
       "    </tr>\n",
       "    <tr>\n",
       "      <th>3</th>\n",
       "      <td>Y09H151329P01</td>\n",
       "      <td>34</td>\n",
       "      <td>2</td>\n",
       "      <td>1</td>\n",
       "      <td>1</td>\n",
       "      <td>3</td>\n",
       "      <td>1</td>\n",
       "      <td>3</td>\n",
       "      <td>2100108</td>\n",
       "      <td>703</td>\n",
       "      <td>21001</td>\n",
       "      <td>158</td>\n",
       "      <td>20101</td>\n",
       "      <td>213</td>\n",
       "      <td>Victoria</td>\n",
       "      <td>0</td>\n",
       "      <td>79</td>\n",
       "    </tr>\n",
       "    <tr>\n",
       "      <th>4</th>\n",
       "      <td>Y09H151325P01</td>\n",
       "      <td>68</td>\n",
       "      <td>1</td>\n",
       "      <td>2</td>\n",
       "      <td>1</td>\n",
       "      <td>3</td>\n",
       "      <td>2</td>\n",
       "      <td>3</td>\n",
       "      <td>2100108</td>\n",
       "      <td>703</td>\n",
       "      <td>21001</td>\n",
       "      <td>158</td>\n",
       "      <td>20101</td>\n",
       "      <td>213</td>\n",
       "      <td>Victoria</td>\n",
       "      <td>0</td>\n",
       "      <td>97</td>\n",
       "    </tr>\n",
       "    <tr>\n",
       "      <th>...</th>\n",
       "      <td>...</td>\n",
       "      <td>...</td>\n",
       "      <td>...</td>\n",
       "      <td>...</td>\n",
       "      <td>...</td>\n",
       "      <td>...</td>\n",
       "      <td>...</td>\n",
       "      <td>...</td>\n",
       "      <td>...</td>\n",
       "      <td>...</td>\n",
       "      <td>...</td>\n",
       "      <td>...</td>\n",
       "      <td>...</td>\n",
       "      <td>...</td>\n",
       "      <td>...</td>\n",
       "      <td>...</td>\n",
       "      <td>...</td>\n",
       "    </tr>\n",
       "    <tr>\n",
       "      <th>41539</th>\n",
       "      <td>Y09H260722P01</td>\n",
       "      <td>64</td>\n",
       "      <td>2</td>\n",
       "      <td>2</td>\n",
       "      <td>1</td>\n",
       "      <td>5</td>\n",
       "      <td>1</td>\n",
       "      <td>3</td>\n",
       "      <td>3144427</td>\n",
       "      <td>947</td>\n",
       "      <td>31444</td>\n",
       "      <td>88</td>\n",
       "      <td>31606</td>\n",
       "      <td>30</td>\n",
       "      <td>Queensland</td>\n",
       "      <td>0</td>\n",
       "      <td>77</td>\n",
       "    </tr>\n",
       "    <tr>\n",
       "      <th>41540</th>\n",
       "      <td>Y09H260701P02</td>\n",
       "      <td>50</td>\n",
       "      <td>2</td>\n",
       "      <td>1</td>\n",
       "      <td>1</td>\n",
       "      <td>3</td>\n",
       "      <td>2</td>\n",
       "      <td>5</td>\n",
       "      <td>3144427</td>\n",
       "      <td>947</td>\n",
       "      <td>31444</td>\n",
       "      <td>88</td>\n",
       "      <td>31606</td>\n",
       "      <td>30</td>\n",
       "      <td>Queensland</td>\n",
       "      <td>0</td>\n",
       "      <td>42</td>\n",
       "    </tr>\n",
       "    <tr>\n",
       "      <th>41541</th>\n",
       "      <td>Y09H260701P01</td>\n",
       "      <td>52</td>\n",
       "      <td>1</td>\n",
       "      <td>1</td>\n",
       "      <td>1</td>\n",
       "      <td>3</td>\n",
       "      <td>2</td>\n",
       "      <td>5</td>\n",
       "      <td>3144427</td>\n",
       "      <td>947</td>\n",
       "      <td>31444</td>\n",
       "      <td>88</td>\n",
       "      <td>31606</td>\n",
       "      <td>30</td>\n",
       "      <td>Queensland</td>\n",
       "      <td>0</td>\n",
       "      <td>60</td>\n",
       "    </tr>\n",
       "    <tr>\n",
       "      <th>41542</th>\n",
       "      <td>Y09H260724P02</td>\n",
       "      <td>34</td>\n",
       "      <td>2</td>\n",
       "      <td>1</td>\n",
       "      <td>1</td>\n",
       "      <td>3</td>\n",
       "      <td>2</td>\n",
       "      <td>4</td>\n",
       "      <td>3144428</td>\n",
       "      <td>57</td>\n",
       "      <td>31444</td>\n",
       "      <td>88</td>\n",
       "      <td>31606</td>\n",
       "      <td>30</td>\n",
       "      <td>Queensland</td>\n",
       "      <td>0</td>\n",
       "      <td>70</td>\n",
       "    </tr>\n",
       "    <tr>\n",
       "      <th>41543</th>\n",
       "      <td>Y09H260724P01</td>\n",
       "      <td>34</td>\n",
       "      <td>1</td>\n",
       "      <td>1</td>\n",
       "      <td>1</td>\n",
       "      <td>3</td>\n",
       "      <td>2</td>\n",
       "      <td>4</td>\n",
       "      <td>3144428</td>\n",
       "      <td>57</td>\n",
       "      <td>31444</td>\n",
       "      <td>88</td>\n",
       "      <td>31606</td>\n",
       "      <td>30</td>\n",
       "      <td>Queensland</td>\n",
       "      <td>0</td>\n",
       "      <td>60</td>\n",
       "    </tr>\n",
       "  </tbody>\n",
       "</table>\n",
       "<p>41544 rows × 17 columns</p>\n",
       "</div>"
      ],
      "text/plain": [
       "            PERSONID  AGE  GENDER  ANYWORK  CARLICENCE  HHSTRUCTURE  HH_CARS  \\\n",
       "0      Y09H151315P01   40       2        1           1            4        0   \n",
       "1      Y09H151324P01   73       1        2           1            2        1   \n",
       "2      Y09H151340P01   85       2        2           1            1        1   \n",
       "3      Y09H151329P01   34       2        1           1            3        1   \n",
       "4      Y09H151325P01   68       1        2           1            3        2   \n",
       "...              ...  ...     ...      ...         ...          ...      ...   \n",
       "41539  Y09H260722P01   64       2        2           1            5        1   \n",
       "41540  Y09H260701P02   50       2        1           1            3        2   \n",
       "41541  Y09H260701P01   52       1        1           1            3        2   \n",
       "41542  Y09H260724P02   34       2        1           1            3        2   \n",
       "41543  Y09H260724P01   34       1        1           1            3        2   \n",
       "\n",
       "       HHINC_grp  SA1_code  PopDensity_SA1  SA2_code  PopDensity_SA2  \\\n",
       "0              1   2100106            1500     21001             158   \n",
       "1              1   2100108             703     21001             158   \n",
       "2              1   2100108             703     21001             158   \n",
       "3              3   2100108             703     21001             158   \n",
       "4              3   2100108             703     21001             158   \n",
       "...          ...       ...             ...       ...             ...   \n",
       "41539          3   3144427             947     31444              88   \n",
       "41540          5   3144427             947     31444              88   \n",
       "41541          5   3144427             947     31444              88   \n",
       "41542          4   3144428              57     31444              88   \n",
       "41543          4   3144428              57     31444              88   \n",
       "\n",
       "       SA3_code  PopDensity_SA3       STATE  ACTIVE_TRAVEL_TIME  CAR_TIME  \n",
       "0         20101             213    Victoria                   0        35  \n",
       "1         20101             213    Victoria                   0       100  \n",
       "2         20101             213    Victoria                   0        35  \n",
       "3         20101             213    Victoria                   0        79  \n",
       "4         20101             213    Victoria                   0        97  \n",
       "...         ...             ...         ...                 ...       ...  \n",
       "41539     31606              30  Queensland                   0        77  \n",
       "41540     31606              30  Queensland                   0        42  \n",
       "41541     31606              30  Queensland                   0        60  \n",
       "41542     31606              30  Queensland                   0        70  \n",
       "41543     31606              30  Queensland                   0        60  \n",
       "\n",
       "[41544 rows x 17 columns]"
      ]
     },
     "execution_count": 31,
     "metadata": {},
     "output_type": "execute_result"
    }
   ],
   "source": [
    "df1"
   ]
  },
  {
   "cell_type": "code",
   "execution_count": null,
   "metadata": {},
   "outputs": [],
   "source": []
  },
  {
   "cell_type": "code",
   "execution_count": 32,
   "metadata": {},
   "outputs": [
    {
     "data": {
      "text/plain": [
       "Index(['PERSONID', 'AGE', 'GENDER', 'ANYWORK', 'CARLICENCE', 'HHSTRUCTURE',\n",
       "       'HH_CARS', 'HHINC_grp', 'SA1_code', 'PopDensity_SA1', 'SA2_code',\n",
       "       'PopDensity_SA2', 'SA3_code', 'PopDensity_SA3', 'STATE',\n",
       "       'ACTIVE_TRAVEL_TIME', 'CAR_TIME'],\n",
       "      dtype='object')"
      ]
     },
     "execution_count": 32,
     "metadata": {},
     "output_type": "execute_result"
    }
   ],
   "source": [
    "df1.columns"
   ]
  },
  {
   "cell_type": "code",
   "execution_count": 33,
   "metadata": {},
   "outputs": [],
   "source": [
    "df2.SA2_code = df2.SA2_code.astype(int)"
   ]
  },
  {
   "cell_type": "code",
   "execution_count": 34,
   "metadata": {},
   "outputs": [
    {
     "name": "stdout",
     "output_type": "stream",
     "text": [
      "<class 'pandas.core.frame.DataFrame'>\n",
      "RangeIndex: 41544 entries, 0 to 41543\n",
      "Data columns (total 17 columns):\n",
      " #   Column              Non-Null Count  Dtype \n",
      "---  ------              --------------  ----- \n",
      " 0   PERSONID            41544 non-null  object\n",
      " 1   AGE                 41544 non-null  int64 \n",
      " 2   GENDER              41544 non-null  int64 \n",
      " 3   ANYWORK             41544 non-null  int64 \n",
      " 4   CARLICENCE          41544 non-null  int64 \n",
      " 5   HHSTRUCTURE         41544 non-null  int64 \n",
      " 6   HH_CARS             41544 non-null  int64 \n",
      " 7   HHINC_grp           41544 non-null  int64 \n",
      " 8   SA1_code            41544 non-null  int64 \n",
      " 9   PopDensity_SA1      41544 non-null  int64 \n",
      " 10  SA2_code            41544 non-null  int64 \n",
      " 11  PopDensity_SA2      41544 non-null  int64 \n",
      " 12  SA3_code            41544 non-null  int64 \n",
      " 13  PopDensity_SA3      41544 non-null  int64 \n",
      " 14  STATE               41544 non-null  object\n",
      " 15  ACTIVE_TRAVEL_TIME  41544 non-null  int64 \n",
      " 16  CAR_TIME            41544 non-null  int64 \n",
      "dtypes: int64(15), object(2)\n",
      "memory usage: 5.4+ MB\n"
     ]
    }
   ],
   "source": [
    "df1.info()"
   ]
  },
  {
   "cell_type": "code",
   "execution_count": 35,
   "metadata": {
    "scrolled": false
   },
   "outputs": [
    {
     "name": "stdout",
     "output_type": "stream",
     "text": [
      "<class 'pandas.core.frame.DataFrame'>\n",
      "RangeIndex: 515 entries, 0 to 514\n",
      "Data columns (total 3 columns):\n",
      " #   Column      Non-Null Count  Dtype \n",
      "---  ------      --------------  ----- \n",
      " 0   SA2_code    515 non-null    int32 \n",
      " 1   SA2_NAME11  515 non-null    object\n",
      " 2   coords      515 non-null    object\n",
      "dtypes: int32(1), object(2)\n",
      "memory usage: 10.2+ KB\n"
     ]
    }
   ],
   "source": [
    "df2.info()"
   ]
  },
  {
   "cell_type": "code",
   "execution_count": null,
   "metadata": {},
   "outputs": [],
   "source": []
  },
  {
   "cell_type": "code",
   "execution_count": 36,
   "metadata": {},
   "outputs": [
    {
     "ename": "NameError",
     "evalue": "name 'df33' is not defined",
     "output_type": "error",
     "traceback": [
      "\u001b[1;31m---------------------------------------------------------------------------\u001b[0m",
      "\u001b[1;31mNameError\u001b[0m                                 Traceback (most recent call last)",
      "\u001b[1;32m<ipython-input-36-f07730912de8>\u001b[0m in \u001b[0;36m<module>\u001b[1;34m\u001b[0m\n\u001b[1;32m----> 1\u001b[1;33m \u001b[0mdf33\u001b[0m\u001b[1;33m\u001b[0m\u001b[1;33m\u001b[0m\u001b[0m\n\u001b[0m",
      "\u001b[1;31mNameError\u001b[0m: name 'df33' is not defined"
     ]
    }
   ],
   "source": [
    "df33"
   ]
  },
  {
   "cell_type": "code",
   "execution_count": 37,
   "metadata": {},
   "outputs": [],
   "source": [
    "data = pd.merge(df1,df2, on = 'SA2_code')"
   ]
  },
  {
   "cell_type": "code",
   "execution_count": 38,
   "metadata": {
    "scrolled": true
   },
   "outputs": [
    {
     "data": {
      "text/html": [
       "<div>\n",
       "<style scoped>\n",
       "    .dataframe tbody tr th:only-of-type {\n",
       "        vertical-align: middle;\n",
       "    }\n",
       "\n",
       "    .dataframe tbody tr th {\n",
       "        vertical-align: top;\n",
       "    }\n",
       "\n",
       "    .dataframe thead th {\n",
       "        text-align: right;\n",
       "    }\n",
       "</style>\n",
       "<table border=\"1\" class=\"dataframe\">\n",
       "  <thead>\n",
       "    <tr style=\"text-align: right;\">\n",
       "      <th></th>\n",
       "      <th>PERSONID</th>\n",
       "      <th>AGE</th>\n",
       "      <th>GENDER</th>\n",
       "      <th>ANYWORK</th>\n",
       "      <th>CARLICENCE</th>\n",
       "      <th>HHSTRUCTURE</th>\n",
       "      <th>HH_CARS</th>\n",
       "      <th>HHINC_grp</th>\n",
       "      <th>SA1_code</th>\n",
       "      <th>PopDensity_SA1</th>\n",
       "      <th>SA2_code</th>\n",
       "      <th>PopDensity_SA2</th>\n",
       "      <th>SA3_code</th>\n",
       "      <th>PopDensity_SA3</th>\n",
       "      <th>STATE</th>\n",
       "      <th>ACTIVE_TRAVEL_TIME</th>\n",
       "      <th>CAR_TIME</th>\n",
       "      <th>SA2_NAME11</th>\n",
       "      <th>coords</th>\n",
       "    </tr>\n",
       "  </thead>\n",
       "  <tbody>\n",
       "    <tr>\n",
       "      <th>0</th>\n",
       "      <td>Y09H151315P01</td>\n",
       "      <td>40</td>\n",
       "      <td>2</td>\n",
       "      <td>1</td>\n",
       "      <td>1</td>\n",
       "      <td>4</td>\n",
       "      <td>0</td>\n",
       "      <td>1</td>\n",
       "      <td>2100106</td>\n",
       "      <td>1500</td>\n",
       "      <td>21001</td>\n",
       "      <td>158</td>\n",
       "      <td>20101</td>\n",
       "      <td>213</td>\n",
       "      <td>Victoria</td>\n",
       "      <td>0</td>\n",
       "      <td>35</td>\n",
       "      <td>Alfredton</td>\n",
       "      <td>[(143.77930991601988, -37.52306280320573), (14...</td>\n",
       "    </tr>\n",
       "    <tr>\n",
       "      <th>1</th>\n",
       "      <td>Y09H151324P01</td>\n",
       "      <td>73</td>\n",
       "      <td>1</td>\n",
       "      <td>2</td>\n",
       "      <td>1</td>\n",
       "      <td>2</td>\n",
       "      <td>1</td>\n",
       "      <td>1</td>\n",
       "      <td>2100108</td>\n",
       "      <td>703</td>\n",
       "      <td>21001</td>\n",
       "      <td>158</td>\n",
       "      <td>20101</td>\n",
       "      <td>213</td>\n",
       "      <td>Victoria</td>\n",
       "      <td>0</td>\n",
       "      <td>100</td>\n",
       "      <td>Alfredton</td>\n",
       "      <td>[(143.77930991601988, -37.52306280320573), (14...</td>\n",
       "    </tr>\n",
       "    <tr>\n",
       "      <th>2</th>\n",
       "      <td>Y09H151340P01</td>\n",
       "      <td>85</td>\n",
       "      <td>2</td>\n",
       "      <td>2</td>\n",
       "      <td>1</td>\n",
       "      <td>1</td>\n",
       "      <td>1</td>\n",
       "      <td>1</td>\n",
       "      <td>2100108</td>\n",
       "      <td>703</td>\n",
       "      <td>21001</td>\n",
       "      <td>158</td>\n",
       "      <td>20101</td>\n",
       "      <td>213</td>\n",
       "      <td>Victoria</td>\n",
       "      <td>0</td>\n",
       "      <td>35</td>\n",
       "      <td>Alfredton</td>\n",
       "      <td>[(143.77930991601988, -37.52306280320573), (14...</td>\n",
       "    </tr>\n",
       "    <tr>\n",
       "      <th>3</th>\n",
       "      <td>Y09H151329P01</td>\n",
       "      <td>34</td>\n",
       "      <td>2</td>\n",
       "      <td>1</td>\n",
       "      <td>1</td>\n",
       "      <td>3</td>\n",
       "      <td>1</td>\n",
       "      <td>3</td>\n",
       "      <td>2100108</td>\n",
       "      <td>703</td>\n",
       "      <td>21001</td>\n",
       "      <td>158</td>\n",
       "      <td>20101</td>\n",
       "      <td>213</td>\n",
       "      <td>Victoria</td>\n",
       "      <td>0</td>\n",
       "      <td>79</td>\n",
       "      <td>Alfredton</td>\n",
       "      <td>[(143.77930991601988, -37.52306280320573), (14...</td>\n",
       "    </tr>\n",
       "    <tr>\n",
       "      <th>4</th>\n",
       "      <td>Y09H151325P01</td>\n",
       "      <td>68</td>\n",
       "      <td>1</td>\n",
       "      <td>2</td>\n",
       "      <td>1</td>\n",
       "      <td>3</td>\n",
       "      <td>2</td>\n",
       "      <td>3</td>\n",
       "      <td>2100108</td>\n",
       "      <td>703</td>\n",
       "      <td>21001</td>\n",
       "      <td>158</td>\n",
       "      <td>20101</td>\n",
       "      <td>213</td>\n",
       "      <td>Victoria</td>\n",
       "      <td>0</td>\n",
       "      <td>97</td>\n",
       "      <td>Alfredton</td>\n",
       "      <td>[(143.77930991601988, -37.52306280320573), (14...</td>\n",
       "    </tr>\n",
       "    <tr>\n",
       "      <th>...</th>\n",
       "      <td>...</td>\n",
       "      <td>...</td>\n",
       "      <td>...</td>\n",
       "      <td>...</td>\n",
       "      <td>...</td>\n",
       "      <td>...</td>\n",
       "      <td>...</td>\n",
       "      <td>...</td>\n",
       "      <td>...</td>\n",
       "      <td>...</td>\n",
       "      <td>...</td>\n",
       "      <td>...</td>\n",
       "      <td>...</td>\n",
       "      <td>...</td>\n",
       "      <td>...</td>\n",
       "      <td>...</td>\n",
       "      <td>...</td>\n",
       "      <td>...</td>\n",
       "      <td>...</td>\n",
       "    </tr>\n",
       "    <tr>\n",
       "      <th>41539</th>\n",
       "      <td>Y09H260722P01</td>\n",
       "      <td>64</td>\n",
       "      <td>2</td>\n",
       "      <td>2</td>\n",
       "      <td>1</td>\n",
       "      <td>5</td>\n",
       "      <td>1</td>\n",
       "      <td>3</td>\n",
       "      <td>3144427</td>\n",
       "      <td>947</td>\n",
       "      <td>31444</td>\n",
       "      <td>88</td>\n",
       "      <td>31606</td>\n",
       "      <td>30</td>\n",
       "      <td>Queensland</td>\n",
       "      <td>0</td>\n",
       "      <td>77</td>\n",
       "      <td>Palmwoods</td>\n",
       "      <td>[(152.94168899195347, -26.655579006066205), (1...</td>\n",
       "    </tr>\n",
       "    <tr>\n",
       "      <th>41540</th>\n",
       "      <td>Y09H260701P02</td>\n",
       "      <td>50</td>\n",
       "      <td>2</td>\n",
       "      <td>1</td>\n",
       "      <td>1</td>\n",
       "      <td>3</td>\n",
       "      <td>2</td>\n",
       "      <td>5</td>\n",
       "      <td>3144427</td>\n",
       "      <td>947</td>\n",
       "      <td>31444</td>\n",
       "      <td>88</td>\n",
       "      <td>31606</td>\n",
       "      <td>30</td>\n",
       "      <td>Queensland</td>\n",
       "      <td>0</td>\n",
       "      <td>42</td>\n",
       "      <td>Palmwoods</td>\n",
       "      <td>[(152.94168899195347, -26.655579006066205), (1...</td>\n",
       "    </tr>\n",
       "    <tr>\n",
       "      <th>41541</th>\n",
       "      <td>Y09H260701P01</td>\n",
       "      <td>52</td>\n",
       "      <td>1</td>\n",
       "      <td>1</td>\n",
       "      <td>1</td>\n",
       "      <td>3</td>\n",
       "      <td>2</td>\n",
       "      <td>5</td>\n",
       "      <td>3144427</td>\n",
       "      <td>947</td>\n",
       "      <td>31444</td>\n",
       "      <td>88</td>\n",
       "      <td>31606</td>\n",
       "      <td>30</td>\n",
       "      <td>Queensland</td>\n",
       "      <td>0</td>\n",
       "      <td>60</td>\n",
       "      <td>Palmwoods</td>\n",
       "      <td>[(152.94168899195347, -26.655579006066205), (1...</td>\n",
       "    </tr>\n",
       "    <tr>\n",
       "      <th>41542</th>\n",
       "      <td>Y09H260724P02</td>\n",
       "      <td>34</td>\n",
       "      <td>2</td>\n",
       "      <td>1</td>\n",
       "      <td>1</td>\n",
       "      <td>3</td>\n",
       "      <td>2</td>\n",
       "      <td>4</td>\n",
       "      <td>3144428</td>\n",
       "      <td>57</td>\n",
       "      <td>31444</td>\n",
       "      <td>88</td>\n",
       "      <td>31606</td>\n",
       "      <td>30</td>\n",
       "      <td>Queensland</td>\n",
       "      <td>0</td>\n",
       "      <td>70</td>\n",
       "      <td>Palmwoods</td>\n",
       "      <td>[(152.94168899195347, -26.655579006066205), (1...</td>\n",
       "    </tr>\n",
       "    <tr>\n",
       "      <th>41543</th>\n",
       "      <td>Y09H260724P01</td>\n",
       "      <td>34</td>\n",
       "      <td>1</td>\n",
       "      <td>1</td>\n",
       "      <td>1</td>\n",
       "      <td>3</td>\n",
       "      <td>2</td>\n",
       "      <td>4</td>\n",
       "      <td>3144428</td>\n",
       "      <td>57</td>\n",
       "      <td>31444</td>\n",
       "      <td>88</td>\n",
       "      <td>31606</td>\n",
       "      <td>30</td>\n",
       "      <td>Queensland</td>\n",
       "      <td>0</td>\n",
       "      <td>60</td>\n",
       "      <td>Palmwoods</td>\n",
       "      <td>[(152.94168899195347, -26.655579006066205), (1...</td>\n",
       "    </tr>\n",
       "  </tbody>\n",
       "</table>\n",
       "<p>41544 rows × 19 columns</p>\n",
       "</div>"
      ],
      "text/plain": [
       "            PERSONID  AGE  GENDER  ANYWORK  CARLICENCE  HHSTRUCTURE  HH_CARS  \\\n",
       "0      Y09H151315P01   40       2        1           1            4        0   \n",
       "1      Y09H151324P01   73       1        2           1            2        1   \n",
       "2      Y09H151340P01   85       2        2           1            1        1   \n",
       "3      Y09H151329P01   34       2        1           1            3        1   \n",
       "4      Y09H151325P01   68       1        2           1            3        2   \n",
       "...              ...  ...     ...      ...         ...          ...      ...   \n",
       "41539  Y09H260722P01   64       2        2           1            5        1   \n",
       "41540  Y09H260701P02   50       2        1           1            3        2   \n",
       "41541  Y09H260701P01   52       1        1           1            3        2   \n",
       "41542  Y09H260724P02   34       2        1           1            3        2   \n",
       "41543  Y09H260724P01   34       1        1           1            3        2   \n",
       "\n",
       "       HHINC_grp  SA1_code  PopDensity_SA1  SA2_code  PopDensity_SA2  \\\n",
       "0              1   2100106            1500     21001             158   \n",
       "1              1   2100108             703     21001             158   \n",
       "2              1   2100108             703     21001             158   \n",
       "3              3   2100108             703     21001             158   \n",
       "4              3   2100108             703     21001             158   \n",
       "...          ...       ...             ...       ...             ...   \n",
       "41539          3   3144427             947     31444              88   \n",
       "41540          5   3144427             947     31444              88   \n",
       "41541          5   3144427             947     31444              88   \n",
       "41542          4   3144428              57     31444              88   \n",
       "41543          4   3144428              57     31444              88   \n",
       "\n",
       "       SA3_code  PopDensity_SA3       STATE  ACTIVE_TRAVEL_TIME  CAR_TIME  \\\n",
       "0         20101             213    Victoria                   0        35   \n",
       "1         20101             213    Victoria                   0       100   \n",
       "2         20101             213    Victoria                   0        35   \n",
       "3         20101             213    Victoria                   0        79   \n",
       "4         20101             213    Victoria                   0        97   \n",
       "...         ...             ...         ...                 ...       ...   \n",
       "41539     31606              30  Queensland                   0        77   \n",
       "41540     31606              30  Queensland                   0        42   \n",
       "41541     31606              30  Queensland                   0        60   \n",
       "41542     31606              30  Queensland                   0        70   \n",
       "41543     31606              30  Queensland                   0        60   \n",
       "\n",
       "      SA2_NAME11                                             coords  \n",
       "0      Alfredton  [(143.77930991601988, -37.52306280320573), (14...  \n",
       "1      Alfredton  [(143.77930991601988, -37.52306280320573), (14...  \n",
       "2      Alfredton  [(143.77930991601988, -37.52306280320573), (14...  \n",
       "3      Alfredton  [(143.77930991601988, -37.52306280320573), (14...  \n",
       "4      Alfredton  [(143.77930991601988, -37.52306280320573), (14...  \n",
       "...          ...                                                ...  \n",
       "41539  Palmwoods  [(152.94168899195347, -26.655579006066205), (1...  \n",
       "41540  Palmwoods  [(152.94168899195347, -26.655579006066205), (1...  \n",
       "41541  Palmwoods  [(152.94168899195347, -26.655579006066205), (1...  \n",
       "41542  Palmwoods  [(152.94168899195347, -26.655579006066205), (1...  \n",
       "41543  Palmwoods  [(152.94168899195347, -26.655579006066205), (1...  \n",
       "\n",
       "[41544 rows x 19 columns]"
      ]
     },
     "execution_count": 38,
     "metadata": {},
     "output_type": "execute_result"
    }
   ],
   "source": [
    "data"
   ]
  },
  {
   "cell_type": "code",
   "execution_count": null,
   "metadata": {},
   "outputs": [],
   "source": [
    "# convert it into the shape file and try again."
   ]
  },
  {
   "cell_type": "code",
   "execution_count": 58,
   "metadata": {
    "scrolled": true
   },
   "outputs": [
    {
     "ename": "ValueError",
     "evalue": "'right_df' should be GeoDataFrame, got <class 'pandas.core.frame.DataFrame'>",
     "output_type": "error",
     "traceback": [
      "\u001b[1;31m---------------------------------------------------------------------------\u001b[0m",
      "\u001b[1;31mValueError\u001b[0m                                Traceback (most recent call last)",
      "\u001b[1;32m<ipython-input-58-d5672ea70c81>\u001b[0m in \u001b[0;36m<module>\u001b[1;34m\u001b[0m\n\u001b[1;32m----> 1\u001b[1;33m \u001b[0mdf\u001b[0m \u001b[1;33m=\u001b[0m \u001b[0mgpd\u001b[0m\u001b[1;33m.\u001b[0m\u001b[0msjoin\u001b[0m\u001b[1;33m(\u001b[0m\u001b[0mshp_file\u001b[0m\u001b[1;33m,\u001b[0m\u001b[0mdf2\u001b[0m\u001b[1;33m,\u001b[0m \u001b[0mop\u001b[0m\u001b[1;33m=\u001b[0m \u001b[1;34m'within'\u001b[0m\u001b[1;33m)\u001b[0m\u001b[1;33m\u001b[0m\u001b[1;33m\u001b[0m\u001b[0m\n\u001b[0m",
      "\u001b[1;32m~\\anaconda3\\lib\\site-packages\\geopandas\\tools\\sjoin.py\u001b[0m in \u001b[0;36msjoin\u001b[1;34m(left_df, right_df, how, op, lsuffix, rsuffix)\u001b[0m\n\u001b[0;32m     38\u001b[0m     \u001b[1;32mif\u001b[0m \u001b[1;32mnot\u001b[0m \u001b[0misinstance\u001b[0m\u001b[1;33m(\u001b[0m\u001b[0mright_df\u001b[0m\u001b[1;33m,\u001b[0m \u001b[0mGeoDataFrame\u001b[0m\u001b[1;33m)\u001b[0m\u001b[1;33m:\u001b[0m\u001b[1;33m\u001b[0m\u001b[1;33m\u001b[0m\u001b[0m\n\u001b[0;32m     39\u001b[0m         raise ValueError(\n\u001b[1;32m---> 40\u001b[1;33m             \u001b[1;34m\"'right_df' should be GeoDataFrame, got {}\"\u001b[0m\u001b[1;33m.\u001b[0m\u001b[0mformat\u001b[0m\u001b[1;33m(\u001b[0m\u001b[0mtype\u001b[0m\u001b[1;33m(\u001b[0m\u001b[0mright_df\u001b[0m\u001b[1;33m)\u001b[0m\u001b[1;33m)\u001b[0m\u001b[1;33m\u001b[0m\u001b[1;33m\u001b[0m\u001b[0m\n\u001b[0m\u001b[0;32m     41\u001b[0m         )\n\u001b[0;32m     42\u001b[0m \u001b[1;33m\u001b[0m\u001b[0m\n",
      "\u001b[1;31mValueError\u001b[0m: 'right_df' should be GeoDataFrame, got <class 'pandas.core.frame.DataFrame'>"
     ]
    }
   ],
   "source": [
    "df = gpd.sjoin(shp_file,df2, op= 'within')"
   ]
  },
  {
   "cell_type": "code",
   "execution_count": 46,
   "metadata": {
    "scrolled": true
   },
   "outputs": [
    {
     "name": "stdout",
     "output_type": "stream",
     "text": [
      "<class 'geopandas.geodataframe.GeoDataFrame'>\n",
      "RangeIndex: 42059 entries, 0 to 42058\n",
      "Data columns (total 19 columns):\n",
      " #   Column              Non-Null Count  Dtype  \n",
      "---  ------              --------------  -----  \n",
      " 0   PERSONID            41544 non-null  object \n",
      " 1   AGE                 41544 non-null  float64\n",
      " 2   GENDER              41544 non-null  float64\n",
      " 3   ANYWORK             41544 non-null  float64\n",
      " 4   CARLICENCE          41544 non-null  float64\n",
      " 5   HHSTRUCTURE         41544 non-null  float64\n",
      " 6   HH_CARS             41544 non-null  float64\n",
      " 7   HHINC_grp           41544 non-null  float64\n",
      " 8   SA1_code            41544 non-null  float64\n",
      " 9   PopDensity_SA1      41544 non-null  float64\n",
      " 10  SA2_code            42059 non-null  int64  \n",
      " 11  PopDensity_SA2      41544 non-null  float64\n",
      " 12  SA3_code            41544 non-null  float64\n",
      " 13  PopDensity_SA3      41544 non-null  float64\n",
      " 14  STATE               41544 non-null  object \n",
      " 15  ACTIVE_TRAVEL_TIME  41544 non-null  float64\n",
      " 16  CAR_TIME            41544 non-null  float64\n",
      " 17  SA2_NAME11          515 non-null    object \n",
      " 18  coords              515 non-null    object \n",
      "dtypes: float64(14), int64(1), object(4)\n",
      "memory usage: 6.1+ MB\n"
     ]
    }
   ],
   "source": [
    "df.info()"
   ]
  },
  {
   "cell_type": "code",
   "execution_count": 50,
   "metadata": {},
   "outputs": [
    {
     "data": {
      "text/html": [
       "<div>\n",
       "<style scoped>\n",
       "    .dataframe tbody tr th:only-of-type {\n",
       "        vertical-align: middle;\n",
       "    }\n",
       "\n",
       "    .dataframe tbody tr th {\n",
       "        vertical-align: top;\n",
       "    }\n",
       "\n",
       "    .dataframe thead th {\n",
       "        text-align: right;\n",
       "    }\n",
       "</style>\n",
       "<table border=\"1\" class=\"dataframe\">\n",
       "  <thead>\n",
       "    <tr style=\"text-align: right;\">\n",
       "      <th></th>\n",
       "      <th>PERSONID</th>\n",
       "      <th>AGE</th>\n",
       "      <th>GENDER</th>\n",
       "      <th>ANYWORK</th>\n",
       "      <th>CARLICENCE</th>\n",
       "      <th>HHSTRUCTURE</th>\n",
       "      <th>HH_CARS</th>\n",
       "      <th>HHINC_grp</th>\n",
       "      <th>SA1_code</th>\n",
       "      <th>PopDensity_SA1</th>\n",
       "      <th>SA2_code</th>\n",
       "      <th>PopDensity_SA2</th>\n",
       "      <th>SA3_code</th>\n",
       "      <th>PopDensity_SA3</th>\n",
       "      <th>STATE</th>\n",
       "      <th>ACTIVE_TRAVEL_TIME</th>\n",
       "      <th>CAR_TIME</th>\n",
       "      <th>SA2_NAME11</th>\n",
       "      <th>coords</th>\n",
       "    </tr>\n",
       "  </thead>\n",
       "  <tbody>\n",
       "    <tr>\n",
       "      <th>0</th>\n",
       "      <td>Y09H151315P01</td>\n",
       "      <td>40.0</td>\n",
       "      <td>2.0</td>\n",
       "      <td>1.0</td>\n",
       "      <td>1.0</td>\n",
       "      <td>4.0</td>\n",
       "      <td>0.0</td>\n",
       "      <td>1.0</td>\n",
       "      <td>2100106.0</td>\n",
       "      <td>1500.0</td>\n",
       "      <td>21001</td>\n",
       "      <td>158.0</td>\n",
       "      <td>20101.0</td>\n",
       "      <td>213.0</td>\n",
       "      <td>Victoria</td>\n",
       "      <td>0.0</td>\n",
       "      <td>35.0</td>\n",
       "      <td>NaN</td>\n",
       "      <td>NaN</td>\n",
       "    </tr>\n",
       "    <tr>\n",
       "      <th>1</th>\n",
       "      <td>Y09H151324P01</td>\n",
       "      <td>73.0</td>\n",
       "      <td>1.0</td>\n",
       "      <td>2.0</td>\n",
       "      <td>1.0</td>\n",
       "      <td>2.0</td>\n",
       "      <td>1.0</td>\n",
       "      <td>1.0</td>\n",
       "      <td>2100108.0</td>\n",
       "      <td>703.0</td>\n",
       "      <td>21001</td>\n",
       "      <td>158.0</td>\n",
       "      <td>20101.0</td>\n",
       "      <td>213.0</td>\n",
       "      <td>Victoria</td>\n",
       "      <td>0.0</td>\n",
       "      <td>100.0</td>\n",
       "      <td>NaN</td>\n",
       "      <td>NaN</td>\n",
       "    </tr>\n",
       "    <tr>\n",
       "      <th>2</th>\n",
       "      <td>Y09H151340P01</td>\n",
       "      <td>85.0</td>\n",
       "      <td>2.0</td>\n",
       "      <td>2.0</td>\n",
       "      <td>1.0</td>\n",
       "      <td>1.0</td>\n",
       "      <td>1.0</td>\n",
       "      <td>1.0</td>\n",
       "      <td>2100108.0</td>\n",
       "      <td>703.0</td>\n",
       "      <td>21001</td>\n",
       "      <td>158.0</td>\n",
       "      <td>20101.0</td>\n",
       "      <td>213.0</td>\n",
       "      <td>Victoria</td>\n",
       "      <td>0.0</td>\n",
       "      <td>35.0</td>\n",
       "      <td>NaN</td>\n",
       "      <td>NaN</td>\n",
       "    </tr>\n",
       "    <tr>\n",
       "      <th>3</th>\n",
       "      <td>Y09H151329P01</td>\n",
       "      <td>34.0</td>\n",
       "      <td>2.0</td>\n",
       "      <td>1.0</td>\n",
       "      <td>1.0</td>\n",
       "      <td>3.0</td>\n",
       "      <td>1.0</td>\n",
       "      <td>3.0</td>\n",
       "      <td>2100108.0</td>\n",
       "      <td>703.0</td>\n",
       "      <td>21001</td>\n",
       "      <td>158.0</td>\n",
       "      <td>20101.0</td>\n",
       "      <td>213.0</td>\n",
       "      <td>Victoria</td>\n",
       "      <td>0.0</td>\n",
       "      <td>79.0</td>\n",
       "      <td>NaN</td>\n",
       "      <td>NaN</td>\n",
       "    </tr>\n",
       "    <tr>\n",
       "      <th>4</th>\n",
       "      <td>Y09H151325P01</td>\n",
       "      <td>68.0</td>\n",
       "      <td>1.0</td>\n",
       "      <td>2.0</td>\n",
       "      <td>1.0</td>\n",
       "      <td>3.0</td>\n",
       "      <td>2.0</td>\n",
       "      <td>3.0</td>\n",
       "      <td>2100108.0</td>\n",
       "      <td>703.0</td>\n",
       "      <td>21001</td>\n",
       "      <td>158.0</td>\n",
       "      <td>20101.0</td>\n",
       "      <td>213.0</td>\n",
       "      <td>Victoria</td>\n",
       "      <td>0.0</td>\n",
       "      <td>97.0</td>\n",
       "      <td>NaN</td>\n",
       "      <td>NaN</td>\n",
       "    </tr>\n",
       "    <tr>\n",
       "      <th>...</th>\n",
       "      <td>...</td>\n",
       "      <td>...</td>\n",
       "      <td>...</td>\n",
       "      <td>...</td>\n",
       "      <td>...</td>\n",
       "      <td>...</td>\n",
       "      <td>...</td>\n",
       "      <td>...</td>\n",
       "      <td>...</td>\n",
       "      <td>...</td>\n",
       "      <td>...</td>\n",
       "      <td>...</td>\n",
       "      <td>...</td>\n",
       "      <td>...</td>\n",
       "      <td>...</td>\n",
       "      <td>...</td>\n",
       "      <td>...</td>\n",
       "      <td>...</td>\n",
       "      <td>...</td>\n",
       "    </tr>\n",
       "    <tr>\n",
       "      <th>42054</th>\n",
       "      <td>NaN</td>\n",
       "      <td>NaN</td>\n",
       "      <td>NaN</td>\n",
       "      <td>NaN</td>\n",
       "      <td>NaN</td>\n",
       "      <td>NaN</td>\n",
       "      <td>NaN</td>\n",
       "      <td>NaN</td>\n",
       "      <td>NaN</td>\n",
       "      <td>NaN</td>\n",
       "      <td>31440</td>\n",
       "      <td>NaN</td>\n",
       "      <td>NaN</td>\n",
       "      <td>NaN</td>\n",
       "      <td>NaN</td>\n",
       "      <td>NaN</td>\n",
       "      <td>NaN</td>\n",
       "      <td>Caloundra Hinterland</td>\n",
       "      <td>[(152.66948732927688, -26.61753223452496), (15...</td>\n",
       "    </tr>\n",
       "    <tr>\n",
       "      <th>42055</th>\n",
       "      <td>NaN</td>\n",
       "      <td>NaN</td>\n",
       "      <td>NaN</td>\n",
       "      <td>NaN</td>\n",
       "      <td>NaN</td>\n",
       "      <td>NaN</td>\n",
       "      <td>NaN</td>\n",
       "      <td>NaN</td>\n",
       "      <td>NaN</td>\n",
       "      <td>NaN</td>\n",
       "      <td>31441</td>\n",
       "      <td>NaN</td>\n",
       "      <td>NaN</td>\n",
       "      <td>NaN</td>\n",
       "      <td>NaN</td>\n",
       "      <td>NaN</td>\n",
       "      <td>NaN</td>\n",
       "      <td>Glass House Mountains</td>\n",
       "      <td>[(153.0583261123603, -26.97750098398319), (153...</td>\n",
       "    </tr>\n",
       "    <tr>\n",
       "      <th>42056</th>\n",
       "      <td>NaN</td>\n",
       "      <td>NaN</td>\n",
       "      <td>NaN</td>\n",
       "      <td>NaN</td>\n",
       "      <td>NaN</td>\n",
       "      <td>NaN</td>\n",
       "      <td>NaN</td>\n",
       "      <td>NaN</td>\n",
       "      <td>NaN</td>\n",
       "      <td>NaN</td>\n",
       "      <td>31442</td>\n",
       "      <td>NaN</td>\n",
       "      <td>NaN</td>\n",
       "      <td>NaN</td>\n",
       "      <td>NaN</td>\n",
       "      <td>NaN</td>\n",
       "      <td>NaN</td>\n",
       "      <td>Landsborough</td>\n",
       "      <td>[(153.06147305423815, -26.728273880734946), (1...</td>\n",
       "    </tr>\n",
       "    <tr>\n",
       "      <th>42057</th>\n",
       "      <td>NaN</td>\n",
       "      <td>NaN</td>\n",
       "      <td>NaN</td>\n",
       "      <td>NaN</td>\n",
       "      <td>NaN</td>\n",
       "      <td>NaN</td>\n",
       "      <td>NaN</td>\n",
       "      <td>NaN</td>\n",
       "      <td>NaN</td>\n",
       "      <td>NaN</td>\n",
       "      <td>31443</td>\n",
       "      <td>NaN</td>\n",
       "      <td>NaN</td>\n",
       "      <td>NaN</td>\n",
       "      <td>NaN</td>\n",
       "      <td>NaN</td>\n",
       "      <td>NaN</td>\n",
       "      <td>Maroochy Hinterland</td>\n",
       "      <td>[(152.76720640015526, -26.468397781932026), (1...</td>\n",
       "    </tr>\n",
       "    <tr>\n",
       "      <th>42058</th>\n",
       "      <td>NaN</td>\n",
       "      <td>NaN</td>\n",
       "      <td>NaN</td>\n",
       "      <td>NaN</td>\n",
       "      <td>NaN</td>\n",
       "      <td>NaN</td>\n",
       "      <td>NaN</td>\n",
       "      <td>NaN</td>\n",
       "      <td>NaN</td>\n",
       "      <td>NaN</td>\n",
       "      <td>31444</td>\n",
       "      <td>NaN</td>\n",
       "      <td>NaN</td>\n",
       "      <td>NaN</td>\n",
       "      <td>NaN</td>\n",
       "      <td>NaN</td>\n",
       "      <td>NaN</td>\n",
       "      <td>Palmwoods</td>\n",
       "      <td>[(152.94168899195347, -26.655579006066205), (1...</td>\n",
       "    </tr>\n",
       "  </tbody>\n",
       "</table>\n",
       "<p>42059 rows × 19 columns</p>\n",
       "</div>"
      ],
      "text/plain": [
       "            PERSONID   AGE  GENDER  ANYWORK  CARLICENCE  HHSTRUCTURE  HH_CARS  \\\n",
       "0      Y09H151315P01  40.0     2.0      1.0         1.0          4.0      0.0   \n",
       "1      Y09H151324P01  73.0     1.0      2.0         1.0          2.0      1.0   \n",
       "2      Y09H151340P01  85.0     2.0      2.0         1.0          1.0      1.0   \n",
       "3      Y09H151329P01  34.0     2.0      1.0         1.0          3.0      1.0   \n",
       "4      Y09H151325P01  68.0     1.0      2.0         1.0          3.0      2.0   \n",
       "...              ...   ...     ...      ...         ...          ...      ...   \n",
       "42054            NaN   NaN     NaN      NaN         NaN          NaN      NaN   \n",
       "42055            NaN   NaN     NaN      NaN         NaN          NaN      NaN   \n",
       "42056            NaN   NaN     NaN      NaN         NaN          NaN      NaN   \n",
       "42057            NaN   NaN     NaN      NaN         NaN          NaN      NaN   \n",
       "42058            NaN   NaN     NaN      NaN         NaN          NaN      NaN   \n",
       "\n",
       "       HHINC_grp   SA1_code  PopDensity_SA1  SA2_code  PopDensity_SA2  \\\n",
       "0            1.0  2100106.0          1500.0     21001           158.0   \n",
       "1            1.0  2100108.0           703.0     21001           158.0   \n",
       "2            1.0  2100108.0           703.0     21001           158.0   \n",
       "3            3.0  2100108.0           703.0     21001           158.0   \n",
       "4            3.0  2100108.0           703.0     21001           158.0   \n",
       "...          ...        ...             ...       ...             ...   \n",
       "42054        NaN        NaN             NaN     31440             NaN   \n",
       "42055        NaN        NaN             NaN     31441             NaN   \n",
       "42056        NaN        NaN             NaN     31442             NaN   \n",
       "42057        NaN        NaN             NaN     31443             NaN   \n",
       "42058        NaN        NaN             NaN     31444             NaN   \n",
       "\n",
       "       SA3_code  PopDensity_SA3     STATE  ACTIVE_TRAVEL_TIME  CAR_TIME  \\\n",
       "0       20101.0           213.0  Victoria                 0.0      35.0   \n",
       "1       20101.0           213.0  Victoria                 0.0     100.0   \n",
       "2       20101.0           213.0  Victoria                 0.0      35.0   \n",
       "3       20101.0           213.0  Victoria                 0.0      79.0   \n",
       "4       20101.0           213.0  Victoria                 0.0      97.0   \n",
       "...         ...             ...       ...                 ...       ...   \n",
       "42054       NaN             NaN       NaN                 NaN       NaN   \n",
       "42055       NaN             NaN       NaN                 NaN       NaN   \n",
       "42056       NaN             NaN       NaN                 NaN       NaN   \n",
       "42057       NaN             NaN       NaN                 NaN       NaN   \n",
       "42058       NaN             NaN       NaN                 NaN       NaN   \n",
       "\n",
       "                  SA2_NAME11  \\\n",
       "0                        NaN   \n",
       "1                        NaN   \n",
       "2                        NaN   \n",
       "3                        NaN   \n",
       "4                        NaN   \n",
       "...                      ...   \n",
       "42054   Caloundra Hinterland   \n",
       "42055  Glass House Mountains   \n",
       "42056           Landsborough   \n",
       "42057    Maroochy Hinterland   \n",
       "42058              Palmwoods   \n",
       "\n",
       "                                                  coords  \n",
       "0                                                    NaN  \n",
       "1                                                    NaN  \n",
       "2                                                    NaN  \n",
       "3                                                    NaN  \n",
       "4                                                    NaN  \n",
       "...                                                  ...  \n",
       "42054  [(152.66948732927688, -26.61753223452496), (15...  \n",
       "42055  [(153.0583261123603, -26.97750098398319), (153...  \n",
       "42056  [(153.06147305423815, -26.728273880734946), (1...  \n",
       "42057  [(152.76720640015526, -26.468397781932026), (1...  \n",
       "42058  [(152.94168899195347, -26.655579006066205), (1...  \n",
       "\n",
       "[42059 rows x 19 columns]"
      ]
     },
     "execution_count": 50,
     "metadata": {},
     "output_type": "execute_result"
    }
   ],
   "source": [
    "df"
   ]
  },
  {
   "cell_type": "code",
   "execution_count": 49,
   "metadata": {
    "scrolled": false
   },
   "outputs": [],
   "source": [
    "df.to_csv('yo.csv')"
   ]
  },
  {
   "cell_type": "code",
   "execution_count": null,
   "metadata": {
    "scrolled": true
   },
   "outputs": [],
   "source": []
  },
  {
   "cell_type": "code",
   "execution_count": null,
   "metadata": {},
   "outputs": [],
   "source": [
    "import scipy as sp\n",
    "import chart_studio.plotly as py "
   ]
  },
  {
   "cell_type": "code",
   "execution_count": null,
   "metadata": {},
   "outputs": [],
   "source": []
  },
  {
   "cell_type": "code",
   "execution_count": null,
   "metadata": {},
   "outputs": [],
   "source": []
  },
  {
   "cell_type": "code",
   "execution_count": null,
   "metadata": {},
   "outputs": [],
   "source": []
  },
  {
   "cell_type": "code",
   "execution_count": null,
   "metadata": {},
   "outputs": [],
   "source": []
  },
  {
   "cell_type": "code",
   "execution_count": null,
   "metadata": {
    "scrolled": true
   },
   "outputs": [],
   "source": [
    "data.drop(['PERSONID', 'AGE', 'GENDER',\n",
    "       'ANYWORK', 'CARLICENCE', 'HHSTRUCTURE', 'HH_CARS', 'HHINC_grp',\n",
    "       'SA1_code', 'PopDensity_SA1', 'PopDensity_SA2', 'SA3_code',\n",
    "       'PopDensity_SA3', 'STATE'],axis = 1, inplace = True)"
   ]
  },
  {
   "cell_type": "code",
   "execution_count": null,
   "metadata": {
    "scrolled": true
   },
   "outputs": [],
   "source": [
    "df2 = data.copy()"
   ]
  },
  {
   "cell_type": "code",
   "execution_count": null,
   "metadata": {},
   "outputs": [],
   "source": []
  },
  {
   "cell_type": "code",
   "execution_count": null,
   "metadata": {
    "scrolled": true
   },
   "outputs": [],
   "source": []
  },
  {
   "cell_type": "code",
   "execution_count": null,
   "metadata": {},
   "outputs": [],
   "source": [
    "#import keplergl\n",
    "#w1 = keplergl.KeplerGl(height = 400, data={'data_1':data})"
   ]
  },
  {
   "cell_type": "code",
   "execution_count": null,
   "metadata": {},
   "outputs": [],
   "source": [
    "from keplergl import KeplerGl"
   ]
  },
  {
   "cell_type": "code",
   "execution_count": null,
   "metadata": {},
   "outputs": [],
   "source": [
    "map_1 = KeplerGl(height = 500, data={\"data_1\": df2})\n",
    "map_1"
   ]
  },
  {
   "cell_type": "code",
   "execution_count": null,
   "metadata": {},
   "outputs": [],
   "source": [
    "pip install geoplotlib"
   ]
  },
  {
   "cell_type": "code",
   "execution_count": null,
   "metadata": {},
   "outputs": [],
   "source": [
    "import geoplotlib\n",
    "from geoplotlib.utils import read_csv"
   ]
  },
  {
   "cell_type": "code",
   "execution_count": null,
   "metadata": {},
   "outputs": [],
   "source": []
  },
  {
   "cell_type": "code",
   "execution_count": null,
   "metadata": {},
   "outputs": [],
   "source": [
    "geoplotlib.dot()"
   ]
  },
  {
   "cell_type": "code",
   "execution_count": null,
   "metadata": {},
   "outputs": [],
   "source": []
  },
  {
   "cell_type": "code",
   "execution_count": null,
   "metadata": {},
   "outputs": [],
   "source": []
  },
  {
   "cell_type": "code",
   "execution_count": null,
   "metadata": {},
   "outputs": [],
   "source": []
  },
  {
   "cell_type": "code",
   "execution_count": null,
   "metadata": {},
   "outputs": [],
   "source": []
  },
  {
   "cell_type": "code",
   "execution_count": null,
   "metadata": {},
   "outputs": [],
   "source": []
  },
  {
   "cell_type": "code",
   "execution_count": null,
   "metadata": {},
   "outputs": [],
   "source": []
  },
  {
   "cell_type": "code",
   "execution_count": null,
   "metadata": {},
   "outputs": [],
   "source": []
  },
  {
   "cell_type": "code",
   "execution_count": null,
   "metadata": {},
   "outputs": [],
   "source": [
    "df33"
   ]
  },
  {
   "cell_type": "code",
   "execution_count": null,
   "metadata": {},
   "outputs": [],
   "source": [
    "data.columns"
   ]
  },
  {
   "cell_type": "code",
   "execution_count": null,
   "metadata": {},
   "outputs": [],
   "source": [
    "dataFrame = pd.DataFrame(data, columns = ['SA2_code', 'SA2_NAME11', 'coords', 'ACTIVE_TRAVEL_TIME', 'CAR_TIME']) "
   ]
  },
  {
   "cell_type": "code",
   "execution_count": null,
   "metadata": {},
   "outputs": [],
   "source": [
    "json = dataFrame.to_json()\n",
    "print(json)"
   ]
  },
  {
   "cell_type": "code",
   "execution_count": null,
   "metadata": {},
   "outputs": [],
   "source": [
    "%%time\n",
    "\n",
    "data.to_csv('testing_Rev.csv',index=False)"
   ]
  },
  {
   "cell_type": "code",
   "execution_count": null,
   "metadata": {},
   "outputs": [],
   "source": [
    "data.info()"
   ]
  },
  {
   "cell_type": "code",
   "execution_count": null,
   "metadata": {},
   "outputs": [],
   "source": [
    "data.columns"
   ]
  },
  {
   "cell_type": "code",
   "execution_count": null,
   "metadata": {},
   "outputs": [],
   "source": [
    "df33"
   ]
  },
  {
   "cell_type": "code",
   "execution_count": null,
   "metadata": {},
   "outputs": [],
   "source": []
  },
  {
   "cell_type": "code",
   "execution_count": null,
   "metadata": {},
   "outputs": [],
   "source": [
    "data.drop(['PERSONID', 'AGE', 'GENDER',\n",
    "       'ANYWORK', 'CARLICENCE', 'HHSTRUCTURE', 'HH_CARS', 'HHINC_grp',\n",
    "       'SA1_code', 'PopDensity_SA1', 'PopDensity_SA2', 'SA3_code',\n",
    "       'PopDensity_SA3', 'STATE',],axis = 1, inplace = True)"
   ]
  },
  {
   "cell_type": "code",
   "execution_count": null,
   "metadata": {},
   "outputs": [],
   "source": [
    "data.isnull().sum()"
   ]
  },
  {
   "cell_type": "code",
   "execution_count": null,
   "metadata": {},
   "outputs": [],
   "source": [
    "from keplergl import KeplerGl as maps"
   ]
  },
  {
   "cell_type": "code",
   "execution_count": null,
   "metadata": {},
   "outputs": [],
   "source": [
    "map1 = maps(height=500)"
   ]
  },
  {
   "cell_type": "code",
   "execution_count": null,
   "metadata": {},
   "outputs": [],
   "source": [
    "map1.add_data(data= data, name = 'Australian Travel Data')\n",
    "map1"
   ]
  },
  {
   "cell_type": "code",
   "execution_count": null,
   "metadata": {},
   "outputs": [],
   "source": [
    "data.to_csv('Test.csv',index=False)"
   ]
  },
  {
   "cell_type": "code",
   "execution_count": null,
   "metadata": {},
   "outputs": [],
   "source": []
  },
  {
   "cell_type": "code",
   "execution_count": null,
   "metadata": {},
   "outputs": [],
   "source": []
  },
  {
   "cell_type": "code",
   "execution_count": null,
   "metadata": {},
   "outputs": [],
   "source": []
  },
  {
   "cell_type": "code",
   "execution_count": null,
   "metadata": {},
   "outputs": [],
   "source": []
  },
  {
   "cell_type": "code",
   "execution_count": null,
   "metadata": {},
   "outputs": [],
   "source": []
  },
  {
   "cell_type": "code",
   "execution_count": null,
   "metadata": {},
   "outputs": [],
   "source": []
  },
  {
   "cell_type": "code",
   "execution_count": null,
   "metadata": {},
   "outputs": [],
   "source": []
  },
  {
   "cell_type": "code",
   "execution_count": null,
   "metadata": {},
   "outputs": [],
   "source": []
  },
  {
   "cell_type": "code",
   "execution_count": null,
   "metadata": {},
   "outputs": [],
   "source": []
  },
  {
   "cell_type": "code",
   "execution_count": null,
   "metadata": {},
   "outputs": [],
   "source": [
    "def plot_shape(id, s=None):\n",
    "    \"\"\" PLOTS A SINGLE SHAPE \"\"\"\n",
    "    plt.figure()\n",
    "    ax = plt.axes()\n",
    "    ax.set_aspect('equal')\n",
    "    shape_ex = sf.shape(id)\n",
    "    x_lon = np.zeros((len(shape_ex.points),1))\n",
    "    y_lat = np.zeros((len(shape_ex.points),1))\n",
    "    for ip in range(len(shape_ex.points)):\n",
    "        x_lon[ip] = shape_ex.points[ip][0]\n",
    "        y_lat[ip] = shape_ex.points[ip][1]\n",
    "    plt.plot(x_lon,y_lat) \n",
    "    x0 = np.mean(x_lon)\n",
    "    y0 = np.mean(y_lat)\n",
    "    plt.text(x0, y0, s, fontsize=10)\n",
    "    # use bbox (bounding box) to set plot limits\n",
    "    plt.xlim(shape_ex.bbox[0],shape_ex.bbox[2])\n",
    "    return x0, y0"
   ]
  },
  {
   "cell_type": "code",
   "execution_count": null,
   "metadata": {},
   "outputs": [],
   "source": []
  },
  {
   "cell_type": "code",
   "execution_count": null,
   "metadata": {},
   "outputs": [],
   "source": [
    "comuna = 'Alfredton'\n",
    "com_id = 0\n",
    "plot_shape(com_id, comuna)"
   ]
  },
  {
   "cell_type": "code",
   "execution_count": null,
   "metadata": {},
   "outputs": [],
   "source": []
  },
  {
   "cell_type": "code",
   "execution_count": null,
   "metadata": {},
   "outputs": [],
   "source": [
    "# Plotting complete map"
   ]
  },
  {
   "cell_type": "code",
   "execution_count": null,
   "metadata": {},
   "outputs": [],
   "source": [
    "def plot_map(sf, x_lim = None, y_lim = None, figsize = (11,9)):\n",
    "    plt.figure(figsize = figsize)\n",
    "    id=0\n",
    "    for shape in sf.shapeRecords():\n",
    "        x = [i[0] for i in shape.shape.points[:]]\n",
    "        y = [i[1] for i in shape.shape.points[:]]\n",
    "        plt.plot(x, y, 'k')\n",
    "        \n",
    "        if (x_lim == None) & (y_lim == None):\n",
    "            x0 = np.mean(x)\n",
    "            y0 = np.mean(y)\n",
    "            plt.text(x0, y0, id, fontsize=10)\n",
    "        id = id+1\n",
    "    \n",
    "    if (x_lim != None) & (y_lim != None):     \n",
    "        plt.xlim(x_lim)\n",
    "        plt.ylim(y_lim)"
   ]
  },
  {
   "cell_type": "code",
   "execution_count": null,
   "metadata": {},
   "outputs": [],
   "source": [
    "plot_map(sf)"
   ]
  },
  {
   "cell_type": "code",
   "execution_count": null,
   "metadata": {},
   "outputs": [],
   "source": []
  },
  {
   "cell_type": "code",
   "execution_count": null,
   "metadata": {},
   "outputs": [],
   "source": []
  },
  {
   "cell_type": "code",
   "execution_count": null,
   "metadata": {},
   "outputs": [],
   "source": []
  },
  {
   "cell_type": "code",
   "execution_count": null,
   "metadata": {},
   "outputs": [],
   "source": []
  },
  {
   "cell_type": "code",
   "execution_count": null,
   "metadata": {},
   "outputs": [],
   "source": [
    "import json\n",
    "import pandas as pd\n",
    "data = json.load(open('myshpfile.json'))\n",
    "\n",
    "list(data.keys())\n",
    "#['data','fields']"
   ]
  },
  {
   "cell_type": "code",
   "execution_count": null,
   "metadata": {},
   "outputs": [],
   "source": [
    "pd.json_normalize(data)"
   ]
  },
  {
   "cell_type": "code",
   "execution_count": null,
   "metadata": {
    "scrolled": false
   },
   "outputs": [],
   "source": []
  }
 ],
 "metadata": {
  "kernelspec": {
   "display_name": "Python 3",
   "language": "python",
   "name": "python3"
  },
  "language_info": {
   "codemirror_mode": {
    "name": "ipython",
    "version": 3
   },
   "file_extension": ".py",
   "mimetype": "text/x-python",
   "name": "python",
   "nbconvert_exporter": "python",
   "pygments_lexer": "ipython3",
   "version": "3.7.7"
  }
 },
 "nbformat": 4,
 "nbformat_minor": 4
}
