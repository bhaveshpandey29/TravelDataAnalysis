{
 "cells": [
  {
   "cell_type": "code",
   "execution_count": 1,
   "metadata": {},
   "outputs": [],
   "source": [
    "import pandas as pd\n",
    "import numpy as np\n",
    "%matplotlib inline\n",
    "import matplotlib.pyplot as plt\n",
    "import seaborn as sns; sns.set()"
   ]
  },
  {
   "cell_type": "code",
   "execution_count": 2,
   "metadata": {},
   "outputs": [],
   "source": [
    "df = pd.read_csv(\"./Australian_Travel_Survey_Data.csv\")"
   ]
  },
  {
   "cell_type": "code",
   "execution_count": 3,
   "metadata": {
    "scrolled": false
   },
   "outputs": [
    {
     "data": {
      "text/html": [
       "<div>\n",
       "<style scoped>\n",
       "    .dataframe tbody tr th:only-of-type {\n",
       "        vertical-align: middle;\n",
       "    }\n",
       "\n",
       "    .dataframe tbody tr th {\n",
       "        vertical-align: top;\n",
       "    }\n",
       "\n",
       "    .dataframe thead th {\n",
       "        text-align: right;\n",
       "    }\n",
       "</style>\n",
       "<table border=\"1\" class=\"dataframe\">\n",
       "  <thead>\n",
       "    <tr style=\"text-align: right;\">\n",
       "      <th></th>\n",
       "      <th>PERSONID</th>\n",
       "      <th>AGE</th>\n",
       "      <th>GENDER</th>\n",
       "      <th>ANYWORK</th>\n",
       "      <th>CARLICENCE</th>\n",
       "      <th>HHSTRUCTURE</th>\n",
       "      <th>HH_CARS</th>\n",
       "      <th>HHINC_grp</th>\n",
       "      <th>SA1_code</th>\n",
       "      <th>PopDensity_SA1</th>\n",
       "      <th>SA2_code</th>\n",
       "      <th>PopDensity_SA2</th>\n",
       "      <th>SA3_code</th>\n",
       "      <th>PopDensity_SA3</th>\n",
       "      <th>STATE</th>\n",
       "      <th>ACTIVE_TRAVEL_TIME</th>\n",
       "      <th>CAR_TIME</th>\n",
       "    </tr>\n",
       "  </thead>\n",
       "  <tbody>\n",
       "    <tr>\n",
       "      <th>0</th>\n",
       "      <td>Y09H151315P01</td>\n",
       "      <td>40</td>\n",
       "      <td>2</td>\n",
       "      <td>1</td>\n",
       "      <td>1</td>\n",
       "      <td>4</td>\n",
       "      <td>0</td>\n",
       "      <td>1</td>\n",
       "      <td>2100106</td>\n",
       "      <td>1500</td>\n",
       "      <td>21001</td>\n",
       "      <td>158</td>\n",
       "      <td>20101</td>\n",
       "      <td>213</td>\n",
       "      <td>Victoria</td>\n",
       "      <td>0</td>\n",
       "      <td>35</td>\n",
       "    </tr>\n",
       "    <tr>\n",
       "      <th>1</th>\n",
       "      <td>Y09H151324P01</td>\n",
       "      <td>73</td>\n",
       "      <td>1</td>\n",
       "      <td>2</td>\n",
       "      <td>1</td>\n",
       "      <td>2</td>\n",
       "      <td>1</td>\n",
       "      <td>1</td>\n",
       "      <td>2100108</td>\n",
       "      <td>703</td>\n",
       "      <td>21001</td>\n",
       "      <td>158</td>\n",
       "      <td>20101</td>\n",
       "      <td>213</td>\n",
       "      <td>Victoria</td>\n",
       "      <td>0</td>\n",
       "      <td>100</td>\n",
       "    </tr>\n",
       "    <tr>\n",
       "      <th>2</th>\n",
       "      <td>Y09H151340P01</td>\n",
       "      <td>85</td>\n",
       "      <td>2</td>\n",
       "      <td>2</td>\n",
       "      <td>1</td>\n",
       "      <td>1</td>\n",
       "      <td>1</td>\n",
       "      <td>1</td>\n",
       "      <td>2100108</td>\n",
       "      <td>703</td>\n",
       "      <td>21001</td>\n",
       "      <td>158</td>\n",
       "      <td>20101</td>\n",
       "      <td>213</td>\n",
       "      <td>Victoria</td>\n",
       "      <td>0</td>\n",
       "      <td>35</td>\n",
       "    </tr>\n",
       "    <tr>\n",
       "      <th>3</th>\n",
       "      <td>Y09H151329P01</td>\n",
       "      <td>34</td>\n",
       "      <td>2</td>\n",
       "      <td>1</td>\n",
       "      <td>1</td>\n",
       "      <td>3</td>\n",
       "      <td>1</td>\n",
       "      <td>3</td>\n",
       "      <td>2100108</td>\n",
       "      <td>703</td>\n",
       "      <td>21001</td>\n",
       "      <td>158</td>\n",
       "      <td>20101</td>\n",
       "      <td>213</td>\n",
       "      <td>Victoria</td>\n",
       "      <td>0</td>\n",
       "      <td>79</td>\n",
       "    </tr>\n",
       "    <tr>\n",
       "      <th>4</th>\n",
       "      <td>Y09H151325P01</td>\n",
       "      <td>68</td>\n",
       "      <td>1</td>\n",
       "      <td>2</td>\n",
       "      <td>1</td>\n",
       "      <td>3</td>\n",
       "      <td>2</td>\n",
       "      <td>3</td>\n",
       "      <td>2100108</td>\n",
       "      <td>703</td>\n",
       "      <td>21001</td>\n",
       "      <td>158</td>\n",
       "      <td>20101</td>\n",
       "      <td>213</td>\n",
       "      <td>Victoria</td>\n",
       "      <td>0</td>\n",
       "      <td>97</td>\n",
       "    </tr>\n",
       "    <tr>\n",
       "      <th>...</th>\n",
       "      <td>...</td>\n",
       "      <td>...</td>\n",
       "      <td>...</td>\n",
       "      <td>...</td>\n",
       "      <td>...</td>\n",
       "      <td>...</td>\n",
       "      <td>...</td>\n",
       "      <td>...</td>\n",
       "      <td>...</td>\n",
       "      <td>...</td>\n",
       "      <td>...</td>\n",
       "      <td>...</td>\n",
       "      <td>...</td>\n",
       "      <td>...</td>\n",
       "      <td>...</td>\n",
       "      <td>...</td>\n",
       "      <td>...</td>\n",
       "    </tr>\n",
       "    <tr>\n",
       "      <th>41539</th>\n",
       "      <td>Y09H260722P01</td>\n",
       "      <td>64</td>\n",
       "      <td>2</td>\n",
       "      <td>2</td>\n",
       "      <td>1</td>\n",
       "      <td>5</td>\n",
       "      <td>1</td>\n",
       "      <td>3</td>\n",
       "      <td>3144427</td>\n",
       "      <td>947</td>\n",
       "      <td>31444</td>\n",
       "      <td>88</td>\n",
       "      <td>31606</td>\n",
       "      <td>30</td>\n",
       "      <td>Queensland</td>\n",
       "      <td>0</td>\n",
       "      <td>77</td>\n",
       "    </tr>\n",
       "    <tr>\n",
       "      <th>41540</th>\n",
       "      <td>Y09H260701P02</td>\n",
       "      <td>50</td>\n",
       "      <td>2</td>\n",
       "      <td>1</td>\n",
       "      <td>1</td>\n",
       "      <td>3</td>\n",
       "      <td>2</td>\n",
       "      <td>5</td>\n",
       "      <td>3144427</td>\n",
       "      <td>947</td>\n",
       "      <td>31444</td>\n",
       "      <td>88</td>\n",
       "      <td>31606</td>\n",
       "      <td>30</td>\n",
       "      <td>Queensland</td>\n",
       "      <td>0</td>\n",
       "      <td>42</td>\n",
       "    </tr>\n",
       "    <tr>\n",
       "      <th>41541</th>\n",
       "      <td>Y09H260701P01</td>\n",
       "      <td>52</td>\n",
       "      <td>1</td>\n",
       "      <td>1</td>\n",
       "      <td>1</td>\n",
       "      <td>3</td>\n",
       "      <td>2</td>\n",
       "      <td>5</td>\n",
       "      <td>3144427</td>\n",
       "      <td>947</td>\n",
       "      <td>31444</td>\n",
       "      <td>88</td>\n",
       "      <td>31606</td>\n",
       "      <td>30</td>\n",
       "      <td>Queensland</td>\n",
       "      <td>0</td>\n",
       "      <td>60</td>\n",
       "    </tr>\n",
       "    <tr>\n",
       "      <th>41542</th>\n",
       "      <td>Y09H260724P02</td>\n",
       "      <td>34</td>\n",
       "      <td>2</td>\n",
       "      <td>1</td>\n",
       "      <td>1</td>\n",
       "      <td>3</td>\n",
       "      <td>2</td>\n",
       "      <td>4</td>\n",
       "      <td>3144428</td>\n",
       "      <td>57</td>\n",
       "      <td>31444</td>\n",
       "      <td>88</td>\n",
       "      <td>31606</td>\n",
       "      <td>30</td>\n",
       "      <td>Queensland</td>\n",
       "      <td>0</td>\n",
       "      <td>70</td>\n",
       "    </tr>\n",
       "    <tr>\n",
       "      <th>41543</th>\n",
       "      <td>Y09H260724P01</td>\n",
       "      <td>34</td>\n",
       "      <td>1</td>\n",
       "      <td>1</td>\n",
       "      <td>1</td>\n",
       "      <td>3</td>\n",
       "      <td>2</td>\n",
       "      <td>4</td>\n",
       "      <td>3144428</td>\n",
       "      <td>57</td>\n",
       "      <td>31444</td>\n",
       "      <td>88</td>\n",
       "      <td>31606</td>\n",
       "      <td>30</td>\n",
       "      <td>Queensland</td>\n",
       "      <td>0</td>\n",
       "      <td>60</td>\n",
       "    </tr>\n",
       "  </tbody>\n",
       "</table>\n",
       "<p>41544 rows × 17 columns</p>\n",
       "</div>"
      ],
      "text/plain": [
       "            PERSONID  AGE  GENDER  ANYWORK  CARLICENCE  HHSTRUCTURE  HH_CARS  \\\n",
       "0      Y09H151315P01   40       2        1           1            4        0   \n",
       "1      Y09H151324P01   73       1        2           1            2        1   \n",
       "2      Y09H151340P01   85       2        2           1            1        1   \n",
       "3      Y09H151329P01   34       2        1           1            3        1   \n",
       "4      Y09H151325P01   68       1        2           1            3        2   \n",
       "...              ...  ...     ...      ...         ...          ...      ...   \n",
       "41539  Y09H260722P01   64       2        2           1            5        1   \n",
       "41540  Y09H260701P02   50       2        1           1            3        2   \n",
       "41541  Y09H260701P01   52       1        1           1            3        2   \n",
       "41542  Y09H260724P02   34       2        1           1            3        2   \n",
       "41543  Y09H260724P01   34       1        1           1            3        2   \n",
       "\n",
       "       HHINC_grp  SA1_code  PopDensity_SA1  SA2_code  PopDensity_SA2  \\\n",
       "0              1   2100106            1500     21001             158   \n",
       "1              1   2100108             703     21001             158   \n",
       "2              1   2100108             703     21001             158   \n",
       "3              3   2100108             703     21001             158   \n",
       "4              3   2100108             703     21001             158   \n",
       "...          ...       ...             ...       ...             ...   \n",
       "41539          3   3144427             947     31444              88   \n",
       "41540          5   3144427             947     31444              88   \n",
       "41541          5   3144427             947     31444              88   \n",
       "41542          4   3144428              57     31444              88   \n",
       "41543          4   3144428              57     31444              88   \n",
       "\n",
       "       SA3_code  PopDensity_SA3       STATE  ACTIVE_TRAVEL_TIME  CAR_TIME  \n",
       "0         20101             213    Victoria                   0        35  \n",
       "1         20101             213    Victoria                   0       100  \n",
       "2         20101             213    Victoria                   0        35  \n",
       "3         20101             213    Victoria                   0        79  \n",
       "4         20101             213    Victoria                   0        97  \n",
       "...         ...             ...         ...                 ...       ...  \n",
       "41539     31606              30  Queensland                   0        77  \n",
       "41540     31606              30  Queensland                   0        42  \n",
       "41541     31606              30  Queensland                   0        60  \n",
       "41542     31606              30  Queensland                   0        70  \n",
       "41543     31606              30  Queensland                   0        60  \n",
       "\n",
       "[41544 rows x 17 columns]"
      ]
     },
     "execution_count": 3,
     "metadata": {},
     "output_type": "execute_result"
    }
   ],
   "source": [
    "df"
   ]
  },
  {
   "cell_type": "code",
   "execution_count": 4,
   "metadata": {},
   "outputs": [],
   "source": [
    "df_ex = pd.DataFrame(df.describe())"
   ]
  },
  {
   "cell_type": "code",
   "execution_count": 5,
   "metadata": {},
   "outputs": [],
   "source": [
    "df_ex.to_csv(\"Stats.csv\")"
   ]
  },
  {
   "cell_type": "code",
   "execution_count": 6,
   "metadata": {},
   "outputs": [
    {
     "name": "stdout",
     "output_type": "stream",
     "text": [
      "<class 'pandas.core.frame.DataFrame'>\n",
      "RangeIndex: 41544 entries, 0 to 41543\n",
      "Data columns (total 17 columns):\n",
      " #   Column              Non-Null Count  Dtype \n",
      "---  ------              --------------  ----- \n",
      " 0   PERSONID            41544 non-null  object\n",
      " 1   AGE                 41544 non-null  int64 \n",
      " 2   GENDER              41544 non-null  int64 \n",
      " 3   ANYWORK             41544 non-null  int64 \n",
      " 4   CARLICENCE          41544 non-null  int64 \n",
      " 5   HHSTRUCTURE         41544 non-null  int64 \n",
      " 6   HH_CARS             41544 non-null  int64 \n",
      " 7   HHINC_grp           41544 non-null  int64 \n",
      " 8   SA1_code            41544 non-null  int64 \n",
      " 9   PopDensity_SA1      41544 non-null  int64 \n",
      " 10  SA2_code            41544 non-null  int64 \n",
      " 11  PopDensity_SA2      41544 non-null  int64 \n",
      " 12  SA3_code            41544 non-null  int64 \n",
      " 13  PopDensity_SA3      41544 non-null  int64 \n",
      " 14  STATE               41544 non-null  object\n",
      " 15  ACTIVE_TRAVEL_TIME  41544 non-null  int64 \n",
      " 16  CAR_TIME            41544 non-null  int64 \n",
      "dtypes: int64(15), object(2)\n",
      "memory usage: 5.4+ MB\n"
     ]
    }
   ],
   "source": [
    "df.info()"
   ]
  },
  {
   "cell_type": "code",
   "execution_count": null,
   "metadata": {
    "scrolled": true
   },
   "outputs": [],
   "source": []
  },
  {
   "cell_type": "code",
   "execution_count": null,
   "metadata": {},
   "outputs": [],
   "source": []
  },
  {
   "cell_type": "code",
   "execution_count": 7,
   "metadata": {},
   "outputs": [],
   "source": [
    "df = df.drop(df[(df['ACTIVE_TRAVEL_TIME'] == 0) & (df['CAR_TIME'] == 0)].index)"
   ]
  },
  {
   "cell_type": "code",
   "execution_count": 8,
   "metadata": {},
   "outputs": [
    {
     "data": {
      "text/html": [
       "<div>\n",
       "<style scoped>\n",
       "    .dataframe tbody tr th:only-of-type {\n",
       "        vertical-align: middle;\n",
       "    }\n",
       "\n",
       "    .dataframe tbody tr th {\n",
       "        vertical-align: top;\n",
       "    }\n",
       "\n",
       "    .dataframe thead th {\n",
       "        text-align: right;\n",
       "    }\n",
       "</style>\n",
       "<table border=\"1\" class=\"dataframe\">\n",
       "  <thead>\n",
       "    <tr style=\"text-align: right;\">\n",
       "      <th></th>\n",
       "      <th>PERSONID</th>\n",
       "      <th>AGE</th>\n",
       "      <th>GENDER</th>\n",
       "      <th>ANYWORK</th>\n",
       "      <th>CARLICENCE</th>\n",
       "      <th>HHSTRUCTURE</th>\n",
       "      <th>HH_CARS</th>\n",
       "      <th>HHINC_grp</th>\n",
       "      <th>SA1_code</th>\n",
       "      <th>PopDensity_SA1</th>\n",
       "      <th>SA2_code</th>\n",
       "      <th>PopDensity_SA2</th>\n",
       "      <th>SA3_code</th>\n",
       "      <th>PopDensity_SA3</th>\n",
       "      <th>STATE</th>\n",
       "      <th>ACTIVE_TRAVEL_TIME</th>\n",
       "      <th>CAR_TIME</th>\n",
       "    </tr>\n",
       "  </thead>\n",
       "  <tbody>\n",
       "    <tr>\n",
       "      <th>0</th>\n",
       "      <td>Y09H151315P01</td>\n",
       "      <td>40</td>\n",
       "      <td>2</td>\n",
       "      <td>1</td>\n",
       "      <td>1</td>\n",
       "      <td>4</td>\n",
       "      <td>0</td>\n",
       "      <td>1</td>\n",
       "      <td>2100106</td>\n",
       "      <td>1500</td>\n",
       "      <td>21001</td>\n",
       "      <td>158</td>\n",
       "      <td>20101</td>\n",
       "      <td>213</td>\n",
       "      <td>Victoria</td>\n",
       "      <td>0</td>\n",
       "      <td>35</td>\n",
       "    </tr>\n",
       "    <tr>\n",
       "      <th>1</th>\n",
       "      <td>Y09H151324P01</td>\n",
       "      <td>73</td>\n",
       "      <td>1</td>\n",
       "      <td>2</td>\n",
       "      <td>1</td>\n",
       "      <td>2</td>\n",
       "      <td>1</td>\n",
       "      <td>1</td>\n",
       "      <td>2100108</td>\n",
       "      <td>703</td>\n",
       "      <td>21001</td>\n",
       "      <td>158</td>\n",
       "      <td>20101</td>\n",
       "      <td>213</td>\n",
       "      <td>Victoria</td>\n",
       "      <td>0</td>\n",
       "      <td>100</td>\n",
       "    </tr>\n",
       "    <tr>\n",
       "      <th>2</th>\n",
       "      <td>Y09H151340P01</td>\n",
       "      <td>85</td>\n",
       "      <td>2</td>\n",
       "      <td>2</td>\n",
       "      <td>1</td>\n",
       "      <td>1</td>\n",
       "      <td>1</td>\n",
       "      <td>1</td>\n",
       "      <td>2100108</td>\n",
       "      <td>703</td>\n",
       "      <td>21001</td>\n",
       "      <td>158</td>\n",
       "      <td>20101</td>\n",
       "      <td>213</td>\n",
       "      <td>Victoria</td>\n",
       "      <td>0</td>\n",
       "      <td>35</td>\n",
       "    </tr>\n",
       "    <tr>\n",
       "      <th>3</th>\n",
       "      <td>Y09H151329P01</td>\n",
       "      <td>34</td>\n",
       "      <td>2</td>\n",
       "      <td>1</td>\n",
       "      <td>1</td>\n",
       "      <td>3</td>\n",
       "      <td>1</td>\n",
       "      <td>3</td>\n",
       "      <td>2100108</td>\n",
       "      <td>703</td>\n",
       "      <td>21001</td>\n",
       "      <td>158</td>\n",
       "      <td>20101</td>\n",
       "      <td>213</td>\n",
       "      <td>Victoria</td>\n",
       "      <td>0</td>\n",
       "      <td>79</td>\n",
       "    </tr>\n",
       "    <tr>\n",
       "      <th>4</th>\n",
       "      <td>Y09H151325P01</td>\n",
       "      <td>68</td>\n",
       "      <td>1</td>\n",
       "      <td>2</td>\n",
       "      <td>1</td>\n",
       "      <td>3</td>\n",
       "      <td>2</td>\n",
       "      <td>3</td>\n",
       "      <td>2100108</td>\n",
       "      <td>703</td>\n",
       "      <td>21001</td>\n",
       "      <td>158</td>\n",
       "      <td>20101</td>\n",
       "      <td>213</td>\n",
       "      <td>Victoria</td>\n",
       "      <td>0</td>\n",
       "      <td>97</td>\n",
       "    </tr>\n",
       "    <tr>\n",
       "      <th>...</th>\n",
       "      <td>...</td>\n",
       "      <td>...</td>\n",
       "      <td>...</td>\n",
       "      <td>...</td>\n",
       "      <td>...</td>\n",
       "      <td>...</td>\n",
       "      <td>...</td>\n",
       "      <td>...</td>\n",
       "      <td>...</td>\n",
       "      <td>...</td>\n",
       "      <td>...</td>\n",
       "      <td>...</td>\n",
       "      <td>...</td>\n",
       "      <td>...</td>\n",
       "      <td>...</td>\n",
       "      <td>...</td>\n",
       "      <td>...</td>\n",
       "    </tr>\n",
       "    <tr>\n",
       "      <th>41539</th>\n",
       "      <td>Y09H260722P01</td>\n",
       "      <td>64</td>\n",
       "      <td>2</td>\n",
       "      <td>2</td>\n",
       "      <td>1</td>\n",
       "      <td>5</td>\n",
       "      <td>1</td>\n",
       "      <td>3</td>\n",
       "      <td>3144427</td>\n",
       "      <td>947</td>\n",
       "      <td>31444</td>\n",
       "      <td>88</td>\n",
       "      <td>31606</td>\n",
       "      <td>30</td>\n",
       "      <td>Queensland</td>\n",
       "      <td>0</td>\n",
       "      <td>77</td>\n",
       "    </tr>\n",
       "    <tr>\n",
       "      <th>41540</th>\n",
       "      <td>Y09H260701P02</td>\n",
       "      <td>50</td>\n",
       "      <td>2</td>\n",
       "      <td>1</td>\n",
       "      <td>1</td>\n",
       "      <td>3</td>\n",
       "      <td>2</td>\n",
       "      <td>5</td>\n",
       "      <td>3144427</td>\n",
       "      <td>947</td>\n",
       "      <td>31444</td>\n",
       "      <td>88</td>\n",
       "      <td>31606</td>\n",
       "      <td>30</td>\n",
       "      <td>Queensland</td>\n",
       "      <td>0</td>\n",
       "      <td>42</td>\n",
       "    </tr>\n",
       "    <tr>\n",
       "      <th>41541</th>\n",
       "      <td>Y09H260701P01</td>\n",
       "      <td>52</td>\n",
       "      <td>1</td>\n",
       "      <td>1</td>\n",
       "      <td>1</td>\n",
       "      <td>3</td>\n",
       "      <td>2</td>\n",
       "      <td>5</td>\n",
       "      <td>3144427</td>\n",
       "      <td>947</td>\n",
       "      <td>31444</td>\n",
       "      <td>88</td>\n",
       "      <td>31606</td>\n",
       "      <td>30</td>\n",
       "      <td>Queensland</td>\n",
       "      <td>0</td>\n",
       "      <td>60</td>\n",
       "    </tr>\n",
       "    <tr>\n",
       "      <th>41542</th>\n",
       "      <td>Y09H260724P02</td>\n",
       "      <td>34</td>\n",
       "      <td>2</td>\n",
       "      <td>1</td>\n",
       "      <td>1</td>\n",
       "      <td>3</td>\n",
       "      <td>2</td>\n",
       "      <td>4</td>\n",
       "      <td>3144428</td>\n",
       "      <td>57</td>\n",
       "      <td>31444</td>\n",
       "      <td>88</td>\n",
       "      <td>31606</td>\n",
       "      <td>30</td>\n",
       "      <td>Queensland</td>\n",
       "      <td>0</td>\n",
       "      <td>70</td>\n",
       "    </tr>\n",
       "    <tr>\n",
       "      <th>41543</th>\n",
       "      <td>Y09H260724P01</td>\n",
       "      <td>34</td>\n",
       "      <td>1</td>\n",
       "      <td>1</td>\n",
       "      <td>1</td>\n",
       "      <td>3</td>\n",
       "      <td>2</td>\n",
       "      <td>4</td>\n",
       "      <td>3144428</td>\n",
       "      <td>57</td>\n",
       "      <td>31444</td>\n",
       "      <td>88</td>\n",
       "      <td>31606</td>\n",
       "      <td>30</td>\n",
       "      <td>Queensland</td>\n",
       "      <td>0</td>\n",
       "      <td>60</td>\n",
       "    </tr>\n",
       "  </tbody>\n",
       "</table>\n",
       "<p>41345 rows × 17 columns</p>\n",
       "</div>"
      ],
      "text/plain": [
       "            PERSONID  AGE  GENDER  ANYWORK  CARLICENCE  HHSTRUCTURE  HH_CARS  \\\n",
       "0      Y09H151315P01   40       2        1           1            4        0   \n",
       "1      Y09H151324P01   73       1        2           1            2        1   \n",
       "2      Y09H151340P01   85       2        2           1            1        1   \n",
       "3      Y09H151329P01   34       2        1           1            3        1   \n",
       "4      Y09H151325P01   68       1        2           1            3        2   \n",
       "...              ...  ...     ...      ...         ...          ...      ...   \n",
       "41539  Y09H260722P01   64       2        2           1            5        1   \n",
       "41540  Y09H260701P02   50       2        1           1            3        2   \n",
       "41541  Y09H260701P01   52       1        1           1            3        2   \n",
       "41542  Y09H260724P02   34       2        1           1            3        2   \n",
       "41543  Y09H260724P01   34       1        1           1            3        2   \n",
       "\n",
       "       HHINC_grp  SA1_code  PopDensity_SA1  SA2_code  PopDensity_SA2  \\\n",
       "0              1   2100106            1500     21001             158   \n",
       "1              1   2100108             703     21001             158   \n",
       "2              1   2100108             703     21001             158   \n",
       "3              3   2100108             703     21001             158   \n",
       "4              3   2100108             703     21001             158   \n",
       "...          ...       ...             ...       ...             ...   \n",
       "41539          3   3144427             947     31444              88   \n",
       "41540          5   3144427             947     31444              88   \n",
       "41541          5   3144427             947     31444              88   \n",
       "41542          4   3144428              57     31444              88   \n",
       "41543          4   3144428              57     31444              88   \n",
       "\n",
       "       SA3_code  PopDensity_SA3       STATE  ACTIVE_TRAVEL_TIME  CAR_TIME  \n",
       "0         20101             213    Victoria                   0        35  \n",
       "1         20101             213    Victoria                   0       100  \n",
       "2         20101             213    Victoria                   0        35  \n",
       "3         20101             213    Victoria                   0        79  \n",
       "4         20101             213    Victoria                   0        97  \n",
       "...         ...             ...         ...                 ...       ...  \n",
       "41539     31606              30  Queensland                   0        77  \n",
       "41540     31606              30  Queensland                   0        42  \n",
       "41541     31606              30  Queensland                   0        60  \n",
       "41542     31606              30  Queensland                   0        70  \n",
       "41543     31606              30  Queensland                   0        60  \n",
       "\n",
       "[41345 rows x 17 columns]"
      ]
     },
     "execution_count": 8,
     "metadata": {},
     "output_type": "execute_result"
    }
   ],
   "source": [
    "df"
   ]
  },
  {
   "cell_type": "code",
   "execution_count": 9,
   "metadata": {},
   "outputs": [],
   "source": [
    "# Assigning names to the numbers "
   ]
  },
  {
   "cell_type": "code",
   "execution_count": 10,
   "metadata": {},
   "outputs": [],
   "source": [
    "df.drop(['PERSONID'], axis = 1, inplace = True)\n",
    "df.loc[(df.GENDER == 1),\"GENDER\"] = \"MALE\"\n",
    "df.loc[(df.GENDER == 2),\"GENDER\"] = \"FEMALE\"\n",
    "df.loc[(df.ANYWORK == 1),\"ANYWORK\"] = \"YES\"\n",
    "df.loc[(df.ANYWORK == 2),\"ANYWORK\"] = \"NO\"\n",
    "df.loc[(df.CARLICENCE == 1),\"CARLICENCE\"] = \"YES\"\n",
    "df.loc[(df.CARLICENCE == 2),\"CARLICENCE\"] = \"NO\""
   ]
  },
  {
   "cell_type": "code",
   "execution_count": 11,
   "metadata": {
    "scrolled": false
   },
   "outputs": [
    {
     "data": {
      "text/html": [
       "<div>\n",
       "<style scoped>\n",
       "    .dataframe tbody tr th:only-of-type {\n",
       "        vertical-align: middle;\n",
       "    }\n",
       "\n",
       "    .dataframe tbody tr th {\n",
       "        vertical-align: top;\n",
       "    }\n",
       "\n",
       "    .dataframe thead th {\n",
       "        text-align: right;\n",
       "    }\n",
       "</style>\n",
       "<table border=\"1\" class=\"dataframe\">\n",
       "  <thead>\n",
       "    <tr style=\"text-align: right;\">\n",
       "      <th></th>\n",
       "      <th>AGE</th>\n",
       "      <th>GENDER</th>\n",
       "      <th>ANYWORK</th>\n",
       "      <th>CARLICENCE</th>\n",
       "      <th>HHSTRUCTURE</th>\n",
       "      <th>HH_CARS</th>\n",
       "      <th>HHINC_grp</th>\n",
       "      <th>SA1_code</th>\n",
       "      <th>PopDensity_SA1</th>\n",
       "      <th>SA2_code</th>\n",
       "      <th>PopDensity_SA2</th>\n",
       "      <th>SA3_code</th>\n",
       "      <th>PopDensity_SA3</th>\n",
       "      <th>STATE</th>\n",
       "      <th>ACTIVE_TRAVEL_TIME</th>\n",
       "      <th>CAR_TIME</th>\n",
       "    </tr>\n",
       "  </thead>\n",
       "  <tbody>\n",
       "    <tr>\n",
       "      <th>190</th>\n",
       "      <td>75</td>\n",
       "      <td>MALE</td>\n",
       "      <td>NO</td>\n",
       "      <td>YES</td>\n",
       "      <td>1</td>\n",
       "      <td>1</td>\n",
       "      <td>1</td>\n",
       "      <td>2100224</td>\n",
       "      <td>1417</td>\n",
       "      <td>21002</td>\n",
       "      <td>975</td>\n",
       "      <td>20101</td>\n",
       "      <td>213</td>\n",
       "      <td>Victoria</td>\n",
       "      <td>45</td>\n",
       "      <td>45</td>\n",
       "    </tr>\n",
       "    <tr>\n",
       "      <th>405</th>\n",
       "      <td>31</td>\n",
       "      <td>FEMALE</td>\n",
       "      <td>NO</td>\n",
       "      <td>YES</td>\n",
       "      <td>2</td>\n",
       "      <td>2</td>\n",
       "      <td>4</td>\n",
       "      <td>2100315</td>\n",
       "      <td>968</td>\n",
       "      <td>21003</td>\n",
       "      <td>238</td>\n",
       "      <td>20101</td>\n",
       "      <td>213</td>\n",
       "      <td>Victoria</td>\n",
       "      <td>30</td>\n",
       "      <td>30</td>\n",
       "    </tr>\n",
       "    <tr>\n",
       "      <th>426</th>\n",
       "      <td>28</td>\n",
       "      <td>MALE</td>\n",
       "      <td>YES</td>\n",
       "      <td>YES</td>\n",
       "      <td>5</td>\n",
       "      <td>2</td>\n",
       "      <td>5</td>\n",
       "      <td>2100319</td>\n",
       "      <td>714</td>\n",
       "      <td>21003</td>\n",
       "      <td>238</td>\n",
       "      <td>20101</td>\n",
       "      <td>213</td>\n",
       "      <td>Victoria</td>\n",
       "      <td>10</td>\n",
       "      <td>10</td>\n",
       "    </tr>\n",
       "    <tr>\n",
       "      <th>571</th>\n",
       "      <td>65</td>\n",
       "      <td>MALE</td>\n",
       "      <td>NO</td>\n",
       "      <td>YES</td>\n",
       "      <td>2</td>\n",
       "      <td>1</td>\n",
       "      <td>2</td>\n",
       "      <td>2100341</td>\n",
       "      <td>1995</td>\n",
       "      <td>21003</td>\n",
       "      <td>238</td>\n",
       "      <td>20101</td>\n",
       "      <td>213</td>\n",
       "      <td>Victoria</td>\n",
       "      <td>20</td>\n",
       "      <td>20</td>\n",
       "    </tr>\n",
       "    <tr>\n",
       "      <th>625</th>\n",
       "      <td>84</td>\n",
       "      <td>MALE</td>\n",
       "      <td>NO</td>\n",
       "      <td>YES</td>\n",
       "      <td>4</td>\n",
       "      <td>2</td>\n",
       "      <td>2</td>\n",
       "      <td>2100349</td>\n",
       "      <td>1817</td>\n",
       "      <td>21003</td>\n",
       "      <td>238</td>\n",
       "      <td>20101</td>\n",
       "      <td>213</td>\n",
       "      <td>Victoria</td>\n",
       "      <td>20</td>\n",
       "      <td>20</td>\n",
       "    </tr>\n",
       "    <tr>\n",
       "      <th>...</th>\n",
       "      <td>...</td>\n",
       "      <td>...</td>\n",
       "      <td>...</td>\n",
       "      <td>...</td>\n",
       "      <td>...</td>\n",
       "      <td>...</td>\n",
       "      <td>...</td>\n",
       "      <td>...</td>\n",
       "      <td>...</td>\n",
       "      <td>...</td>\n",
       "      <td>...</td>\n",
       "      <td>...</td>\n",
       "      <td>...</td>\n",
       "      <td>...</td>\n",
       "      <td>...</td>\n",
       "      <td>...</td>\n",
       "    </tr>\n",
       "    <tr>\n",
       "      <th>40768</th>\n",
       "      <td>29</td>\n",
       "      <td>FEMALE</td>\n",
       "      <td>NO</td>\n",
       "      <td>YES</td>\n",
       "      <td>3</td>\n",
       "      <td>2</td>\n",
       "      <td>4</td>\n",
       "      <td>3143610</td>\n",
       "      <td>1791</td>\n",
       "      <td>31436</td>\n",
       "      <td>395</td>\n",
       "      <td>31605</td>\n",
       "      <td>390</td>\n",
       "      <td>Queensland</td>\n",
       "      <td>20</td>\n",
       "      <td>20</td>\n",
       "    </tr>\n",
       "    <tr>\n",
       "      <th>41376</th>\n",
       "      <td>62</td>\n",
       "      <td>FEMALE</td>\n",
       "      <td>YES</td>\n",
       "      <td>YES</td>\n",
       "      <td>2</td>\n",
       "      <td>2</td>\n",
       "      <td>1</td>\n",
       "      <td>3144229</td>\n",
       "      <td>171</td>\n",
       "      <td>31442</td>\n",
       "      <td>71</td>\n",
       "      <td>31606</td>\n",
       "      <td>30</td>\n",
       "      <td>Queensland</td>\n",
       "      <td>15</td>\n",
       "      <td>15</td>\n",
       "    </tr>\n",
       "    <tr>\n",
       "      <th>41433</th>\n",
       "      <td>77</td>\n",
       "      <td>MALE</td>\n",
       "      <td>NO</td>\n",
       "      <td>YES</td>\n",
       "      <td>2</td>\n",
       "      <td>1</td>\n",
       "      <td>2</td>\n",
       "      <td>3144302</td>\n",
       "      <td>917</td>\n",
       "      <td>31443</td>\n",
       "      <td>11</td>\n",
       "      <td>31606</td>\n",
       "      <td>30</td>\n",
       "      <td>Queensland</td>\n",
       "      <td>10</td>\n",
       "      <td>10</td>\n",
       "    </tr>\n",
       "    <tr>\n",
       "      <th>41445</th>\n",
       "      <td>74</td>\n",
       "      <td>FEMALE</td>\n",
       "      <td>NO</td>\n",
       "      <td>NO</td>\n",
       "      <td>2</td>\n",
       "      <td>1</td>\n",
       "      <td>2</td>\n",
       "      <td>3144302</td>\n",
       "      <td>917</td>\n",
       "      <td>31443</td>\n",
       "      <td>11</td>\n",
       "      <td>31606</td>\n",
       "      <td>30</td>\n",
       "      <td>Queensland</td>\n",
       "      <td>10</td>\n",
       "      <td>10</td>\n",
       "    </tr>\n",
       "    <tr>\n",
       "      <th>41535</th>\n",
       "      <td>36</td>\n",
       "      <td>FEMALE</td>\n",
       "      <td>YES</td>\n",
       "      <td>YES</td>\n",
       "      <td>3</td>\n",
       "      <td>2</td>\n",
       "      <td>5</td>\n",
       "      <td>3144427</td>\n",
       "      <td>947</td>\n",
       "      <td>31444</td>\n",
       "      <td>88</td>\n",
       "      <td>31606</td>\n",
       "      <td>30</td>\n",
       "      <td>Queensland</td>\n",
       "      <td>30</td>\n",
       "      <td>30</td>\n",
       "    </tr>\n",
       "  </tbody>\n",
       "</table>\n",
       "<p>234 rows × 16 columns</p>\n",
       "</div>"
      ],
      "text/plain": [
       "       AGE  GENDER ANYWORK CARLICENCE  HHSTRUCTURE  HH_CARS  HHINC_grp  \\\n",
       "190     75    MALE      NO        YES            1        1          1   \n",
       "405     31  FEMALE      NO        YES            2        2          4   \n",
       "426     28    MALE     YES        YES            5        2          5   \n",
       "571     65    MALE      NO        YES            2        1          2   \n",
       "625     84    MALE      NO        YES            4        2          2   \n",
       "...    ...     ...     ...        ...          ...      ...        ...   \n",
       "40768   29  FEMALE      NO        YES            3        2          4   \n",
       "41376   62  FEMALE     YES        YES            2        2          1   \n",
       "41433   77    MALE      NO        YES            2        1          2   \n",
       "41445   74  FEMALE      NO         NO            2        1          2   \n",
       "41535   36  FEMALE     YES        YES            3        2          5   \n",
       "\n",
       "       SA1_code  PopDensity_SA1  SA2_code  PopDensity_SA2  SA3_code  \\\n",
       "190     2100224            1417     21002             975     20101   \n",
       "405     2100315             968     21003             238     20101   \n",
       "426     2100319             714     21003             238     20101   \n",
       "571     2100341            1995     21003             238     20101   \n",
       "625     2100349            1817     21003             238     20101   \n",
       "...         ...             ...       ...             ...       ...   \n",
       "40768   3143610            1791     31436             395     31605   \n",
       "41376   3144229             171     31442              71     31606   \n",
       "41433   3144302             917     31443              11     31606   \n",
       "41445   3144302             917     31443              11     31606   \n",
       "41535   3144427             947     31444              88     31606   \n",
       "\n",
       "       PopDensity_SA3       STATE  ACTIVE_TRAVEL_TIME  CAR_TIME  \n",
       "190               213    Victoria                  45        45  \n",
       "405               213    Victoria                  30        30  \n",
       "426               213    Victoria                  10        10  \n",
       "571               213    Victoria                  20        20  \n",
       "625               213    Victoria                  20        20  \n",
       "...               ...         ...                 ...       ...  \n",
       "40768             390  Queensland                  20        20  \n",
       "41376              30  Queensland                  15        15  \n",
       "41433              30  Queensland                  10        10  \n",
       "41445              30  Queensland                  10        10  \n",
       "41535              30  Queensland                  30        30  \n",
       "\n",
       "[234 rows x 16 columns]"
      ]
     },
     "execution_count": 11,
     "metadata": {},
     "output_type": "execute_result"
    }
   ],
   "source": [
    "df.query(\"ACTIVE_TRAVEL_TIME == CAR_TIME\")"
   ]
  },
  {
   "cell_type": "markdown",
   "metadata": {},
   "source": [
    "### We have 234 records with same active and car time"
   ]
  },
  {
   "cell_type": "code",
   "execution_count": 12,
   "metadata": {},
   "outputs": [],
   "source": [
    "bins=[18, 29, 39, 49, 59, 69, 79, 89, 101]\n",
    "labels = ['18-29', '30-39', '40-49', '50-59', '60-69', '70-79','80-89','90 +']\n",
    "df['AGE_RANGE'] = pd.cut(df['AGE'],bins,labels = labels, include_lowest = True)"
   ]
  },
  {
   "cell_type": "code",
   "execution_count": null,
   "metadata": {},
   "outputs": [],
   "source": []
  },
  {
   "cell_type": "code",
   "execution_count": null,
   "metadata": {},
   "outputs": [],
   "source": []
  },
  {
   "cell_type": "markdown",
   "metadata": {},
   "source": [
    "## Clustering"
   ]
  },
  {
   "cell_type": "code",
   "execution_count": 13,
   "metadata": {},
   "outputs": [],
   "source": [
    "df_cluster = df.copy()"
   ]
  },
  {
   "cell_type": "code",
   "execution_count": 14,
   "metadata": {},
   "outputs": [],
   "source": [
    "from sklearn import preprocessing"
   ]
  },
  {
   "cell_type": "code",
   "execution_count": 15,
   "metadata": {
    "scrolled": false
   },
   "outputs": [
    {
     "data": {
      "text/html": [
       "<div>\n",
       "<style scoped>\n",
       "    .dataframe tbody tr th:only-of-type {\n",
       "        vertical-align: middle;\n",
       "    }\n",
       "\n",
       "    .dataframe tbody tr th {\n",
       "        vertical-align: top;\n",
       "    }\n",
       "\n",
       "    .dataframe thead th {\n",
       "        text-align: right;\n",
       "    }\n",
       "</style>\n",
       "<table border=\"1\" class=\"dataframe\">\n",
       "  <thead>\n",
       "    <tr style=\"text-align: right;\">\n",
       "      <th></th>\n",
       "      <th>ACTIVE_TRAVEL_TIME</th>\n",
       "      <th>CAR_TIME</th>\n",
       "    </tr>\n",
       "  </thead>\n",
       "  <tbody>\n",
       "    <tr>\n",
       "      <th>0</th>\n",
       "      <td>0</td>\n",
       "      <td>35</td>\n",
       "    </tr>\n",
       "    <tr>\n",
       "      <th>1</th>\n",
       "      <td>0</td>\n",
       "      <td>100</td>\n",
       "    </tr>\n",
       "    <tr>\n",
       "      <th>2</th>\n",
       "      <td>0</td>\n",
       "      <td>35</td>\n",
       "    </tr>\n",
       "    <tr>\n",
       "      <th>3</th>\n",
       "      <td>0</td>\n",
       "      <td>79</td>\n",
       "    </tr>\n",
       "    <tr>\n",
       "      <th>4</th>\n",
       "      <td>0</td>\n",
       "      <td>97</td>\n",
       "    </tr>\n",
       "    <tr>\n",
       "      <th>...</th>\n",
       "      <td>...</td>\n",
       "      <td>...</td>\n",
       "    </tr>\n",
       "    <tr>\n",
       "      <th>41539</th>\n",
       "      <td>0</td>\n",
       "      <td>77</td>\n",
       "    </tr>\n",
       "    <tr>\n",
       "      <th>41540</th>\n",
       "      <td>0</td>\n",
       "      <td>42</td>\n",
       "    </tr>\n",
       "    <tr>\n",
       "      <th>41541</th>\n",
       "      <td>0</td>\n",
       "      <td>60</td>\n",
       "    </tr>\n",
       "    <tr>\n",
       "      <th>41542</th>\n",
       "      <td>0</td>\n",
       "      <td>70</td>\n",
       "    </tr>\n",
       "    <tr>\n",
       "      <th>41543</th>\n",
       "      <td>0</td>\n",
       "      <td>60</td>\n",
       "    </tr>\n",
       "  </tbody>\n",
       "</table>\n",
       "<p>41345 rows × 2 columns</p>\n",
       "</div>"
      ],
      "text/plain": [
       "       ACTIVE_TRAVEL_TIME  CAR_TIME\n",
       "0                       0        35\n",
       "1                       0       100\n",
       "2                       0        35\n",
       "3                       0        79\n",
       "4                       0        97\n",
       "...                   ...       ...\n",
       "41539                   0        77\n",
       "41540                   0        42\n",
       "41541                   0        60\n",
       "41542                   0        70\n",
       "41543                   0        60\n",
       "\n",
       "[41345 rows x 2 columns]"
      ]
     },
     "execution_count": 15,
     "metadata": {},
     "output_type": "execute_result"
    }
   ],
   "source": [
    "x = df_cluster.iloc[:,14:16]\n",
    "x"
   ]
  },
  {
   "cell_type": "code",
   "execution_count": 16,
   "metadata": {},
   "outputs": [],
   "source": [
    "x_scaled = preprocessing.scale(x)"
   ]
  },
  {
   "cell_type": "code",
   "execution_count": 17,
   "metadata": {},
   "outputs": [],
   "source": [
    "from sklearn.cluster import KMeans"
   ]
  },
  {
   "cell_type": "code",
   "execution_count": null,
   "metadata": {},
   "outputs": [],
   "source": []
  },
  {
   "cell_type": "code",
   "execution_count": 18,
   "metadata": {},
   "outputs": [],
   "source": [
    "wcss = []\n",
    "\n",
    "for i in range(1,20):\n",
    "    kmeans = KMeans(i)\n",
    "    kmeans.fit(x_scaled)\n",
    "    wcss_iter = kmeans.inertia_\n",
    "    wcss.append(wcss_iter)"
   ]
  },
  {
   "cell_type": "code",
   "execution_count": 19,
   "metadata": {},
   "outputs": [
    {
     "data": {
      "text/plain": [
       "[82690.00000000544,\n",
       " 52611.84711990282,\n",
       " 30161.251211036237,\n",
       " 23264.149521566444,\n",
       " 16827.53167164738,\n",
       " 13879.635745031934,\n",
       " 11228.041299576491,\n",
       " 9742.342480214947,\n",
       " 8348.067053581854,\n",
       " 7410.679702765078,\n",
       " 6584.854367211187,\n",
       " 5962.982147103292,\n",
       " 5457.684918389588,\n",
       " 4887.612408809134,\n",
       " 4490.633797553754,\n",
       " 4095.229407740928,\n",
       " 3743.6127920985987,\n",
       " 3457.9671859002315,\n",
       " 3179.167282773158]"
      ]
     },
     "execution_count": 19,
     "metadata": {},
     "output_type": "execute_result"
    }
   ],
   "source": [
    "wcss"
   ]
  },
  {
   "cell_type": "code",
   "execution_count": 20,
   "metadata": {
    "scrolled": true
   },
   "outputs": [
    {
     "data": {
      "text/plain": [
       "Text(0, 0.5, 'Sum sq')"
      ]
     },
     "execution_count": 20,
     "metadata": {},
     "output_type": "execute_result"
    },
    {
     "data": {
      "image/png": "[encoded data removed]",
      "text/plain": [
       "<Figure size 432x288 with 1 Axes>"
      ]
     },
     "metadata": {},
     "output_type": "display_data"
    }
   ],
   "source": [
    "#The elbow method\n",
    "number_clusters = range(1,20)\n",
    "plt.plot(number_clusters,wcss)\n",
    "plt.title(\"The elbow method\")\n",
    "plt.xlabel(\"Number of clusters\")\n",
    "plt.ylabel(\"Sum sq\")"
   ]
  },
  {
   "cell_type": "code",
   "execution_count": 21,
   "metadata": {},
   "outputs": [],
   "source": [
    "sums = []\n",
    "K = range(1,20)\n",
    "for k in K:\n",
    "    km = KMeans(k)\n",
    "    km = km.fit(x_scaled)\n",
    "    sums.append(km.inertia_)"
   ]
  },
  {
   "cell_type": "code",
   "execution_count": 22,
   "metadata": {},
   "outputs": [
    {
     "data": {
      "image/png": "[encoded data removed]",
      "text/plain": [
       "<Figure size 432x288 with 1 Axes>"
      ]
     },
     "metadata": {},
     "output_type": "display_data"
    }
   ],
   "source": [
    "plt.plot(K,sums, 'bx-')\n",
    "plt.xlabel('Number of K')\n",
    "plt.ylabel('Sum of sq distance')\n",
    "plt.title('Elow method for optimal K')\n",
    "plt.show()"
   ]
  },
  {
   "cell_type": "code",
   "execution_count": null,
   "metadata": {},
   "outputs": [],
   "source": []
  },
  {
   "cell_type": "code",
   "execution_count": null,
   "metadata": {},
   "outputs": [],
   "source": []
  },
  {
   "cell_type": "code",
   "execution_count": null,
   "metadata": {},
   "outputs": [],
   "source": []
  },
  {
   "cell_type": "code",
   "execution_count": 23,
   "metadata": {},
   "outputs": [],
   "source": [
    "kmeans = KMeans(n_clusters = 6, init='k-means++', n_init = 10 ,max_iter=300,tol=0.0001,  random_state= 111  , algorithm='elkan')"
   ]
  },
  {
   "cell_type": "code",
   "execution_count": 24,
   "metadata": {},
   "outputs": [
    {
     "data": {
      "text/plain": [
       "KMeans(algorithm='elkan', n_clusters=6, random_state=111)"
      ]
     },
     "execution_count": 24,
     "metadata": {},
     "output_type": "execute_result"
    }
   ],
   "source": [
    "kmeans.fit(x_scaled)"
   ]
  },
  {
   "cell_type": "code",
   "execution_count": 25,
   "metadata": {},
   "outputs": [
    {
     "data": {
      "text/plain": [
       "array([4, 1, 4, ..., 1, 1, 1])"
      ]
     },
     "execution_count": 25,
     "metadata": {},
     "output_type": "execute_result"
    }
   ],
   "source": [
    "identified_clusters = kmeans.fit_predict(x_scaled)\n",
    "identified_clusters"
   ]
  },
  {
   "cell_type": "code",
   "execution_count": 26,
   "metadata": {},
   "outputs": [],
   "source": [
    "data_with_clusters = df_cluster.copy()\n",
    "data_with_clusters['cluster'] = identified_clusters\n",
    "#data_with_clusters"
   ]
  },
  {
   "cell_type": "code",
   "execution_count": 27,
   "metadata": {},
   "outputs": [],
   "source": [
    "#from sklearn.preprocessing import LabelEncoder\n",
    "#encode = LabelEncoder()\n",
    "#encode.fit(data_with_clusters['STATE'])\n",
    "#data_with_clusters['STATE'] = encode.transform(data_with_clusters['STATE'])"
   ]
  },
  {
   "cell_type": "code",
   "execution_count": 28,
   "metadata": {},
   "outputs": [
    {
     "data": {
      "image/png": "[encoded data removed]",
      "text/plain": [
       "<Figure size 720x432 with 1 Axes>"
      ]
     },
     "metadata": {},
     "output_type": "display_data"
    }
   ],
   "source": [
    "plt.figure(figsize=(10,6))\n",
    "\n",
    "scatter = plt.scatter(data_with_clusters['ACTIVE_TRAVEL_TIME'], data_with_clusters['CAR_TIME'] ,c = data_with_clusters['cluster'], cmap = \"rainbow\")\n",
    "plt.xlabel('Active Travel Time in Minute'), plt.ylabel('Car Travel Time in Minute') \n",
    "classes = ['Group 1', 'Group 2', 'Group 3', 'Group 4','Group 5','Group 6']\n",
    "\n",
    "#plt.legend(*scatter.legend_elements())\n",
    "plt.legend(handles = scatter.legend_elements()[0],labels = classes)\n",
    "\n",
    "plt.show()"
   ]
  },
  {
   "cell_type": "code",
   "execution_count": 29,
   "metadata": {},
   "outputs": [],
   "source": [
    "#data_with_clusters.cluster.unique()"
   ]
  },
  {
   "cell_type": "code",
   "execution_count": 30,
   "metadata": {
    "scrolled": false
   },
   "outputs": [],
   "source": [
    "df2 = data_with_clusters.loc[data_with_clusters.cluster == 5]\n",
    "#df2['ACTIVE_TRAVEL_TIME'].max()\n",
    "#perctiles =[.05, .25, .50, .75,.90,.95] \n",
    "#df2 = df2.describe(percentiles = perctiles)\n",
    "#df2.drop(['SA1_code','SA2_code','SA3_code','STATE','cluster'], axis = 1, inplace = True)\n",
    "#df2.to_csv('GroupOne_Stats_ACTIVEvsSED.csv')"
   ]
  },
  {
   "cell_type": "code",
   "execution_count": null,
   "metadata": {},
   "outputs": [],
   "source": []
  },
  {
   "cell_type": "code",
   "execution_count": 34,
   "metadata": {
    "scrolled": false
   },
   "outputs": [
    {
     "data": {
      "image/png": "[encoded data removed]",
      "text/plain": [
       "<Figure size 432x288 with 1 Axes>"
      ]
     },
     "metadata": {},
     "output_type": "display_data"
    }
   ],
   "source": [
    "sns.set(style = \"whitegrid\")\n",
    "ax = sns.boxplot(x=data_with_clusters['ACTIVE_TRAVEL_TIME'])"
   ]
  },
  {
   "cell_type": "code",
   "execution_count": 35,
   "metadata": {},
   "outputs": [
    {
     "data": {
      "image/png": "[encoded data removed]",
      "text/plain": [
       "<Figure size 432x288 with 1 Axes>"
      ]
     },
     "metadata": {},
     "output_type": "display_data"
    }
   ],
   "source": [
    "ax = sns.boxplot(x=data_with_clusters['CAR_TIME'])"
   ]
  },
  {
   "cell_type": "code",
   "execution_count": null,
   "metadata": {},
   "outputs": [],
   "source": []
  },
  {
   "cell_type": "code",
   "execution_count": 33,
   "metadata": {
    "scrolled": false
   },
   "outputs": [
    {
     "ename": "NameError",
     "evalue": "name 'df33' is not defined",
     "output_type": "error",
     "traceback": [
      "\u001b[1;31m---------------------------------------------------------------------------\u001b[0m",
      "\u001b[1;31mNameError\u001b[0m                                 Traceback (most recent call last)",
      "\u001b[1;32m<ipython-input-33-f07730912de8>\u001b[0m in \u001b[0;36m<module>\u001b[1;34m\u001b[0m\n\u001b[1;32m----> 1\u001b[1;33m \u001b[0mdf33\u001b[0m\u001b[1;33m\u001b[0m\u001b[1;33m\u001b[0m\u001b[0m\n\u001b[0m",
      "\u001b[1;31mNameError\u001b[0m: name 'df33' is not defined"
     ]
    }
   ],
   "source": [
    "df33"
   ]
  },
  {
   "cell_type": "code",
   "execution_count": null,
   "metadata": {},
   "outputs": [],
   "source": [
    "# code to test different clusters\n",
    "\n",
    "kmeans = KMeans(n_clusters = 6, init='k-means++', n_init = 10 ,max_iter=300,tol=0.0001,  random_state= 111  , algorithm='elkan')\n",
    "kmeans.fit(x_scaled)\n",
    "identified_clusters = kmeans.fit_predict(x_scaled)\n",
    "data_with_clusters = df_cluster.copy()\n",
    "data_with_clusters['cluster'] = identified_clusters\n",
    "plt.figure(figsize=(10,6))\n",
    "\n",
    "scatter = plt.scatter(data_with_clusters['ACTIVE_TRAVEL_TIME'], data_with_clusters['CAR_TIME'] ,c = data_with_clusters['cluster'], cmap = \"rainbow\")\n",
    "plt.xlabel('Active Travel Time in Minute'), plt.ylabel('Car Travel Time in Minute') \n",
    "classes = ['Group 1', 'Group 2', 'Group 3', 'Group 4','Group 5','Group 6']\n",
    "\n",
    "#plt.legend(*scatter.legend_elements())\n",
    "plt.legend(handles = scatter.legend_elements()[0],labels = classes)\n",
    "\n",
    "plt.show()"
   ]
  },
  {
   "cell_type": "code",
   "execution_count": null,
   "metadata": {
    "scrolled": true
   },
   "outputs": [],
   "source": [
    "df32"
   ]
  },
  {
   "cell_type": "code",
   "execution_count": null,
   "metadata": {},
   "outputs": [],
   "source": [
    "df_cluster.info()"
   ]
  },
  {
   "cell_type": "code",
   "execution_count": null,
   "metadata": {},
   "outputs": [],
   "source": []
  },
  {
   "cell_type": "code",
   "execution_count": null,
   "metadata": {
    "scrolled": false
   },
   "outputs": [],
   "source": [
    "x = df_cluster.iloc[:,8:15:6]\n",
    "x"
   ]
  },
  {
   "cell_type": "code",
   "execution_count": null,
   "metadata": {},
   "outputs": [],
   "source": [
    "x_scaled = preprocessing.scale(x)"
   ]
  },
  {
   "cell_type": "code",
   "execution_count": null,
   "metadata": {},
   "outputs": [],
   "source": [
    "#wcss = []\n",
    "\n",
    "#for i in range(1,20):\n",
    "#    kmeans = KMeans(i)\n",
    "#    kmeans.fit(x_scaled)\n",
    "#    wcss_iter = kmeans.inertia_\n",
    "#    wcss.append(wcss_iter)"
   ]
  },
  {
   "cell_type": "code",
   "execution_count": null,
   "metadata": {},
   "outputs": [],
   "source": [
    "#The elbow method\n",
    "#number_clusters = range(1,20)\n",
    "#plt.plot(number_clusters,wcss)\n",
    "#plt.title(\"The elbow method\")\n",
    "#plt.xlabel(\"Number of clusters\")\n",
    "#plt.ylabel(\"Sum sq\")"
   ]
  },
  {
   "cell_type": "code",
   "execution_count": null,
   "metadata": {},
   "outputs": [],
   "source": [
    "kmeans = KMeans(n_clusters = 6, init='k-means++', n_init = 10 ,max_iter=300,tol=0.0001,  random_state= 111  , algorithm='elkan')"
   ]
  },
  {
   "cell_type": "code",
   "execution_count": null,
   "metadata": {},
   "outputs": [],
   "source": [
    "kmeans.fit(x_scaled)\n",
    "identified_clusters = kmeans.fit_predict(x_scaled)\n",
    "data_with_clusters = df_cluster.copy()\n",
    "data_with_clusters['cluster'] = identified_clusters\n",
    "#data_with_clusters"
   ]
  },
  {
   "cell_type": "code",
   "execution_count": null,
   "metadata": {},
   "outputs": [],
   "source": [
    "plt.figure(figsize=(10,6))\n",
    "\n",
    "scatter = plt.scatter(data_with_clusters['ACTIVE_TRAVEL_TIME'], data_with_clusters['PopDensity_SA1'] ,c = data_with_clusters['cluster'], cmap = \"rainbow\")\n",
    "plt.xlabel('Active Travel Time in Minute'), plt.ylabel('Population density in SA1') \n",
    "classes = ['Group 1', 'Group 2', 'Group 3', 'Group 4','Group 5','Group 6']\n",
    "\n",
    "#plt.legend(*scatter.legend_elements())\n",
    "plt.legend(handles = scatter.legend_elements()[0],labels = classes)\n",
    "\n",
    "plt.show()"
   ]
  },
  {
   "cell_type": "code",
   "execution_count": null,
   "metadata": {},
   "outputs": [],
   "source": []
  },
  {
   "cell_type": "code",
   "execution_count": null,
   "metadata": {},
   "outputs": [],
   "source": [
    "df_cluster1 = df.copy()"
   ]
  },
  {
   "cell_type": "code",
   "execution_count": null,
   "metadata": {
    "scrolled": false
   },
   "outputs": [],
   "source": [
    "x = df_cluster1.iloc[:,8:16:7]\n",
    "x"
   ]
  },
  {
   "cell_type": "code",
   "execution_count": null,
   "metadata": {},
   "outputs": [],
   "source": [
    "x_scaled = preprocessing.scale(x)"
   ]
  },
  {
   "cell_type": "code",
   "execution_count": null,
   "metadata": {},
   "outputs": [],
   "source": [
    "wcss = []\n",
    "\n",
    "for i in range(1,20):\n",
    "    kmeans = KMeans(i)\n",
    "    kmeans.fit(x_scaled)\n",
    "    wcss_iter = kmeans.inertia_\n",
    "    wcss.append(wcss_iter)\n",
    "    \n",
    "#The elbow method\n",
    "number_clusters = range(1,20)\n",
    "plt.plot(number_clusters,wcss)\n",
    "plt.title(\"The elbow method\")\n",
    "plt.xlabel(\"Number of clusters\")\n",
    "plt.ylabel(\"Sum sq\")"
   ]
  },
  {
   "cell_type": "code",
   "execution_count": null,
   "metadata": {},
   "outputs": [],
   "source": [
    "kmeans = KMeans(n_clusters = 6, init='k-means++', n_init = 10 ,max_iter=300,tol=0.0001,  random_state= 111  , algorithm='elkan')"
   ]
  },
  {
   "cell_type": "code",
   "execution_count": null,
   "metadata": {},
   "outputs": [],
   "source": [
    "kmeans.fit(x_scaled)\n",
    "identified_clusters = kmeans.fit_predict(x_scaled)\n",
    "data_with_clusters = df_cluster.copy()\n",
    "data_with_clusters['cluster'] = identified_clusters\n",
    "#data_with_clusters"
   ]
  },
  {
   "cell_type": "code",
   "execution_count": null,
   "metadata": {
    "scrolled": false
   },
   "outputs": [],
   "source": [
    "plt.figure(figsize=(10,6))\n",
    "\n",
    "scatter = plt.scatter(data_with_clusters['CAR_TIME'], data_with_clusters['PopDensity_SA1'] ,c = data_with_clusters['cluster'], cmap = \"rainbow\")\n",
    "plt.xlabel('Sedentary Travel Time in Minute'), plt.ylabel('Population density in SA1') \n",
    "classes = ['Group 1', 'Group 2', 'Group 3', 'Group 4','Group 5','Group 6']\n",
    "\n",
    "#plt.legend(*scatter.legend_elements())\n",
    "plt.legend(handles = scatter.legend_elements()[0],labels = classes)\n",
    "\n",
    "plt.show()"
   ]
  },
  {
   "cell_type": "code",
   "execution_count": null,
   "metadata": {},
   "outputs": [],
   "source": []
  },
  {
   "cell_type": "code",
   "execution_count": null,
   "metadata": {},
   "outputs": [],
   "source": [
    "x = df_cluster.iloc[:,10:15:4]\n",
    "x"
   ]
  },
  {
   "cell_type": "code",
   "execution_count": null,
   "metadata": {},
   "outputs": [],
   "source": [
    "x_scaled = preprocessing.scale(x)"
   ]
  },
  {
   "cell_type": "code",
   "execution_count": null,
   "metadata": {},
   "outputs": [],
   "source": [
    "kmeans = KMeans(n_clusters = 6, init='k-means++', n_init = 10 ,max_iter=300,tol=0.0001,  random_state= 111  , algorithm='elkan')"
   ]
  },
  {
   "cell_type": "code",
   "execution_count": null,
   "metadata": {},
   "outputs": [],
   "source": [
    "kmeans.fit(x_scaled)\n",
    "identified_clusters = kmeans.fit_predict(x_scaled)\n",
    "data_with_clusters = df_cluster.copy()\n",
    "data_with_clusters['cluster'] = identified_clusters\n",
    "#data_with_clusters"
   ]
  },
  {
   "cell_type": "code",
   "execution_count": null,
   "metadata": {},
   "outputs": [],
   "source": [
    "plt.figure(figsize=(10,6))\n",
    "\n",
    "scatter = plt.scatter(data_with_clusters['ACTIVE_TRAVEL_TIME'], data_with_clusters['PopDensity_SA2'] ,c = data_with_clusters['cluster'], cmap = \"rainbow\")\n",
    "plt.xlabel('Active Travel Time in Minute'), plt.ylabel('Population density in SA2') \n",
    "classes = ['Group 1', 'Group 2', 'Group 3', 'Group 4','Group 5','Group 6']\n",
    "\n",
    "#plt.legend(*scatter.legend_elements())\n",
    "plt.legend(handles = scatter.legend_elements()[0],labels = classes)\n",
    "\n",
    "plt.show()"
   ]
  },
  {
   "cell_type": "code",
   "execution_count": null,
   "metadata": {},
   "outputs": [],
   "source": []
  },
  {
   "cell_type": "code",
   "execution_count": null,
   "metadata": {},
   "outputs": [],
   "source": []
  },
  {
   "cell_type": "code",
   "execution_count": null,
   "metadata": {
    "scrolled": false
   },
   "outputs": [],
   "source": [
    "x = df_cluster.iloc[:,10:16:5]\n",
    "x"
   ]
  },
  {
   "cell_type": "code",
   "execution_count": null,
   "metadata": {},
   "outputs": [],
   "source": [
    "x_scaled = preprocessing.scale(x)\n",
    "kmeans = KMeans(n_clusters = 6, init='k-means++', n_init = 10 ,max_iter=300,tol=0.0001,  random_state= 111  , algorithm='elkan')\n",
    "kmeans.fit(x_scaled)\n",
    "identified_clusters = kmeans.fit_predict(x_scaled)\n",
    "data_with_clusters = df_cluster.copy()\n",
    "data_with_clusters['cluster'] = identified_clusters\n",
    "#data_with_clusters"
   ]
  },
  {
   "cell_type": "code",
   "execution_count": null,
   "metadata": {
    "scrolled": false
   },
   "outputs": [],
   "source": [
    "plt.figure(figsize=(10,6))\n",
    "\n",
    "scatter = plt.scatter(data_with_clusters['CAR_TIME'], data_with_clusters['PopDensity_SA2'] ,c = data_with_clusters['cluster'], cmap = \"rainbow\")\n",
    "plt.xlabel('Sedentary Travel Time in Minute'), plt.ylabel('Population density in SA2') \n",
    "classes = ['Group 1', 'Group 2', 'Group 3', 'Group 4','Group 5','Group 6']\n",
    "\n",
    "#plt.legend(*scatter.legend_elements())\n",
    "plt.legend(handles = scatter.legend_elements()[0],labels = classes)\n",
    "\n",
    "plt.show()"
   ]
  },
  {
   "cell_type": "code",
   "execution_count": null,
   "metadata": {},
   "outputs": [],
   "source": []
  },
  {
   "cell_type": "code",
   "execution_count": null,
   "metadata": {},
   "outputs": [],
   "source": []
  },
  {
   "cell_type": "code",
   "execution_count": null,
   "metadata": {
    "scrolled": false
   },
   "outputs": [],
   "source": [
    "x = df_cluster.iloc[:,12:15:2]\n",
    "x"
   ]
  },
  {
   "cell_type": "code",
   "execution_count": null,
   "metadata": {},
   "outputs": [],
   "source": [
    "x_scaled = preprocessing.scale(x)\n",
    "kmeans = KMeans(n_clusters = 6, init='k-means++', n_init = 10 ,max_iter=300,tol=0.0001,  random_state= 111  , algorithm='elkan')\n",
    "kmeans.fit(x_scaled)\n",
    "identified_clusters = kmeans.fit_predict(x_scaled)\n",
    "data_with_clusters = df_cluster.copy()\n",
    "data_with_clusters['cluster'] = identified_clusters\n",
    "#data_with_clusters"
   ]
  },
  {
   "cell_type": "code",
   "execution_count": null,
   "metadata": {
    "scrolled": false
   },
   "outputs": [],
   "source": [
    "plt.figure(figsize=(10,6))\n",
    "\n",
    "scatter = plt.scatter(data_with_clusters['ACTIVE_TRAVEL_TIME'], data_with_clusters['PopDensity_SA3'] ,c = data_with_clusters['cluster'], cmap = \"rainbow\")\n",
    "plt.xlabel('Active Travel Time in Minute'), plt.ylabel('Population density in SA3') \n",
    "classes = ['Group 1', 'Group 2', 'Group 3', 'Group 4','Group 5','Group 6']\n",
    "\n",
    "#plt.legend(*scatter.legend_elements())\n",
    "plt.legend(handles = scatter.legend_elements()[0],labels = classes)\n",
    "\n",
    "plt.show()"
   ]
  },
  {
   "cell_type": "code",
   "execution_count": null,
   "metadata": {
    "scrolled": true
   },
   "outputs": [],
   "source": [
    "x = df_cluster.iloc[:,12:16:3]\n",
    "x"
   ]
  },
  {
   "cell_type": "code",
   "execution_count": null,
   "metadata": {},
   "outputs": [],
   "source": [
    "x_scaled = preprocessing.scale(x)\n",
    "kmeans = KMeans(n_clusters = 6, init='k-means++', n_init = 10 ,max_iter=300,tol=0.0001,  random_state= 111  , algorithm='elkan')\n",
    "kmeans.fit(x_scaled)\n",
    "identified_clusters = kmeans.fit_predict(x_scaled)\n",
    "data_with_clusters = df_cluster.copy()\n",
    "data_with_clusters['cluster'] = identified_clusters\n",
    "#data_with_clusters"
   ]
  },
  {
   "cell_type": "code",
   "execution_count": null,
   "metadata": {
    "scrolled": true
   },
   "outputs": [],
   "source": [
    "plt.figure(figsize=(10,6))\n",
    "\n",
    "scatter = plt.scatter(data_with_clusters['CAR_TIME'], data_with_clusters['PopDensity_SA3'] ,c = data_with_clusters['cluster'], cmap = \"rainbow\")\n",
    "plt.xlabel('Sedentary Travel Time in Minute'), plt.ylabel('Population density in SA3') \n",
    "classes = ['Group 1', 'Group 2', 'Group 3', 'Group 4','Group 5','Group 6']\n",
    "\n",
    "#plt.legend(*scatter.legend_elements())\n",
    "plt.legend(handles = scatter.legend_elements()[0],labels = classes)\n",
    "\n",
    "plt.show()"
   ]
  },
  {
   "cell_type": "code",
   "execution_count": null,
   "metadata": {},
   "outputs": [],
   "source": []
  },
  {
   "cell_type": "code",
   "execution_count": null,
   "metadata": {},
   "outputs": [],
   "source": [
    "df1"
   ]
  }
 ],
 "metadata": {
  "kernelspec": {
   "display_name": "Python 3",
   "language": "python",
   "name": "python3"
  },
  "language_info": {
   "codemirror_mode": {
    "name": "ipython",
    "version": 3
   },
   "file_extension": ".py",
   "mimetype": "text/x-python",
   "name": "python",
   "nbconvert_exporter": "python",
   "pygments_lexer": "ipython3",
   "version": "3.7.7"
  }
 },
 "nbformat": 4,
 "nbformat_minor": 4
}
