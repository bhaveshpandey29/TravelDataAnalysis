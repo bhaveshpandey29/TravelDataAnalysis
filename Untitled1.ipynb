{
 "cells": [
  {
   "cell_type": "code",
   "execution_count": 1,
   "metadata": {},
   "outputs": [],
   "source": [
    "import pandas as pd\n",
    "%matplotlib inline\n",
    "import matplotlib.pyplot as plt\n",
    "import seaborn as sns; sns.set()  # for plot styling\n",
    "import numpy as npb"
   ]
  },
  {
   "cell_type": "code",
   "execution_count": 2,
   "metadata": {},
   "outputs": [],
   "source": [
    "df = pd.read_csv(\"../Australian_Travel_Survey_Data.csv\")"
   ]
  },
  {
   "cell_type": "code",
   "execution_count": 3,
   "metadata": {},
   "outputs": [
    {
     "data": {
      "text/html": [
       "<div>\n",
       "<style scoped>\n",
       "    .dataframe tbody tr th:only-of-type {\n",
       "        vertical-align: middle;\n",
       "    }\n",
       "\n",
       "    .dataframe tbody tr th {\n",
       "        vertical-align: top;\n",
       "    }\n",
       "\n",
       "    .dataframe thead th {\n",
       "        text-align: right;\n",
       "    }\n",
       "</style>\n",
       "<table border=\"1\" class=\"dataframe\">\n",
       "  <thead>\n",
       "    <tr style=\"text-align: right;\">\n",
       "      <th></th>\n",
       "      <th>PERSONID</th>\n",
       "      <th>AGE</th>\n",
       "      <th>GENDER</th>\n",
       "      <th>ANYWORK</th>\n",
       "      <th>CARLICENCE</th>\n",
       "      <th>HHSTRUCTURE</th>\n",
       "      <th>HH_CARS</th>\n",
       "      <th>HHINC_grp</th>\n",
       "      <th>SA1_code</th>\n",
       "      <th>PopDensity_SA1</th>\n",
       "      <th>SA2_code</th>\n",
       "      <th>PopDensity_SA2</th>\n",
       "      <th>SA3_code</th>\n",
       "      <th>PopDensity_SA3</th>\n",
       "      <th>STATE</th>\n",
       "      <th>ACTIVE_TRAVEL_TIME</th>\n",
       "      <th>CAR_TIME</th>\n",
       "    </tr>\n",
       "  </thead>\n",
       "  <tbody>\n",
       "    <tr>\n",
       "      <th>0</th>\n",
       "      <td>Y09H151315P01</td>\n",
       "      <td>40</td>\n",
       "      <td>2</td>\n",
       "      <td>1</td>\n",
       "      <td>1</td>\n",
       "      <td>4</td>\n",
       "      <td>0</td>\n",
       "      <td>1</td>\n",
       "      <td>2100106</td>\n",
       "      <td>1500</td>\n",
       "      <td>21001</td>\n",
       "      <td>158</td>\n",
       "      <td>20101</td>\n",
       "      <td>213</td>\n",
       "      <td>Victoria</td>\n",
       "      <td>0</td>\n",
       "      <td>35</td>\n",
       "    </tr>\n",
       "    <tr>\n",
       "      <th>1</th>\n",
       "      <td>Y09H151324P01</td>\n",
       "      <td>73</td>\n",
       "      <td>1</td>\n",
       "      <td>2</td>\n",
       "      <td>1</td>\n",
       "      <td>2</td>\n",
       "      <td>1</td>\n",
       "      <td>1</td>\n",
       "      <td>2100108</td>\n",
       "      <td>703</td>\n",
       "      <td>21001</td>\n",
       "      <td>158</td>\n",
       "      <td>20101</td>\n",
       "      <td>213</td>\n",
       "      <td>Victoria</td>\n",
       "      <td>0</td>\n",
       "      <td>100</td>\n",
       "    </tr>\n",
       "    <tr>\n",
       "      <th>2</th>\n",
       "      <td>Y09H151340P01</td>\n",
       "      <td>85</td>\n",
       "      <td>2</td>\n",
       "      <td>2</td>\n",
       "      <td>1</td>\n",
       "      <td>1</td>\n",
       "      <td>1</td>\n",
       "      <td>1</td>\n",
       "      <td>2100108</td>\n",
       "      <td>703</td>\n",
       "      <td>21001</td>\n",
       "      <td>158</td>\n",
       "      <td>20101</td>\n",
       "      <td>213</td>\n",
       "      <td>Victoria</td>\n",
       "      <td>0</td>\n",
       "      <td>35</td>\n",
       "    </tr>\n",
       "    <tr>\n",
       "      <th>3</th>\n",
       "      <td>Y09H151329P01</td>\n",
       "      <td>34</td>\n",
       "      <td>2</td>\n",
       "      <td>1</td>\n",
       "      <td>1</td>\n",
       "      <td>3</td>\n",
       "      <td>1</td>\n",
       "      <td>3</td>\n",
       "      <td>2100108</td>\n",
       "      <td>703</td>\n",
       "      <td>21001</td>\n",
       "      <td>158</td>\n",
       "      <td>20101</td>\n",
       "      <td>213</td>\n",
       "      <td>Victoria</td>\n",
       "      <td>0</td>\n",
       "      <td>79</td>\n",
       "    </tr>\n",
       "    <tr>\n",
       "      <th>4</th>\n",
       "      <td>Y09H151325P01</td>\n",
       "      <td>68</td>\n",
       "      <td>1</td>\n",
       "      <td>2</td>\n",
       "      <td>1</td>\n",
       "      <td>3</td>\n",
       "      <td>2</td>\n",
       "      <td>3</td>\n",
       "      <td>2100108</td>\n",
       "      <td>703</td>\n",
       "      <td>21001</td>\n",
       "      <td>158</td>\n",
       "      <td>20101</td>\n",
       "      <td>213</td>\n",
       "      <td>Victoria</td>\n",
       "      <td>0</td>\n",
       "      <td>97</td>\n",
       "    </tr>\n",
       "  </tbody>\n",
       "</table>\n",
       "</div>"
      ],
      "text/plain": [
       "        PERSONID  AGE  GENDER  ANYWORK  CARLICENCE  HHSTRUCTURE  HH_CARS  \\\n",
       "0  Y09H151315P01   40       2        1           1            4        0   \n",
       "1  Y09H151324P01   73       1        2           1            2        1   \n",
       "2  Y09H151340P01   85       2        2           1            1        1   \n",
       "3  Y09H151329P01   34       2        1           1            3        1   \n",
       "4  Y09H151325P01   68       1        2           1            3        2   \n",
       "\n",
       "   HHINC_grp  SA1_code  PopDensity_SA1  SA2_code  PopDensity_SA2  SA3_code  \\\n",
       "0          1   2100106            1500     21001             158     20101   \n",
       "1          1   2100108             703     21001             158     20101   \n",
       "2          1   2100108             703     21001             158     20101   \n",
       "3          3   2100108             703     21001             158     20101   \n",
       "4          3   2100108             703     21001             158     20101   \n",
       "\n",
       "   PopDensity_SA3     STATE  ACTIVE_TRAVEL_TIME  CAR_TIME  \n",
       "0             213  Victoria                   0        35  \n",
       "1             213  Victoria                   0       100  \n",
       "2             213  Victoria                   0        35  \n",
       "3             213  Victoria                   0        79  \n",
       "4             213  Victoria                   0        97  "
      ]
     },
     "execution_count": 3,
     "metadata": {},
     "output_type": "execute_result"
    }
   ],
   "source": [
    "df.head()"
   ]
  },
  {
   "cell_type": "code",
   "execution_count": 4,
   "metadata": {},
   "outputs": [],
   "source": [
    "df.drop(['PERSONID','HHSTRUCTURE','CARLICENCE','HHINC_grp','SA1_code','PopDensity_SA1','SA3_code','PopDensity_SA3'], axis=1, inplace=True)"
   ]
  },
  {
   "cell_type": "code",
   "execution_count": 5,
   "metadata": {},
   "outputs": [
    {
     "data": {
      "text/html": [
       "<div>\n",
       "<style scoped>\n",
       "    .dataframe tbody tr th:only-of-type {\n",
       "        vertical-align: middle;\n",
       "    }\n",
       "\n",
       "    .dataframe tbody tr th {\n",
       "        vertical-align: top;\n",
       "    }\n",
       "\n",
       "    .dataframe thead th {\n",
       "        text-align: right;\n",
       "    }\n",
       "</style>\n",
       "<table border=\"1\" class=\"dataframe\">\n",
       "  <thead>\n",
       "    <tr style=\"text-align: right;\">\n",
       "      <th></th>\n",
       "      <th>AGE</th>\n",
       "      <th>GENDER</th>\n",
       "      <th>ANYWORK</th>\n",
       "      <th>HH_CARS</th>\n",
       "      <th>SA2_code</th>\n",
       "      <th>PopDensity_SA2</th>\n",
       "      <th>STATE</th>\n",
       "      <th>ACTIVE_TRAVEL_TIME</th>\n",
       "      <th>CAR_TIME</th>\n",
       "    </tr>\n",
       "  </thead>\n",
       "  <tbody>\n",
       "    <tr>\n",
       "      <th>0</th>\n",
       "      <td>40</td>\n",
       "      <td>2</td>\n",
       "      <td>1</td>\n",
       "      <td>0</td>\n",
       "      <td>21001</td>\n",
       "      <td>158</td>\n",
       "      <td>Victoria</td>\n",
       "      <td>0</td>\n",
       "      <td>35</td>\n",
       "    </tr>\n",
       "    <tr>\n",
       "      <th>1</th>\n",
       "      <td>73</td>\n",
       "      <td>1</td>\n",
       "      <td>2</td>\n",
       "      <td>1</td>\n",
       "      <td>21001</td>\n",
       "      <td>158</td>\n",
       "      <td>Victoria</td>\n",
       "      <td>0</td>\n",
       "      <td>100</td>\n",
       "    </tr>\n",
       "    <tr>\n",
       "      <th>2</th>\n",
       "      <td>85</td>\n",
       "      <td>2</td>\n",
       "      <td>2</td>\n",
       "      <td>1</td>\n",
       "      <td>21001</td>\n",
       "      <td>158</td>\n",
       "      <td>Victoria</td>\n",
       "      <td>0</td>\n",
       "      <td>35</td>\n",
       "    </tr>\n",
       "    <tr>\n",
       "      <th>3</th>\n",
       "      <td>34</td>\n",
       "      <td>2</td>\n",
       "      <td>1</td>\n",
       "      <td>1</td>\n",
       "      <td>21001</td>\n",
       "      <td>158</td>\n",
       "      <td>Victoria</td>\n",
       "      <td>0</td>\n",
       "      <td>79</td>\n",
       "    </tr>\n",
       "    <tr>\n",
       "      <th>4</th>\n",
       "      <td>68</td>\n",
       "      <td>1</td>\n",
       "      <td>2</td>\n",
       "      <td>2</td>\n",
       "      <td>21001</td>\n",
       "      <td>158</td>\n",
       "      <td>Victoria</td>\n",
       "      <td>0</td>\n",
       "      <td>97</td>\n",
       "    </tr>\n",
       "    <tr>\n",
       "      <th>...</th>\n",
       "      <td>...</td>\n",
       "      <td>...</td>\n",
       "      <td>...</td>\n",
       "      <td>...</td>\n",
       "      <td>...</td>\n",
       "      <td>...</td>\n",
       "      <td>...</td>\n",
       "      <td>...</td>\n",
       "      <td>...</td>\n",
       "    </tr>\n",
       "    <tr>\n",
       "      <th>41539</th>\n",
       "      <td>64</td>\n",
       "      <td>2</td>\n",
       "      <td>2</td>\n",
       "      <td>1</td>\n",
       "      <td>31444</td>\n",
       "      <td>88</td>\n",
       "      <td>Queensland</td>\n",
       "      <td>0</td>\n",
       "      <td>77</td>\n",
       "    </tr>\n",
       "    <tr>\n",
       "      <th>41540</th>\n",
       "      <td>50</td>\n",
       "      <td>2</td>\n",
       "      <td>1</td>\n",
       "      <td>2</td>\n",
       "      <td>31444</td>\n",
       "      <td>88</td>\n",
       "      <td>Queensland</td>\n",
       "      <td>0</td>\n",
       "      <td>42</td>\n",
       "    </tr>\n",
       "    <tr>\n",
       "      <th>41541</th>\n",
       "      <td>52</td>\n",
       "      <td>1</td>\n",
       "      <td>1</td>\n",
       "      <td>2</td>\n",
       "      <td>31444</td>\n",
       "      <td>88</td>\n",
       "      <td>Queensland</td>\n",
       "      <td>0</td>\n",
       "      <td>60</td>\n",
       "    </tr>\n",
       "    <tr>\n",
       "      <th>41542</th>\n",
       "      <td>34</td>\n",
       "      <td>2</td>\n",
       "      <td>1</td>\n",
       "      <td>2</td>\n",
       "      <td>31444</td>\n",
       "      <td>88</td>\n",
       "      <td>Queensland</td>\n",
       "      <td>0</td>\n",
       "      <td>70</td>\n",
       "    </tr>\n",
       "    <tr>\n",
       "      <th>41543</th>\n",
       "      <td>34</td>\n",
       "      <td>1</td>\n",
       "      <td>1</td>\n",
       "      <td>2</td>\n",
       "      <td>31444</td>\n",
       "      <td>88</td>\n",
       "      <td>Queensland</td>\n",
       "      <td>0</td>\n",
       "      <td>60</td>\n",
       "    </tr>\n",
       "  </tbody>\n",
       "</table>\n",
       "<p>41544 rows × 9 columns</p>\n",
       "</div>"
      ],
      "text/plain": [
       "       AGE  GENDER  ANYWORK  HH_CARS  SA2_code  PopDensity_SA2       STATE  \\\n",
       "0       40       2        1        0     21001             158    Victoria   \n",
       "1       73       1        2        1     21001             158    Victoria   \n",
       "2       85       2        2        1     21001             158    Victoria   \n",
       "3       34       2        1        1     21001             158    Victoria   \n",
       "4       68       1        2        2     21001             158    Victoria   \n",
       "...    ...     ...      ...      ...       ...             ...         ...   \n",
       "41539   64       2        2        1     31444              88  Queensland   \n",
       "41540   50       2        1        2     31444              88  Queensland   \n",
       "41541   52       1        1        2     31444              88  Queensland   \n",
       "41542   34       2        1        2     31444              88  Queensland   \n",
       "41543   34       1        1        2     31444              88  Queensland   \n",
       "\n",
       "       ACTIVE_TRAVEL_TIME  CAR_TIME  \n",
       "0                       0        35  \n",
       "1                       0       100  \n",
       "2                       0        35  \n",
       "3                       0        79  \n",
       "4                       0        97  \n",
       "...                   ...       ...  \n",
       "41539                   0        77  \n",
       "41540                   0        42  \n",
       "41541                   0        60  \n",
       "41542                   0        70  \n",
       "41543                   0        60  \n",
       "\n",
       "[41544 rows x 9 columns]"
      ]
     },
     "execution_count": 5,
     "metadata": {},
     "output_type": "execute_result"
    }
   ],
   "source": [
    "df"
   ]
  },
  {
   "cell_type": "code",
   "execution_count": 6,
   "metadata": {},
   "outputs": [],
   "source": [
    "df1 = df.copy()"
   ]
  },
  {
   "cell_type": "code",
   "execution_count": 7,
   "metadata": {},
   "outputs": [],
   "source": [
    "# Naming the 1,0\n",
    "\n",
    "df1.loc[(df1.GENDER == 1),\"GENDER\"] = \"MALE\"\n",
    "df1.loc[(df1.GENDER == 2),\"GENDER\"] = \"FEMALE\"\n",
    "df1.loc[(df1.ANYWORK == 1),\"ANYWORK\"] = \"YES\"\n",
    "df1.loc[(df1.ANYWORK == 2),\"ANYWORK\"] = \"NO\""
   ]
  },
  {
   "cell_type": "code",
   "execution_count": 8,
   "metadata": {
    "scrolled": false
   },
   "outputs": [
    {
     "data": {
      "text/html": [
       "<div>\n",
       "<style scoped>\n",
       "    .dataframe tbody tr th:only-of-type {\n",
       "        vertical-align: middle;\n",
       "    }\n",
       "\n",
       "    .dataframe tbody tr th {\n",
       "        vertical-align: top;\n",
       "    }\n",
       "\n",
       "    .dataframe thead th {\n",
       "        text-align: right;\n",
       "    }\n",
       "</style>\n",
       "<table border=\"1\" class=\"dataframe\">\n",
       "  <thead>\n",
       "    <tr style=\"text-align: right;\">\n",
       "      <th></th>\n",
       "      <th>AGE</th>\n",
       "      <th>GENDER</th>\n",
       "      <th>ANYWORK</th>\n",
       "      <th>HH_CARS</th>\n",
       "      <th>SA2_code</th>\n",
       "      <th>PopDensity_SA2</th>\n",
       "      <th>STATE</th>\n",
       "      <th>ACTIVE_TRAVEL_TIME</th>\n",
       "      <th>CAR_TIME</th>\n",
       "    </tr>\n",
       "  </thead>\n",
       "  <tbody>\n",
       "    <tr>\n",
       "      <th>0</th>\n",
       "      <td>40</td>\n",
       "      <td>FEMALE</td>\n",
       "      <td>YES</td>\n",
       "      <td>0</td>\n",
       "      <td>21001</td>\n",
       "      <td>158</td>\n",
       "      <td>Victoria</td>\n",
       "      <td>0</td>\n",
       "      <td>35</td>\n",
       "    </tr>\n",
       "    <tr>\n",
       "      <th>1</th>\n",
       "      <td>73</td>\n",
       "      <td>MALE</td>\n",
       "      <td>NO</td>\n",
       "      <td>1</td>\n",
       "      <td>21001</td>\n",
       "      <td>158</td>\n",
       "      <td>Victoria</td>\n",
       "      <td>0</td>\n",
       "      <td>100</td>\n",
       "    </tr>\n",
       "    <tr>\n",
       "      <th>2</th>\n",
       "      <td>85</td>\n",
       "      <td>FEMALE</td>\n",
       "      <td>NO</td>\n",
       "      <td>1</td>\n",
       "      <td>21001</td>\n",
       "      <td>158</td>\n",
       "      <td>Victoria</td>\n",
       "      <td>0</td>\n",
       "      <td>35</td>\n",
       "    </tr>\n",
       "    <tr>\n",
       "      <th>3</th>\n",
       "      <td>34</td>\n",
       "      <td>FEMALE</td>\n",
       "      <td>YES</td>\n",
       "      <td>1</td>\n",
       "      <td>21001</td>\n",
       "      <td>158</td>\n",
       "      <td>Victoria</td>\n",
       "      <td>0</td>\n",
       "      <td>79</td>\n",
       "    </tr>\n",
       "    <tr>\n",
       "      <th>4</th>\n",
       "      <td>68</td>\n",
       "      <td>MALE</td>\n",
       "      <td>NO</td>\n",
       "      <td>2</td>\n",
       "      <td>21001</td>\n",
       "      <td>158</td>\n",
       "      <td>Victoria</td>\n",
       "      <td>0</td>\n",
       "      <td>97</td>\n",
       "    </tr>\n",
       "    <tr>\n",
       "      <th>...</th>\n",
       "      <td>...</td>\n",
       "      <td>...</td>\n",
       "      <td>...</td>\n",
       "      <td>...</td>\n",
       "      <td>...</td>\n",
       "      <td>...</td>\n",
       "      <td>...</td>\n",
       "      <td>...</td>\n",
       "      <td>...</td>\n",
       "    </tr>\n",
       "    <tr>\n",
       "      <th>41539</th>\n",
       "      <td>64</td>\n",
       "      <td>FEMALE</td>\n",
       "      <td>NO</td>\n",
       "      <td>1</td>\n",
       "      <td>31444</td>\n",
       "      <td>88</td>\n",
       "      <td>Queensland</td>\n",
       "      <td>0</td>\n",
       "      <td>77</td>\n",
       "    </tr>\n",
       "    <tr>\n",
       "      <th>41540</th>\n",
       "      <td>50</td>\n",
       "      <td>FEMALE</td>\n",
       "      <td>YES</td>\n",
       "      <td>2</td>\n",
       "      <td>31444</td>\n",
       "      <td>88</td>\n",
       "      <td>Queensland</td>\n",
       "      <td>0</td>\n",
       "      <td>42</td>\n",
       "    </tr>\n",
       "    <tr>\n",
       "      <th>41541</th>\n",
       "      <td>52</td>\n",
       "      <td>MALE</td>\n",
       "      <td>YES</td>\n",
       "      <td>2</td>\n",
       "      <td>31444</td>\n",
       "      <td>88</td>\n",
       "      <td>Queensland</td>\n",
       "      <td>0</td>\n",
       "      <td>60</td>\n",
       "    </tr>\n",
       "    <tr>\n",
       "      <th>41542</th>\n",
       "      <td>34</td>\n",
       "      <td>FEMALE</td>\n",
       "      <td>YES</td>\n",
       "      <td>2</td>\n",
       "      <td>31444</td>\n",
       "      <td>88</td>\n",
       "      <td>Queensland</td>\n",
       "      <td>0</td>\n",
       "      <td>70</td>\n",
       "    </tr>\n",
       "    <tr>\n",
       "      <th>41543</th>\n",
       "      <td>34</td>\n",
       "      <td>MALE</td>\n",
       "      <td>YES</td>\n",
       "      <td>2</td>\n",
       "      <td>31444</td>\n",
       "      <td>88</td>\n",
       "      <td>Queensland</td>\n",
       "      <td>0</td>\n",
       "      <td>60</td>\n",
       "    </tr>\n",
       "  </tbody>\n",
       "</table>\n",
       "<p>41544 rows × 9 columns</p>\n",
       "</div>"
      ],
      "text/plain": [
       "       AGE  GENDER ANYWORK  HH_CARS  SA2_code  PopDensity_SA2       STATE  \\\n",
       "0       40  FEMALE     YES        0     21001             158    Victoria   \n",
       "1       73    MALE      NO        1     21001             158    Victoria   \n",
       "2       85  FEMALE      NO        1     21001             158    Victoria   \n",
       "3       34  FEMALE     YES        1     21001             158    Victoria   \n",
       "4       68    MALE      NO        2     21001             158    Victoria   \n",
       "...    ...     ...     ...      ...       ...             ...         ...   \n",
       "41539   64  FEMALE      NO        1     31444              88  Queensland   \n",
       "41540   50  FEMALE     YES        2     31444              88  Queensland   \n",
       "41541   52    MALE     YES        2     31444              88  Queensland   \n",
       "41542   34  FEMALE     YES        2     31444              88  Queensland   \n",
       "41543   34    MALE     YES        2     31444              88  Queensland   \n",
       "\n",
       "       ACTIVE_TRAVEL_TIME  CAR_TIME  \n",
       "0                       0        35  \n",
       "1                       0       100  \n",
       "2                       0        35  \n",
       "3                       0        79  \n",
       "4                       0        97  \n",
       "...                   ...       ...  \n",
       "41539                   0        77  \n",
       "41540                   0        42  \n",
       "41541                   0        60  \n",
       "41542                   0        70  \n",
       "41543                   0        60  \n",
       "\n",
       "[41544 rows x 9 columns]"
      ]
     },
     "execution_count": 8,
     "metadata": {},
     "output_type": "execute_result"
    }
   ],
   "source": [
    "df1"
   ]
  },
  {
   "cell_type": "code",
   "execution_count": 9,
   "metadata": {},
   "outputs": [],
   "source": [
    "# Setting the age range"
   ]
  },
  {
   "cell_type": "code",
   "execution_count": 10,
   "metadata": {},
   "outputs": [],
   "source": [
    "bins=[18, 29, 39, 49, 59, 69, 79, 89, 101]\n",
    "labels = ['18-29', '30-39', '40-49', '50-59', '60-69', '70-79','80-89','90 +']\n",
    "df1['AGE_RANGE'] = pd.cut(df1['AGE'],bins,labels = labels, include_lowest = True)"
   ]
  },
  {
   "cell_type": "code",
   "execution_count": 11,
   "metadata": {
    "scrolled": false
   },
   "outputs": [
    {
     "data": {
      "image/png": "[encoded data removed]",
      "text/plain": [
       "<Figure size 720x504 with 1 Axes>"
      ]
     },
     "metadata": {},
     "output_type": "display_data"
    }
   ],
   "source": [
    "plt.figure(figsize=(10,7))\n",
    "sns.barplot(x = \"AGE_RANGE\" ,y = \"ACTIVE_TRAVEL_TIME\", data = df1)\n",
    "plt.ylabel('Minutes Travelled (Average)') , plt.xlabel('AGE RANGE')\n",
    "plt.title(\"Age Ranges based on the active travel time\")\n",
    "plt.show()"
   ]
  },
  {
   "cell_type": "code",
   "execution_count": 12,
   "metadata": {},
   "outputs": [
    {
     "data": {
      "image/png": "[encoded data removed]",
      "text/plain": [
       "<Figure size 504x216 with 1 Axes>"
      ]
     },
     "metadata": {},
     "output_type": "display_data"
    }
   ],
   "source": [
    "f, ax = plt.subplots(figsize=(7, 3))\n",
    "sns.countplot(y=\"GENDER\", data=df1, color=\"g\");"
   ]
  },
  {
   "cell_type": "code",
   "execution_count": 13,
   "metadata": {},
   "outputs": [
    {
     "data": {
      "image/png": "[encoded data removed]",
      "text/plain": [
       "<Figure size 504x216 with 1 Axes>"
      ]
     },
     "metadata": {},
     "output_type": "display_data"
    }
   ],
   "source": [
    "f, ax = plt.subplots(figsize=(7, 3))\n",
    "sns.countplot(y=\"ANYWORK\", data=df1,color=\"c\");"
   ]
  },
  {
   "cell_type": "code",
   "execution_count": 14,
   "metadata": {
    "scrolled": false
   },
   "outputs": [
    {
     "data": {
      "image/png": "[encoded data removed]",
      "text/plain": [
       "<Figure size 504x216 with 1 Axes>"
      ]
     },
     "metadata": {},
     "output_type": "display_data"
    }
   ],
   "source": [
    "f, ax = plt.subplots(figsize=(7, 3))\n",
    "sns.countplot(y=\"ANYWORK\", data=df1, hue='GENDER',color=\"c\");"
   ]
  },
  {
   "cell_type": "code",
   "execution_count": 15,
   "metadata": {
    "scrolled": false
   },
   "outputs": [
    {
     "data": {
      "image/png": "[encoded data removed]",
      "text/plain": [
       "<Figure size 720x504 with 1 Axes>"
      ]
     },
     "metadata": {},
     "output_type": "display_data"
    }
   ],
   "source": [
    "plt.figure(figsize=(10,7))\n",
    "sns.barplot(x = \"GENDER\" ,y = \"ACTIVE_TRAVEL_TIME\", data = df1)\n",
    "plt.ylabel('Minutes Travelled (Average)') , plt.xlabel('Gender')\n",
    "plt.title(\"Age Ranges based on the active travel time\")\n",
    "plt.show()"
   ]
  },
  {
   "cell_type": "code",
   "execution_count": 16,
   "metadata": {},
   "outputs": [
    {
     "data": {
      "image/png": "[encoded data removed]",
      "text/plain": [
       "<Figure size 720x504 with 1 Axes>"
      ]
     },
     "metadata": {},
     "output_type": "display_data"
    }
   ],
   "source": [
    "plt.figure(figsize=(10,7))\n",
    "sns.barplot(x = \"GENDER\" ,y = \"CAR_TIME\", data = df1)\n",
    "plt.ylabel('Car travel in minutes (Average)') , plt.xlabel('Gender')\n",
    "plt.title(\"Age Ranges based on the car time\")\n",
    "plt.show()"
   ]
  },
  {
   "cell_type": "code",
   "execution_count": 17,
   "metadata": {},
   "outputs": [
    {
     "data": {
      "image/png": "[encoded data removed]",
      "text/plain": [
       "<Figure size 720x504 with 1 Axes>"
      ]
     },
     "metadata": {},
     "output_type": "display_data"
    }
   ],
   "source": [
    "plt.figure(figsize=(10,7))\n",
    "sns.barplot(x = \"STATE\" ,y = \"ACTIVE_TRAVEL_TIME\", data = df1)\n",
    "plt.ylabel('Active travel time in minutes (Average)') , plt.xlabel('State')\n",
    "plt.title(\"States based on the active travel time\")\n",
    "plt.show()"
   ]
  },
  {
   "cell_type": "code",
   "execution_count": 18,
   "metadata": {
    "scrolled": false
   },
   "outputs": [
    {
     "data": {
      "image/png": "[encoded data removed]",
      "text/plain": [
       "<Figure size 720x504 with 1 Axes>"
      ]
     },
     "metadata": {},
     "output_type": "display_data"
    }
   ],
   "source": [
    "plt.figure(figsize=(10,7))\n",
    "sns.barplot(x = \"STATE\" ,y = \"CAR_TIME\", data = df1)\n",
    "plt.ylabel('Car travel time in minutes (Average)') , plt.xlabel('State')\n",
    "plt.title(\"States based on the car travel time\")\n",
    "plt.show()"
   ]
  },
  {
   "cell_type": "code",
   "execution_count": 19,
   "metadata": {
    "scrolled": true
   },
   "outputs": [
    {
     "data": {
      "image/png": "[encoded data removed]",
      "text/plain": [
       "<Figure size 504x216 with 1 Axes>"
      ]
     },
     "metadata": {},
     "output_type": "display_data"
    }
   ],
   "source": [
    "f, ax = plt.subplots(figsize=(7, 3))\n",
    "sns.countplot(y=\"STATE\", data=df1,color=\"c\");"
   ]
  },
  {
   "cell_type": "markdown",
   "metadata": {},
   "source": [
    "#Number of victorians are more in the record"
   ]
  },
  {
   "cell_type": "code",
   "execution_count": null,
   "metadata": {},
   "outputs": [],
   "source": []
  },
  {
   "cell_type": "code",
   "execution_count": null,
   "metadata": {},
   "outputs": [],
   "source": []
  }
 ],
 "metadata": {
  "kernelspec": {
   "display_name": "Python 3",
   "language": "python",
   "name": "python3"
  },
  "language_info": {
   "codemirror_mode": {
    "name": "ipython",
    "version": 3
   },
   "file_extension": ".py",
   "mimetype": "text/x-python",
   "name": "python",
   "nbconvert_exporter": "python",
   "pygments_lexer": "ipython3",
   "version": "3.7.7"
  }
 },
 "nbformat": 4,
 "nbformat_minor": 4
}
